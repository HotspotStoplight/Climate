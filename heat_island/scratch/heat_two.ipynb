{
 "cells": [
  {
   "cell_type": "code",
   "execution_count": 1,
   "metadata": {},
   "outputs": [],
   "source": [
    "import ee\n",
    "import geemap\n",
    "import colorcet as cc"
   ]
  },
  {
   "cell_type": "code",
   "execution_count": 2,
   "metadata": {},
   "outputs": [
    {
     "data": {
      "text/html": [
       "\n",
       "            <style>\n",
       "                .geemap-dark {\n",
       "                    --jp-widgets-color: white;\n",
       "                    --jp-widgets-label-color: white;\n",
       "                    --jp-ui-font-color1: white;\n",
       "                    --jp-layout-color2: #454545;\n",
       "                    background-color: #383838;\n",
       "                }\n",
       "                    \n",
       "                .geemap-dark .jupyter-button {\n",
       "                    --jp-layout-color3: #383838;\n",
       "                }\n",
       "                \n",
       "                .geemap-colab {\n",
       "                    background-color: var(--colab-primary-surface-color, white);\n",
       "                }\n",
       "                    \n",
       "                .geemap-colab .jupyter-button {\n",
       "                    --jp-layout-color3: var(--colab-primary-surface-color, white);\n",
       "                }\n",
       "            </style>\n",
       "            "
      ],
      "text/plain": [
       "<IPython.core.display.HTML object>"
      ]
     },
     "metadata": {},
     "output_type": "display_data"
    },
    {
     "data": {
      "text/plain": [
       "True"
      ]
     },
     "execution_count": 2,
     "metadata": {},
     "output_type": "execute_result"
    }
   ],
   "source": [
    "ee.Authenticate()"
   ]
  },
  {
   "cell_type": "code",
   "execution_count": 3,
   "metadata": {},
   "outputs": [
    {
     "data": {
      "text/html": [
       "\n",
       "            <style>\n",
       "                .geemap-dark {\n",
       "                    --jp-widgets-color: white;\n",
       "                    --jp-widgets-label-color: white;\n",
       "                    --jp-ui-font-color1: white;\n",
       "                    --jp-layout-color2: #454545;\n",
       "                    background-color: #383838;\n",
       "                }\n",
       "                    \n",
       "                .geemap-dark .jupyter-button {\n",
       "                    --jp-layout-color3: #383838;\n",
       "                }\n",
       "                \n",
       "                .geemap-colab {\n",
       "                    background-color: var(--colab-primary-surface-color, white);\n",
       "                }\n",
       "                    \n",
       "                .geemap-colab .jupyter-button {\n",
       "                    --jp-layout-color3: var(--colab-primary-surface-color, white);\n",
       "                }\n",
       "            </style>\n",
       "            "
      ],
      "text/plain": [
       "<IPython.core.display.HTML object>"
      ]
     },
     "metadata": {},
     "output_type": "display_data"
    }
   ],
   "source": [
    "ee.Initialize(project=\"hotspotstoplight\")"
   ]
  },
  {
   "cell_type": "markdown",
   "metadata": {},
   "source": [
    "Maybe update this to use five year summer median composite, per this workflow? Has really good references: https://google-earth-engine.com/Human-Applications/Heat-Islands/"
   ]
  },
  {
   "cell_type": "code",
   "execution_count": 4,
   "metadata": {},
   "outputs": [
    {
     "data": {
      "text/html": [
       "\n",
       "            <style>\n",
       "                .geemap-dark {\n",
       "                    --jp-widgets-color: white;\n",
       "                    --jp-widgets-label-color: white;\n",
       "                    --jp-ui-font-color1: white;\n",
       "                    --jp-layout-color2: #454545;\n",
       "                    background-color: #383838;\n",
       "                }\n",
       "                    \n",
       "                .geemap-dark .jupyter-button {\n",
       "                    --jp-layout-color3: #383838;\n",
       "                }\n",
       "                \n",
       "                .geemap-colab {\n",
       "                    background-color: var(--colab-primary-surface-color, white);\n",
       "                }\n",
       "                    \n",
       "                .geemap-colab .jupyter-button {\n",
       "                    --jp-layout-color3: var(--colab-primary-surface-color, white);\n",
       "                }\n",
       "            </style>\n",
       "            "
      ],
      "text/plain": [
       "<IPython.core.display.HTML object>"
      ]
     },
     "metadata": {},
     "output_type": "display_data"
    }
   ],
   "source": [
    "aoi = ee.FeatureCollection(\"FAO/GAUL_SIMPLIFIED_500m/2015/level1\").filter(\n",
    "    ee.Filter.eq(\"ADM1_NAME\", \"Daerah Istimewa Yogyakarta\")\n",
    ")"
   ]
  },
  {
   "cell_type": "code",
   "execution_count": 5,
   "metadata": {},
   "outputs": [
    {
     "data": {
      "text/html": [
       "\n",
       "            <style>\n",
       "                .geemap-dark {\n",
       "                    --jp-widgets-color: white;\n",
       "                    --jp-widgets-label-color: white;\n",
       "                    --jp-ui-font-color1: white;\n",
       "                    --jp-layout-color2: #454545;\n",
       "                    background-color: #383838;\n",
       "                }\n",
       "                    \n",
       "                .geemap-dark .jupyter-button {\n",
       "                    --jp-layout-color3: #383838;\n",
       "                }\n",
       "                \n",
       "                .geemap-colab {\n",
       "                    background-color: var(--colab-primary-surface-color, white);\n",
       "                }\n",
       "                    \n",
       "                .geemap-colab .jupyter-button {\n",
       "                    --jp-layout-color3: var(--colab-primary-surface-color, white);\n",
       "                }\n",
       "            </style>\n",
       "            "
      ],
      "text/plain": [
       "<IPython.core.display.HTML object>"
      ]
     },
     "metadata": {},
     "output_type": "display_data"
    }
   ],
   "source": [
    "startDate = \"2023-06-01\"\n",
    "endDate = \"2023-09-21\""
   ]
  },
  {
   "cell_type": "code",
   "execution_count": 6,
   "metadata": {},
   "outputs": [
    {
     "data": {
      "text/html": [
       "\n",
       "            <style>\n",
       "                .geemap-dark {\n",
       "                    --jp-widgets-color: white;\n",
       "                    --jp-widgets-label-color: white;\n",
       "                    --jp-ui-font-color1: white;\n",
       "                    --jp-layout-color2: #454545;\n",
       "                    background-color: #383838;\n",
       "                }\n",
       "                    \n",
       "                .geemap-dark .jupyter-button {\n",
       "                    --jp-layout-color3: #383838;\n",
       "                }\n",
       "                \n",
       "                .geemap-colab {\n",
       "                    background-color: var(--colab-primary-surface-color, white);\n",
       "                }\n",
       "                    \n",
       "                .geemap-colab .jupyter-button {\n",
       "                    --jp-layout-color3: var(--colab-primary-surface-color, white);\n",
       "                }\n",
       "            </style>\n",
       "            "
      ],
      "text/plain": [
       "<IPython.core.display.HTML object>"
      ]
     },
     "metadata": {},
     "output_type": "display_data"
    }
   ],
   "source": [
    "# Applies scaling factors.\n",
    "def apply_scale_factors(image):\n",
    "    # Scale and offset values for optical bands\n",
    "    optical_bands = image.select(\"SR_B.\").multiply(0.0000275).add(-0.2)\n",
    "\n",
    "    # Scale and offset values for thermal bands\n",
    "    thermal_bands = image.select(\"ST_B.*\").multiply(0.00341802).add(149.0)\n",
    "\n",
    "    # Add scaled bands to the original image\n",
    "    return image.addBands(optical_bands, None, True).addBands(thermal_bands, None, True)\n",
    "\n",
    "\n",
    "# Function to Mask Clouds and Cloud Shadows in Landsat 8 Imagery\n",
    "def cloud_mask(image):\n",
    "    # Define cloud shadow and cloud bitmasks (Bits 3 and 5)\n",
    "    cloud_shadow_bitmask = 1 << 3\n",
    "    cloud_bitmask = 1 << 5\n",
    "\n",
    "    # Select the Quality Assessment (QA) band for pixel quality information\n",
    "    qa = image.select(\"QA_PIXEL\")\n",
    "\n",
    "    # Create a binary mask to identify clear conditions (both cloud and cloud shadow bits set to 0)\n",
    "    mask = (\n",
    "        qa.bitwiseAnd(cloud_shadow_bitmask)\n",
    "        .eq(0)\n",
    "        .And(qa.bitwiseAnd(cloud_bitmask).eq(0))\n",
    "    )\n",
    "\n",
    "    # Update the original image, masking out cloud and cloud shadow-affected pixels\n",
    "    return image.updateMask(mask)"
   ]
  },
  {
   "cell_type": "code",
   "execution_count": 7,
   "metadata": {},
   "outputs": [
    {
     "data": {
      "text/html": [
       "\n",
       "            <style>\n",
       "                .geemap-dark {\n",
       "                    --jp-widgets-color: white;\n",
       "                    --jp-widgets-label-color: white;\n",
       "                    --jp-ui-font-color1: white;\n",
       "                    --jp-layout-color2: #454545;\n",
       "                    background-color: #383838;\n",
       "                }\n",
       "                    \n",
       "                .geemap-dark .jupyter-button {\n",
       "                    --jp-layout-color3: #383838;\n",
       "                }\n",
       "                \n",
       "                .geemap-colab {\n",
       "                    background-color: var(--colab-primary-surface-color, white);\n",
       "                }\n",
       "                    \n",
       "                .geemap-colab .jupyter-button {\n",
       "                    --jp-layout-color3: var(--colab-primary-surface-color, white);\n",
       "                }\n",
       "            </style>\n",
       "            "
      ],
      "text/plain": [
       "<IPython.core.display.HTML object>"
      ]
     },
     "metadata": {},
     "output_type": "display_data"
    }
   ],
   "source": [
    "# Import and preprocess Landsat 8 imagery\n",
    "image = (\n",
    "    ee.ImageCollection(\"LANDSAT/LC08/C02/T1_L2\")\n",
    "    .filterBounds(aoi)\n",
    "    .filterDate(startDate, endDate)\n",
    "    .map(apply_scale_factors)\n",
    "    .map(cloud_mask)\n",
    "    .median()\n",
    "    .clip(aoi)\n",
    ")\n",
    "\n",
    "# Calculate Normalized Difference Vegetation Index (NDVI)\n",
    "ndvi = image.normalizedDifference([\"SR_B5\", \"SR_B4\"]).rename(\"NDVI\")\n",
    "\n",
    "# Calculate the minimum and maximum NDVI value within the AOI\n",
    "ndvi_min = ee.Number(ndvi.reduceRegion(ee.Reducer.min(), aoi, 30).values().get(0))\n",
    "ndvi_max = ee.Number(ndvi.reduceRegion(ee.Reducer.max(), aoi, 30).values().get(0))\n",
    "\n",
    "# Fraction of Vegetation (FV) Calculation\n",
    "fv = ndvi.subtract(ndvi_min).divide(ndvi_max.subtract(ndvi_min)).pow(2).rename(\"FV\")\n",
    "\n",
    "# Emissivity Calculation\n",
    "em = fv.multiply(ee.Number(0.004)).add(ee.Number(0.986)).rename(\"EM\")\n",
    "\n",
    "# Select Thermal Band (Band 10) and Rename It\n",
    "thermal = image.select(\"ST_B10\").rename(\"thermal\")\n",
    "\n",
    "# Land Surface Temperature (LST) Calculation\n",
    "lst = thermal.expression(\n",
    "    \"(TB / (1 + (0.00115 * (TB / 1.438)) * log(em))) - 273.15\",\n",
    "    {\n",
    "        \"TB\": thermal.select(\"thermal\"),  # Select the thermal band\n",
    "        \"em\": em,  # Assign emissivity\n",
    "    },\n",
    ").rename(\"LST\")"
   ]
  },
  {
   "cell_type": "code",
   "execution_count": 9,
   "metadata": {},
   "outputs": [
    {
     "data": {
      "text/html": [
       "\n",
       "            <style>\n",
       "                .geemap-dark {\n",
       "                    --jp-widgets-color: white;\n",
       "                    --jp-widgets-label-color: white;\n",
       "                    --jp-ui-font-color1: white;\n",
       "                    --jp-layout-color2: #454545;\n",
       "                    background-color: #383838;\n",
       "                }\n",
       "                    \n",
       "                .geemap-dark .jupyter-button {\n",
       "                    --jp-layout-color3: #383838;\n",
       "                }\n",
       "                \n",
       "                .geemap-colab {\n",
       "                    background-color: var(--colab-primary-surface-color, white);\n",
       "                }\n",
       "                    \n",
       "                .geemap-colab .jupyter-button {\n",
       "                    --jp-layout-color3: var(--colab-primary-surface-color, white);\n",
       "                }\n",
       "            </style>\n",
       "            "
      ],
      "text/plain": [
       "<IPython.core.display.HTML object>"
      ]
     },
     "metadata": {},
     "output_type": "display_data"
    },
    {
     "data": {
      "application/vnd.jupyter.widget-view+json": {
       "model_id": "2089a1715cf34db5be7f46b6b53aff39",
       "version_major": 2,
       "version_minor": 0
      },
      "text/plain": [
       "Map(center=[-7.894577385263086, 110.4473379167677], controls=(WidgetControl(options=['position', 'transparent_…"
      ]
     },
     "execution_count": 9,
     "metadata": {},
     "output_type": "execute_result"
    }
   ],
   "source": [
    "Map = geemap.Map()\n",
    "Map.addLayer(aoi, {}, \"AOI - Yogyakarta\")\n",
    "Map.centerObject(aoi, 10)\n",
    "\n",
    "# Define visualization parameters for True Color imagery (bands 4, 3, and 2)\n",
    "visualization = {\n",
    "    \"bands\": [\"SR_B4\", \"SR_B3\", \"SR_B2\"],\n",
    "    \"min\": 0.0,\n",
    "    \"max\": 0.15,\n",
    "}\n",
    "\n",
    "Map.addLayer(image, visualization, \"True Color 432\")\n",
    "\n",
    "# Define NDVI Visualization Parameters\n",
    "ndvi_palette = {\"min\": -1, \"max\": 1, \"palette\": [\"blue\", \"white\", \"green\"]}\n",
    "\n",
    "Map.addLayer(ndvi, ndvi_palette, \"NDVI\")\n",
    "\n",
    "# Add the LST Layer to the Map with Custom Visualization Parameters\n",
    "Map.addLayer(\n",
    "    lst,\n",
    "    {\n",
    "        \"min\": 18.47,\n",
    "        \"max\": 42.86,\n",
    "        \"palette\": [\n",
    "            \"040274\",\n",
    "            \"040281\",\n",
    "            \"0502a3\",\n",
    "            \"0502b8\",\n",
    "            \"0502ce\",\n",
    "            \"0502e6\",\n",
    "            \"0602ff\",\n",
    "            \"235cb1\",\n",
    "            \"307ef3\",\n",
    "            \"269db1\",\n",
    "            \"30c8e2\",\n",
    "            \"32d3ef\",\n",
    "            \"3be285\",\n",
    "            \"3ff38f\",\n",
    "            \"86e26f\",\n",
    "            \"3ae237\",\n",
    "            \"b5e22e\",\n",
    "            \"d6e21f\",\n",
    "            \"fff705\",\n",
    "            \"ffd611\",\n",
    "            \"ffb613\",\n",
    "            \"ff8b13\",\n",
    "            \"ff6e08\",\n",
    "            \"ff500d\",\n",
    "            \"ff0000\",\n",
    "            \"de0101\",\n",
    "            \"c21301\",\n",
    "            \"a71001\",\n",
    "            \"911003\",\n",
    "        ],\n",
    "    },\n",
    "    \"Land Surface Temperature 2023\",\n",
    ")\n",
    "Map"
   ]
  }
 ],
 "metadata": {
  "kernelspec": {
   "display_name": ".venv",
   "language": "python",
   "name": "python3"
  },
  "language_info": {
   "codemirror_mode": {
    "name": "ipython",
    "version": 3
   },
   "file_extension": ".py",
   "mimetype": "text/x-python",
   "name": "python",
   "nbconvert_exporter": "python",
   "pygments_lexer": "ipython3",
   "version": "3.9.1"
  }
 },
 "nbformat": 4,
 "nbformat_minor": 2
}
