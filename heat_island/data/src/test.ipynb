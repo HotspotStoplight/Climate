{
 "cells": [
  {
   "cell_type": "code",
   "execution_count": 1,
   "metadata": {},
   "outputs": [],
   "source": [
    "import ee\n",
    "import colorcet\n",
    "from matplotlib.cm import get_cmap\n",
    "import geemap\n",
    "\n",
    "ee.Initialize(project=\"hotspotstoplight\")"
   ]
  },
  {
   "cell_type": "code",
   "execution_count": 2,
   "metadata": {},
   "outputs": [
    {
     "data": {
      "text/html": [
       "\n",
       "            <style>\n",
       "                .geemap-dark {\n",
       "                    --jp-widgets-color: white;\n",
       "                    --jp-widgets-label-color: white;\n",
       "                    --jp-ui-font-color1: white;\n",
       "                    --jp-layout-color2: #454545;\n",
       "                    background-color: #383838;\n",
       "                }\n",
       "                    \n",
       "                .geemap-dark .jupyter-button {\n",
       "                    --jp-layout-color3: #383838;\n",
       "                }\n",
       "                \n",
       "                .geemap-colab {\n",
       "                    background-color: var(--colab-primary-surface-color, white);\n",
       "                }\n",
       "                    \n",
       "                .geemap-colab .jupyter-button {\n",
       "                    --jp-layout-color3: var(--colab-primary-surface-color, white);\n",
       "                }\n",
       "            </style>\n",
       "            "
      ],
      "text/plain": [
       "<IPython.core.display.HTML object>"
      ]
     },
     "metadata": {},
     "output_type": "display_data"
    }
   ],
   "source": [
    "URL = \"gs://hotspotstoplight_heatmapping/data/costa_rica/outputs/predicted.tif\"\n",
    "image = geemap.load_GeoTIFF(URL)"
   ]
  },
  {
   "cell_type": "code",
   "execution_count": 3,
   "metadata": {},
   "outputs": [
    {
     "data": {
      "text/html": [
       "\n",
       "            <style>\n",
       "                .geemap-dark {\n",
       "                    --jp-widgets-color: white;\n",
       "                    --jp-widgets-label-color: white;\n",
       "                    --jp-ui-font-color1: white;\n",
       "                    --jp-layout-color2: #454545;\n",
       "                    background-color: #383838;\n",
       "                }\n",
       "                    \n",
       "                .geemap-dark .jupyter-button {\n",
       "                    --jp-layout-color3: #383838;\n",
       "                }\n",
       "                \n",
       "                .geemap-colab {\n",
       "                    background-color: var(--colab-primary-surface-color, white);\n",
       "                }\n",
       "                    \n",
       "                .geemap-colab .jupyter-button {\n",
       "                    --jp-layout-color3: var(--colab-primary-surface-color, white);\n",
       "                }\n",
       "            </style>\n",
       "            "
      ],
      "text/plain": [
       "<IPython.core.display.HTML object>"
      ]
     },
     "metadata": {},
     "output_type": "display_data"
    }
   ],
   "source": [
    "jrc = ee.Image(\"JRC/GSW1_0/GlobalSurfaceWater\").select(\"seasonality\")\n",
    "water = jrc.select(\"seasonality\").gte(10)\n",
    "image = image.where(water, 0)"
   ]
  },
  {
   "cell_type": "code",
   "execution_count": 5,
   "metadata": {},
   "outputs": [
    {
     "data": {
      "text/html": [
       "\n",
       "            <style>\n",
       "                .geemap-dark {\n",
       "                    --jp-widgets-color: white;\n",
       "                    --jp-widgets-label-color: white;\n",
       "                    --jp-ui-font-color1: white;\n",
       "                    --jp-layout-color2: #454545;\n",
       "                    background-color: #383838;\n",
       "                }\n",
       "                    \n",
       "                .geemap-dark .jupyter-button {\n",
       "                    --jp-layout-color3: #383838;\n",
       "                }\n",
       "                \n",
       "                .geemap-colab {\n",
       "                    background-color: var(--colab-primary-surface-color, white);\n",
       "                }\n",
       "                    \n",
       "                .geemap-colab .jupyter-button {\n",
       "                    --jp-layout-color3: var(--colab-primary-surface-color, white);\n",
       "                }\n",
       "            </style>\n",
       "            "
      ],
      "text/plain": [
       "<IPython.core.display.HTML object>"
      ]
     },
     "metadata": {},
     "output_type": "display_data"
    },
    {
     "data": {
      "application/vnd.jupyter.widget-view+json": {
       "model_id": "6ab5c65f2739484fb913b42581a63929",
       "version_major": 2,
       "version_minor": 0
      },
      "text/plain": [
       "Map(center=[8.354476285325944, -84.82328595569315], controls=(WidgetControl(options=['position', 'transparent_…"
      ]
     },
     "execution_count": 5,
     "metadata": {},
     "output_type": "execute_result"
    }
   ],
   "source": [
    "vizParamsLST = {\"min\": 0, \"max\": 50, \"palette\": colorcet.coolwarm}\n",
    "\n",
    "viz_params_pop = {\"min\": 0, \"max\": 1, \"palette\": colorcet.gwv}\n",
    "\n",
    "viz_params_vuln = {\"min\": -7, \"max\": 17, \"palette\": colorcet.bmy}\n",
    "\n",
    "elevationPalette = [\"006600\", \"002200\", \"fff700\", \"ab7634\", \"c4d0ff\", \"ffffff\"]\n",
    "visParams = {\"min\": 1, \"max\": 3000, \"palette\": elevationPalette}\n",
    "\n",
    "Map = geemap.Map()\n",
    "Map.add(\"layer_manager\")\n",
    "Map.add(\"basemap_selector\")\n",
    "\n",
    "geometry = image.geometry()\n",
    "Map.centerObject(geometry, 8)\n",
    "Map.addLayer(image, vizParamsLST, \"Predicted LST\")\n",
    "# Map.addLayer(exp, viz_params_pop, \"Exposure Data\")\n",
    "# Map.addLayer(vuln, viz_params_vuln, \"Vulnerability Data\")\n",
    "# Map.addLayer(fabdem, visParams, \"FABDEM\")\n",
    "Map"
   ]
  }
 ],
 "metadata": {
  "kernelspec": {
   "display_name": "flood-mapping-XPc05Nfw-py3.9",
   "language": "python",
   "name": "python3"
  },
  "language_info": {
   "codemirror_mode": {
    "name": "ipython",
    "version": 3
   },
   "file_extension": ".py",
   "mimetype": "text/x-python",
   "name": "python",
   "nbconvert_exporter": "python",
   "pygments_lexer": "ipython3",
   "version": "3.9.0"
  }
 },
 "nbformat": 4,
 "nbformat_minor": 2
}
