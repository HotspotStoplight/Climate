{
 "cells": [
  {
   "cell_type": "code",
   "execution_count": 30,
   "metadata": {},
   "outputs": [
    {
     "data": {
      "text/html": [
       "\n",
       "            <style>\n",
       "                .geemap-dark {\n",
       "                    --jp-widgets-color: white;\n",
       "                    --jp-widgets-label-color: white;\n",
       "                    --jp-ui-font-color1: white;\n",
       "                    --jp-layout-color2: #454545;\n",
       "                    background-color: #383838;\n",
       "                }\n",
       "                    \n",
       "                .geemap-dark .jupyter-button {\n",
       "                    --jp-layout-color3: #383838;\n",
       "                }\n",
       "                \n",
       "                .geemap-colab {\n",
       "                    background-color: var(--colab-primary-surface-color, white);\n",
       "                }\n",
       "                    \n",
       "                .geemap-colab .jupyter-button {\n",
       "                    --jp-layout-color3: var(--colab-primary-surface-color, white);\n",
       "                }\n",
       "            </style>\n",
       "            "
      ],
      "text/plain": [
       "<IPython.core.display.HTML object>"
      ]
     },
     "metadata": {},
     "output_type": "display_data"
    }
   ],
   "source": [
    "import datetime\n",
    "import ee \n",
    "import geemap\n",
    "import colorcet as cc\n",
    "from data_utils.pygeoboundaries import get_adm_ee\n",
    "from google.cloud import storage\n",
    "from data_utils.monitor_tasks import monitor_tasks\n",
    "import csv\n",
    "from io import StringIO\n",
    "from collections import Counter"
   ]
  },
  {
   "cell_type": "code",
   "execution_count": 31,
   "metadata": {},
   "outputs": [
    {
     "data": {
      "text/html": [
       "\n",
       "            <style>\n",
       "                .geemap-dark {\n",
       "                    --jp-widgets-color: white;\n",
       "                    --jp-widgets-label-color: white;\n",
       "                    --jp-ui-font-color1: white;\n",
       "                    --jp-layout-color2: #454545;\n",
       "                    background-color: #383838;\n",
       "                }\n",
       "                    \n",
       "                .geemap-dark .jupyter-button {\n",
       "                    --jp-layout-color3: #383838;\n",
       "                }\n",
       "                \n",
       "                .geemap-colab {\n",
       "                    background-color: var(--colab-primary-surface-color, white);\n",
       "                }\n",
       "                    \n",
       "                .geemap-colab .jupyter-button {\n",
       "                    --jp-layout-color3: var(--colab-primary-surface-color, white);\n",
       "                }\n",
       "            </style>\n",
       "            "
      ],
      "text/plain": [
       "<IPython.core.display.HTML object>"
      ]
     },
     "metadata": {},
     "output_type": "display_data"
    },
    {
     "data": {
      "text/plain": [
       "True"
      ]
     },
     "execution_count": 31,
     "metadata": {},
     "output_type": "execute_result"
    }
   ],
   "source": [
    "ee.Authenticate()"
   ]
  },
  {
   "cell_type": "code",
   "execution_count": 32,
   "metadata": {},
   "outputs": [
    {
     "data": {
      "text/html": [
       "\n",
       "            <style>\n",
       "                .geemap-dark {\n",
       "                    --jp-widgets-color: white;\n",
       "                    --jp-widgets-label-color: white;\n",
       "                    --jp-ui-font-color1: white;\n",
       "                    --jp-layout-color2: #454545;\n",
       "                    background-color: #383838;\n",
       "                }\n",
       "                    \n",
       "                .geemap-dark .jupyter-button {\n",
       "                    --jp-layout-color3: #383838;\n",
       "                }\n",
       "                \n",
       "                .geemap-colab {\n",
       "                    background-color: var(--colab-primary-surface-color, white);\n",
       "                }\n",
       "                    \n",
       "                .geemap-colab .jupyter-button {\n",
       "                    --jp-layout-color3: var(--colab-primary-surface-color, white);\n",
       "                }\n",
       "            </style>\n",
       "            "
      ],
      "text/plain": [
       "<IPython.core.display.HTML object>"
      ]
     },
     "metadata": {},
     "output_type": "display_data"
    }
   ],
   "source": [
    "cloud_project = 'hotspotstoplight'"
   ]
  },
  {
   "cell_type": "code",
   "execution_count": 33,
   "metadata": {},
   "outputs": [
    {
     "data": {
      "text/html": [
       "\n",
       "            <style>\n",
       "                .geemap-dark {\n",
       "                    --jp-widgets-color: white;\n",
       "                    --jp-widgets-label-color: white;\n",
       "                    --jp-ui-font-color1: white;\n",
       "                    --jp-layout-color2: #454545;\n",
       "                    background-color: #383838;\n",
       "                }\n",
       "                    \n",
       "                .geemap-dark .jupyter-button {\n",
       "                    --jp-layout-color3: #383838;\n",
       "                }\n",
       "                \n",
       "                .geemap-colab {\n",
       "                    background-color: var(--colab-primary-surface-color, white);\n",
       "                }\n",
       "                    \n",
       "                .geemap-colab .jupyter-button {\n",
       "                    --jp-layout-color3: var(--colab-primary-surface-color, white);\n",
       "                }\n",
       "            </style>\n",
       "            "
      ],
      "text/plain": [
       "<IPython.core.display.HTML object>"
      ]
     },
     "metadata": {},
     "output_type": "display_data"
    }
   ],
   "source": [
    "ee.Initialize(project=cloud_project)"
   ]
  },
  {
   "cell_type": "code",
   "execution_count": 52,
   "metadata": {},
   "outputs": [
    {
     "data": {
      "text/html": [
       "\n",
       "            <style>\n",
       "                .geemap-dark {\n",
       "                    --jp-widgets-color: white;\n",
       "                    --jp-widgets-label-color: white;\n",
       "                    --jp-ui-font-color1: white;\n",
       "                    --jp-layout-color2: #454545;\n",
       "                    background-color: #383838;\n",
       "                }\n",
       "                    \n",
       "                .geemap-dark .jupyter-button {\n",
       "                    --jp-layout-color3: #383838;\n",
       "                }\n",
       "                \n",
       "                .geemap-colab {\n",
       "                    background-color: var(--colab-primary-surface-color, white);\n",
       "                }\n",
       "                    \n",
       "                .geemap-colab .jupyter-button {\n",
       "                    --jp-layout-color3: var(--colab-primary-surface-color, white);\n",
       "                }\n",
       "            </style>\n",
       "            "
      ],
      "text/plain": [
       "<IPython.core.display.HTML object>"
      ]
     },
     "metadata": {},
     "output_type": "display_data"
    }
   ],
   "source": [
    "place_name = \"Costa Rica\"\n",
    "\n",
    "scale = 90\n",
    "\n",
    "snake_case_place_name = place_name.replace(' ', '_').lower()\n",
    "\n",
    "aoi = get_adm_ee(territories=place_name, adm='ADM0')\n",
    "bbox = aoi.geometry().bounds()"
   ]
  },
  {
   "cell_type": "code",
   "execution_count": 35,
   "metadata": {},
   "outputs": [
    {
     "data": {
      "text/html": [
       "\n",
       "            <style>\n",
       "                .geemap-dark {\n",
       "                    --jp-widgets-color: white;\n",
       "                    --jp-widgets-label-color: white;\n",
       "                    --jp-ui-font-color1: white;\n",
       "                    --jp-layout-color2: #454545;\n",
       "                    background-color: #383838;\n",
       "                }\n",
       "                    \n",
       "                .geemap-dark .jupyter-button {\n",
       "                    --jp-layout-color3: #383838;\n",
       "                }\n",
       "                \n",
       "                .geemap-colab {\n",
       "                    background-color: var(--colab-primary-surface-color, white);\n",
       "                }\n",
       "                    \n",
       "                .geemap-colab .jupyter-button {\n",
       "                    --jp-layout-color3: var(--colab-primary-surface-color, white);\n",
       "                }\n",
       "            </style>\n",
       "            "
      ],
      "text/plain": [
       "<IPython.core.display.HTML object>"
      ]
     },
     "metadata": {},
     "output_type": "display_data"
    }
   ],
   "source": [
    "# Applies scaling factors.\n",
    "def apply_scale_factors(image):\n",
    "    # Scale and offset values for optical bands\n",
    "    optical_bands = image.select('SR_B.').multiply(0.0000275).add(-0.2)\n",
    "    \n",
    "    # Scale and offset values for thermal bands\n",
    "    thermal_bands = image.select('ST_B.*').multiply(0.00341802).add(149.0)\n",
    "    \n",
    "    # Add scaled bands to the original image\n",
    "    return image.addBands(optical_bands, None, True).addBands(thermal_bands, None, True)\n",
    "\n",
    "# Function to Mask Clouds and Cloud Shadows in Landsat 8 Imagery\n",
    "def cloud_mask(image):\n",
    "    # Define cloud shadow and cloud bitmasks (Bits 3 and 5)\n",
    "    cloud_shadow_bitmask = 1 << 3\n",
    "    cloud_bitmask = 1 << 5\n",
    "    \n",
    "    # Select the Quality Assessment (QA) band for pixel quality information\n",
    "    qa = image.select('QA_PIXEL')\n",
    "    \n",
    "    # Create a binary mask to identify clear conditions (both cloud and cloud shadow bits set to 0)\n",
    "    mask = qa.bitwiseAnd(cloud_shadow_bitmask).eq(0).And(qa.bitwiseAnd(cloud_bitmask).eq(0))\n",
    "    \n",
    "    # Update the original image, masking out cloud and cloud shadow-affected pixels\n",
    "    return image.updateMask(mask)"
   ]
  },
  {
   "cell_type": "code",
   "execution_count": 36,
   "metadata": {},
   "outputs": [
    {
     "data": {
      "text/html": [
       "\n",
       "            <style>\n",
       "                .geemap-dark {\n",
       "                    --jp-widgets-color: white;\n",
       "                    --jp-widgets-label-color: white;\n",
       "                    --jp-ui-font-color1: white;\n",
       "                    --jp-layout-color2: #454545;\n",
       "                    background-color: #383838;\n",
       "                }\n",
       "                    \n",
       "                .geemap-dark .jupyter-button {\n",
       "                    --jp-layout-color3: #383838;\n",
       "                }\n",
       "                \n",
       "                .geemap-colab {\n",
       "                    background-color: var(--colab-primary-surface-color, white);\n",
       "                }\n",
       "                    \n",
       "                .geemap-colab .jupyter-button {\n",
       "                    --jp-layout-color3: var(--colab-primary-surface-color, white);\n",
       "                }\n",
       "            </style>\n",
       "            "
      ],
      "text/plain": [
       "<IPython.core.display.HTML object>"
      ]
     },
     "metadata": {},
     "output_type": "display_data"
    }
   ],
   "source": [
    "bucket_name = f'hotspotstoplight_heatmapping'\n",
    "directory_name = f'data/{snake_case_place_name}/inputs/'\n",
    "\n",
    "storage_client = storage.Client(project=cloud_project)\n",
    "bucket = storage_client.bucket(bucket_name)\n",
    "blob = bucket.blob(directory_name)\n",
    "blob.upload_from_string('', content_type='application/x-www-form-urlencoded;charset=UTF-8')\n",
    "\n",
    "file_prefix=\"ndvi_min_max\"\n",
    "\n",
    "year = 2022\n",
    "\n",
    "gcs_bucket = bucket_name"
   ]
  },
  {
   "cell_type": "code",
   "execution_count": 37,
   "metadata": {},
   "outputs": [
    {
     "data": {
      "text/html": [
       "\n",
       "            <style>\n",
       "                .geemap-dark {\n",
       "                    --jp-widgets-color: white;\n",
       "                    --jp-widgets-label-color: white;\n",
       "                    --jp-ui-font-color1: white;\n",
       "                    --jp-layout-color2: #454545;\n",
       "                    background-color: #383838;\n",
       "                }\n",
       "                    \n",
       "                .geemap-dark .jupyter-button {\n",
       "                    --jp-layout-color3: #383838;\n",
       "                }\n",
       "                \n",
       "                .geemap-colab {\n",
       "                    background-color: var(--colab-primary-surface-color, white);\n",
       "                }\n",
       "                    \n",
       "                .geemap-colab .jupyter-button {\n",
       "                    --jp-layout-color3: var(--colab-primary-surface-color, white);\n",
       "                }\n",
       "            </style>\n",
       "            "
      ],
      "text/plain": [
       "<IPython.core.display.HTML object>"
      ]
     },
     "metadata": {},
     "output_type": "display_data"
    }
   ],
   "source": [
    "def export_ndvi_min_max(year, bbox, scale, gcs_bucket, snake_case_place_name, file_prefix=\"ndvi_min_max\"):\n",
    "    try:\n",
    "        startDate = ee.Date.fromYMD(year, 1, 1)\n",
    "        endDate = ee.Date.fromYMD(year, 12, 31)\n",
    "\n",
    "        # Filter the collection for the given year and bounds\n",
    "        imageCollection = ee.ImageCollection(\"LANDSAT/LC08/C02/T1_L2\") \\\n",
    "            .filterBounds(bbox) \\\n",
    "            .filterDate(startDate, endDate) \\\n",
    "            .map(apply_scale_factors) \\\n",
    "            .map(cloud_mask)\n",
    "\n",
    "        # Calculate NDVI for the entire collection\n",
    "        ndviCollection = imageCollection.map(lambda image: image.normalizedDifference(['SR_B5', 'SR_B4']).rename('NDVI'))\n",
    "\n",
    "        # Reduce the collection to get min and max NDVI values\n",
    "        ndvi_min = ndviCollection.reduce(ee.Reducer.min()).reduceRegion(reducer=ee.Reducer.min(), geometry=bbox, scale=scale, maxPixels=1e9)\n",
    "        ndvi_max = ndviCollection.reduce(ee.Reducer.max()).reduceRegion(reducer=ee.Reducer.max(), geometry=bbox, scale=scale, maxPixels=1e9)\n",
    "\n",
    "        # Create a feature to export\n",
    "        feature = ee.Feature(None, {'ndvi_min': ndvi_min.get('NDVI_min'), 'ndvi_max': ndvi_max.get('NDVI_max')})\n",
    "\n",
    "        # Create and start the export task with the specified fileNamePrefix\n",
    "        task = ee.batch.Export.table.toCloudStorage(\n",
    "            collection=ee.FeatureCollection([feature]),\n",
    "            description=f'{file_prefix}_{year}',\n",
    "            bucket=gcs_bucket,\n",
    "            fileNamePrefix=f'data/{snake_case_place_name}/inputs/{file_prefix}_{year}',\n",
    "            fileFormat='CSV'\n",
    "        )\n",
    "        task.start()\n",
    "\n",
    "        # Print statements confirming the task has started\n",
    "        print(f\"Starting export task for NDVI min/max values of year {year}.\")\n",
    "\n",
    "        # Return the task object\n",
    "        return task\n",
    "\n",
    "    except Exception as e:\n",
    "        print(f\"An error occurred while starting the export task for year {year}: {e}\")\n",
    "        return None"
   ]
  },
  {
   "cell_type": "code",
   "execution_count": 54,
   "metadata": {},
   "outputs": [
    {
     "data": {
      "text/html": [
       "\n",
       "            <style>\n",
       "                .geemap-dark {\n",
       "                    --jp-widgets-color: white;\n",
       "                    --jp-widgets-label-color: white;\n",
       "                    --jp-ui-font-color1: white;\n",
       "                    --jp-layout-color2: #454545;\n",
       "                    background-color: #383838;\n",
       "                }\n",
       "                    \n",
       "                .geemap-dark .jupyter-button {\n",
       "                    --jp-layout-color3: #383838;\n",
       "                }\n",
       "                \n",
       "                .geemap-colab {\n",
       "                    background-color: var(--colab-primary-surface-color, white);\n",
       "                }\n",
       "                    \n",
       "                .geemap-colab .jupyter-button {\n",
       "                    --jp-layout-color3: var(--colab-primary-surface-color, white);\n",
       "                }\n",
       "            </style>\n",
       "            "
      ],
      "text/plain": [
       "<IPython.core.display.HTML object>"
      ]
     },
     "metadata": {},
     "output_type": "display_data"
    }
   ],
   "source": [
    "def download_ndvi_data_for_year(year, cloud_project, bucket_name, snake_case_place_name):\n",
    "    # Initialize the Google Cloud Storage client\n",
    "    storage_client = storage.Client(project=cloud_project)\n",
    "    bucket = storage_client.bucket(bucket_name)\n",
    "    \n",
    "    # Define the blob's name to include the full path\n",
    "    blob_name = f'data/{snake_case_place_name}/inputs/ndvi_min_max_{year}.csv'\n",
    "    blob = bucket.blob(blob_name)\n",
    "    \n",
    "    # Download the data as a string\n",
    "    ndvi_data_csv = blob.download_as_string()\n",
    "    \n",
    "    # Parse the CSV data\n",
    "    ndvi_data = csv.reader(StringIO(ndvi_data_csv.decode('utf-8')))\n",
    "    rows = list(ndvi_data)\n",
    "    \n",
    "    # Extract NDVI min and max values\n",
    "    # Assuming the first row after the header contains NDVI min and the second row contains NDVI max\n",
    "    # Note: This assumes row 1 is headers\n",
    "    ndvi_min = float(rows[1][1])\n",
    "    ndvi_max = float(rows[1][2])\n",
    "    \n",
    "    return ndvi_min, ndvi_max"
   ]
  },
  {
   "cell_type": "code",
   "execution_count": 55,
   "metadata": {},
   "outputs": [
    {
     "data": {
      "text/html": [
       "\n",
       "            <style>\n",
       "                .geemap-dark {\n",
       "                    --jp-widgets-color: white;\n",
       "                    --jp-widgets-label-color: white;\n",
       "                    --jp-ui-font-color1: white;\n",
       "                    --jp-layout-color2: #454545;\n",
       "                    background-color: #383838;\n",
       "                }\n",
       "                    \n",
       "                .geemap-dark .jupyter-button {\n",
       "                    --jp-layout-color3: #383838;\n",
       "                }\n",
       "                \n",
       "                .geemap-colab {\n",
       "                    background-color: var(--colab-primary-surface-color, white);\n",
       "                }\n",
       "                    \n",
       "                .geemap-colab .jupyter-button {\n",
       "                    --jp-layout-color3: var(--colab-primary-surface-color, white);\n",
       "                }\n",
       "            </style>\n",
       "            "
      ],
      "text/plain": [
       "<IPython.core.display.HTML object>"
      ]
     },
     "metadata": {},
     "output_type": "display_data"
    }
   ],
   "source": [
    "def process_year(year, ndvi_min, ndvi_max):\n",
    "    # Define the start and end dates for the year\n",
    "    startDate = ee.Date.fromYMD(year, 1, 1)\n",
    "    endDate = ee.Date.fromYMD(year, 12, 31)\n",
    "\n",
    "    # Import and preprocess Landsat 8 imagery for the year\n",
    "    imageCollection = ee.ImageCollection(\"LANDSAT/LC08/C02/T1_L2\") \\\n",
    "                .filterBounds(bbox) \\\n",
    "                .filterDate(startDate, endDate) \\\n",
    "                .map(apply_scale_factors) \\\n",
    "                .map(cloud_mask)\n",
    "\n",
    "    # Function to calculate LST for each image in the collection\n",
    "    def calculate_lst(image):\n",
    "        # Calculate Normalized Difference Vegetation Index (NDVI)\n",
    "        ndvi = image.normalizedDifference(['SR_B5', 'SR_B4']).rename('NDVI')\n",
    "        \n",
    "        # Use the passed ndvi_min and ndvi_max directly instead of calculating them\n",
    "        # Convert them to ee.Number since they are likely passed as Python primitives\n",
    "        ndvi_min_ee = ee.Number(ndvi_min)\n",
    "        ndvi_max_ee = ee.Number(ndvi_max)\n",
    "\n",
    "        # Fraction of Vegetation (FV) Calculation\n",
    "        fv = ee.Image().expression(\n",
    "            \"(ndvi - ndvi_min) / (ndvi_max - ndvi_min)\",\n",
    "            {\n",
    "                'ndvi': ndvi,\n",
    "                'ndvi_max': ndvi_max_ee,\n",
    "                'ndvi_min': ndvi_min_ee\n",
    "            }\n",
    "        ).pow(2).rename('FV')\n",
    "\n",
    "        # Emissivity Calculation\n",
    "        em = fv.multiply(ee.Number(0.004)).add(ee.Number(0.986)).rename('EM')\n",
    "\n",
    "        # Select Thermal Band (Band 10) and Rename It\n",
    "        thermal = image.select('ST_B10').rename('thermal')\n",
    "\n",
    "        # Land Surface Temperature (LST) Calculation\n",
    "        lst = thermal.expression(\n",
    "            '(TB / (1 + (0.00115 * (TB / 1.438)) * log(em))) - 273.15', {\n",
    "                'TB': thermal.select('thermal'), # Select the thermal band\n",
    "                'em': em # Assign emissivity\n",
    "            }).rename('LST')\n",
    "\n",
    "        return lst\n",
    "\n",
    "    # Apply the calculate_lst function to each image in the collection\n",
    "    lstCollection = imageCollection.map(calculate_lst)\n",
    "\n",
    "    lstMean = lstCollection.mean().clip(bbox)\n",
    "\n",
    "    # Create a binary image for each image in the collection where 1 indicates LST >= 33 and 0 otherwise\n",
    "    hotDaysCollection = lstCollection.map(lambda image: image.gte(33))\n",
    "\n",
    "    # Sum all the binary images in the collection to get the total number of hot days in the year\n",
    "    hotDaysYear = hotDaysCollection.sum()\n",
    "\n",
    "    landcover = ee.Image(\"ESA/WorldCover/v100/2020\").select('Map').clip(bbox)\n",
    "\n",
    "    dem = ee.ImageCollection(\"projects/sat-io/open-datasets/FABDEM\").mosaic().clip(bbox)\n",
    "\n",
    "    image_for_sampling = landcover.rename('landcover') \\\n",
    "        .addBands(dem.rename('elevation')) \\\n",
    "        .addBands(ee.Image.pixelLonLat()) \\\n",
    "        .addBands(lstMean.rename('lst_mean')) \\\n",
    "        .addBands(hotDaysYear.rename('hot_days')\n",
    "                  ) \n",
    "        \n",
    "    print(\"Sampling image band names\", image_for_sampling.bandNames().getInfo())\n",
    "\n",
    "    return image_for_sampling"
   ]
  },
  {
   "cell_type": "code",
   "execution_count": 58,
   "metadata": {},
   "outputs": [
    {
     "data": {
      "text/html": [
       "\n",
       "            <style>\n",
       "                .geemap-dark {\n",
       "                    --jp-widgets-color: white;\n",
       "                    --jp-widgets-label-color: white;\n",
       "                    --jp-ui-font-color1: white;\n",
       "                    --jp-layout-color2: #454545;\n",
       "                    background-color: #383838;\n",
       "                }\n",
       "                    \n",
       "                .geemap-dark .jupyter-button {\n",
       "                    --jp-layout-color3: #383838;\n",
       "                }\n",
       "                \n",
       "                .geemap-colab {\n",
       "                    background-color: var(--colab-primary-surface-color, white);\n",
       "                }\n",
       "                    \n",
       "                .geemap-colab .jupyter-button {\n",
       "                    --jp-layout-color3: var(--colab-primary-surface-color, white);\n",
       "                }\n",
       "            </style>\n",
       "            "
      ],
      "text/plain": [
       "<IPython.core.display.HTML object>"
      ]
     },
     "metadata": {},
     "output_type": "display_data"
    },
    {
     "name": "stdout",
     "output_type": "stream",
     "text": [
      "Starting export task for NDVI min/max values of year 2018.\n",
      "Starting export task for NDVI min/max values of year 2019.\n",
      "Starting export task for NDVI min/max values of year 2020.\n",
      "Starting export task for NDVI min/max values of year 2021.\n",
      "Starting export task for NDVI min/max values of year 2022.\n",
      "Starting export task for NDVI min/max values of year 2023.\n",
      "Starting export task for NDVI min/max values of year 2018.\n",
      "Sampling image band names ['landcover', 'elevation', 'longitude', 'latitude', 'lst_mean', 'hot_days']\n",
      "Starting export task for NDVI min/max values of year 2019.\n",
      "Sampling image band names ['landcover', 'elevation', 'longitude', 'latitude', 'lst_mean', 'hot_days']\n",
      "Starting export task for NDVI min/max values of year 2020.\n",
      "Sampling image band names ['landcover', 'elevation', 'longitude', 'latitude', 'lst_mean', 'hot_days']\n",
      "Starting export task for NDVI min/max values of year 2021.\n",
      "Sampling image band names ['landcover', 'elevation', 'longitude', 'latitude', 'lst_mean', 'hot_days']\n",
      "Starting export task for NDVI min/max values of year 2022.\n",
      "Sampling image band names ['landcover', 'elevation', 'longitude', 'latitude', 'lst_mean', 'hot_days']\n",
      "Starting export task for NDVI min/max values of year 2023.\n",
      "Sampling image band names ['landcover', 'elevation', 'longitude', 'latitude', 'lst_mean', 'hot_days']\n"
     ]
    }
   ],
   "source": [
    "years = range(2018, 2024)\n",
    "\n",
    "def process_for_year(year, cloud_project, bucket_name, snake_case_place_name):\n",
    "\n",
    "    ndvi_min, ndvi_max = download_ndvi_data_for_year(year, cloud_project, bucket_name, snake_case_place_name)\n",
    "    image_collection = process_year(year, ndvi_min, ndvi_max)\n",
    "\n",
    "    return image_collection\n",
    "\n",
    "\n",
    "for year in years:\n",
    "    export_ndvi_min_max(year, bbox, scale, gcs_bucket, snake_case_place_name)\n",
    "\n",
    "\n",
    "image_list = []\n",
    "\n",
    "for year in years:\n",
    "    image = process_for_year(year, cloud_project, bucket_name, snake_case_place_name)\n",
    "    image_list.append(image)\n",
    "\n",
    "image_collections = ee.ImageCollection.fromImages(image_list)"
   ]
  },
  {
   "cell_type": "code",
   "execution_count": 70,
   "metadata": {},
   "outputs": [
    {
     "data": {
      "text/html": [
       "\n",
       "            <style>\n",
       "                .geemap-dark {\n",
       "                    --jp-widgets-color: white;\n",
       "                    --jp-widgets-label-color: white;\n",
       "                    --jp-ui-font-color1: white;\n",
       "                    --jp-layout-color2: #454545;\n",
       "                    background-color: #383838;\n",
       "                }\n",
       "                    \n",
       "                .geemap-dark .jupyter-button {\n",
       "                    --jp-layout-color3: #383838;\n",
       "                }\n",
       "                \n",
       "                .geemap-colab {\n",
       "                    background-color: var(--colab-primary-surface-color, white);\n",
       "                }\n",
       "                    \n",
       "                .geemap-colab .jupyter-button {\n",
       "                    --jp-layout-color3: var(--colab-primary-surface-color, white);\n",
       "                }\n",
       "            </style>\n",
       "            "
      ],
      "text/plain": [
       "<IPython.core.display.HTML object>"
      ]
     },
     "metadata": {},
     "output_type": "display_data"
    },
    {
     "name": "stdout",
     "output_type": "stream",
     "text": [
      "Class histogram Counter({10: 1551, 80: 1144, 30: 373, 40: 25, 95: 14, 50: 12, 60: 11, 90: 9, 20: 4})\n"
     ]
    }
   ],
   "source": [
    "# Sample the 'landcover' band of the image within the specified bounding box\n",
    "sample = image_collections.first().select('landcover').sample(\n",
    "  region=bbox,\n",
    "  scale=10,  # Adjust scale as needed to match your image resolution and the granularity you need\n",
    "  numPixels=10000,  # Number of pixels to sample for estimating class distribution\n",
    "  seed=0,\n",
    "  geometries=False  # Geometry information not required for this step\n",
    ")\n",
    "\n",
    "# Extract land cover class values from the sample\n",
    "# Note: The band name inside aggregate_array should match your band of interest; adjust if necessary\n",
    "sampled_values = sample.aggregate_array('landcover').getInfo()\n",
    "\n",
    "# Calculate the histogram (frequency of each class)\n",
    "class_histogram = Counter(sampled_values)\n",
    "\n",
    "print(\"Class histogram\", class_histogram)\n",
    "\n",
    "# Total number of samples you aim to distribute across classes\n",
    "total_samples = 5000\n",
    "\n",
    "# Determine class values (unique land cover classes) and their proportional sample sizes\n",
    "class_values = list(class_histogram.keys())\n",
    "class_points = [int((freq / sum(class_histogram.values())) * total_samples) for freq in class_histogram.values()]"
   ]
  },
  {
   "cell_type": "code",
   "execution_count": 71,
   "metadata": {},
   "outputs": [
    {
     "data": {
      "text/html": [
       "\n",
       "            <style>\n",
       "                .geemap-dark {\n",
       "                    --jp-widgets-color: white;\n",
       "                    --jp-widgets-label-color: white;\n",
       "                    --jp-ui-font-color1: white;\n",
       "                    --jp-layout-color2: #454545;\n",
       "                    background-color: #383838;\n",
       "                }\n",
       "                    \n",
       "                .geemap-dark .jupyter-button {\n",
       "                    --jp-layout-color3: #383838;\n",
       "                }\n",
       "                \n",
       "                .geemap-colab {\n",
       "                    background-color: var(--colab-primary-surface-color, white);\n",
       "                }\n",
       "                    \n",
       "                .geemap-colab .jupyter-button {\n",
       "                    --jp-layout-color3: var(--colab-primary-surface-color, white);\n",
       "                }\n",
       "            </style>\n",
       "            "
      ],
      "text/plain": [
       "<IPython.core.display.HTML object>"
      ]
     },
     "metadata": {},
     "output_type": "display_data"
    }
   ],
   "source": [
    "class_band = 'landcover'\n",
    "\n",
    "n_images = image_collections.size().getInfo()\n",
    "samples_per_image = total_samples // n_images\n",
    "\n",
    "# Function to apply stratified sampling to an image\n",
    "def stratified_sample_per_image(image):\n",
    "    # Perform stratified sampling\n",
    "    stratified_sample = image.stratifiedSample(\n",
    "        numPoints=samples_per_image,\n",
    "        classBand=class_band,\n",
    "        region=bbox,\n",
    "        scale=30,\n",
    "        seed=0,\n",
    "        classValues=class_values,\n",
    "        classPoints=class_points,\n",
    "        geometries=True\n",
    "    )\n",
    "    # Return the sample\n",
    "    return stratified_sample\n",
    "\n",
    "# Apply the function to each image in the collection\n",
    "samples = image_collections.map(stratified_sample_per_image)\n",
    "\n",
    "# Flatten the collection of collections into a single FeatureCollection\n",
    "stratified_sample = samples.flatten()"
   ]
  },
  {
   "cell_type": "code",
   "execution_count": 72,
   "metadata": {},
   "outputs": [
    {
     "data": {
      "text/html": [
       "\n",
       "            <style>\n",
       "                .geemap-dark {\n",
       "                    --jp-widgets-color: white;\n",
       "                    --jp-widgets-label-color: white;\n",
       "                    --jp-ui-font-color1: white;\n",
       "                    --jp-layout-color2: #454545;\n",
       "                    background-color: #383838;\n",
       "                }\n",
       "                    \n",
       "                .geemap-dark .jupyter-button {\n",
       "                    --jp-layout-color3: #383838;\n",
       "                }\n",
       "                \n",
       "                .geemap-colab {\n",
       "                    background-color: var(--colab-primary-surface-color, white);\n",
       "                }\n",
       "                    \n",
       "                .geemap-colab .jupyter-button {\n",
       "                    --jp-layout-color3: var(--colab-primary-surface-color, white);\n",
       "                }\n",
       "            </style>\n",
       "            "
      ],
      "text/plain": [
       "<IPython.core.display.HTML object>"
      ]
     },
     "metadata": {},
     "output_type": "display_data"
    }
   ],
   "source": [
    "# Split the data into training and testing\n",
    "training_sample = stratified_sample.randomColumn()\n",
    "training = training_sample.filter(ee.Filter.lt('random', 0.7))\n",
    "testing = training_sample.filter(ee.Filter.gte('random', 0.7))\n",
    "\n",
    "# Train the Random Forest regression model\n",
    "inputProperties=['longitude', 'latitude', 'landcover', 'elevation']\n",
    "numTrees = 10  # Number of trees in the Random Forest\n",
    "regressor = ee.Classifier.smileRandomForest(numTrees).setOutputMode('REGRESSION').train(\n",
    "    training, \n",
    "    classProperty='hot_days', \n",
    "    inputProperties=inputProperties\n",
    ")\n"
   ]
  },
  {
   "cell_type": "code",
   "execution_count": 78,
   "metadata": {},
   "outputs": [
    {
     "data": {
      "text/html": [
       "\n",
       "            <style>\n",
       "                .geemap-dark {\n",
       "                    --jp-widgets-color: white;\n",
       "                    --jp-widgets-label-color: white;\n",
       "                    --jp-ui-font-color1: white;\n",
       "                    --jp-layout-color2: #454545;\n",
       "                    background-color: #383838;\n",
       "                }\n",
       "                    \n",
       "                .geemap-dark .jupyter-button {\n",
       "                    --jp-layout-color3: #383838;\n",
       "                }\n",
       "                \n",
       "                .geemap-colab {\n",
       "                    background-color: var(--colab-primary-surface-color, white);\n",
       "                }\n",
       "                    \n",
       "                .geemap-colab .jupyter-button {\n",
       "                    --jp-layout-color3: var(--colab-primary-surface-color, white);\n",
       "                }\n",
       "            </style>\n",
       "            "
      ],
      "text/plain": [
       "<IPython.core.display.HTML object>"
      ]
     },
     "metadata": {},
     "output_type": "display_data"
    }
   ],
   "source": [
    "# Take the first image from the filtered collection as the recent_image\n",
    "recent_image = image_collections.filter(ee.Filter.calendarRange(2020, 2020, 'year')).first()\n",
    "\n",
    "# Proceed with the classification\n",
    "predicted_image = recent_image.select(inputProperties).classify(regressor)\n",
    "\n",
    "# Calculate the difference\n",
    "difference = recent_image.select('hot_days').subtract(predicted_image).rename('difference')"
   ]
  },
  {
   "cell_type": "code",
   "execution_count": 79,
   "metadata": {},
   "outputs": [
    {
     "data": {
      "text/html": [
       "\n",
       "            <style>\n",
       "                .geemap-dark {\n",
       "                    --jp-widgets-color: white;\n",
       "                    --jp-widgets-label-color: white;\n",
       "                    --jp-ui-font-color1: white;\n",
       "                    --jp-layout-color2: #454545;\n",
       "                    background-color: #383838;\n",
       "                }\n",
       "                    \n",
       "                .geemap-dark .jupyter-button {\n",
       "                    --jp-layout-color3: #383838;\n",
       "                }\n",
       "                \n",
       "                .geemap-colab {\n",
       "                    background-color: var(--colab-primary-surface-color, white);\n",
       "                }\n",
       "                    \n",
       "                .geemap-colab .jupyter-button {\n",
       "                    --jp-layout-color3: var(--colab-primary-surface-color, white);\n",
       "                }\n",
       "            </style>\n",
       "            "
      ],
      "text/plain": [
       "<IPython.core.display.HTML object>"
      ]
     },
     "metadata": {},
     "output_type": "display_data"
    },
    {
     "data": {
      "application/vnd.jupyter.widget-view+json": {
       "model_id": "5850c880fb0844bd92ee585d9e8f5068",
       "version_major": 2,
       "version_minor": 0
      },
      "text/plain": [
       "Map(center=[9.973546567083341, -84.19370076516422], controls=(WidgetControl(options=['position', 'transparent_…"
      ]
     },
     "execution_count": 79,
     "metadata": {},
     "output_type": "execute_result"
    }
   ],
   "source": [
    "vizParams = {\n",
    "    'min': 0,\n",
    "    'max': 25,\n",
    "    'palette': cc.fire\n",
    "}\n",
    "\n",
    "m = geemap.Map()\n",
    "m.centerObject(aoi, 8)\n",
    "m.add(\"basemap_selector\")\n",
    "m.add(\"layer_manager\")\n",
    "# m.addLayer(image.select('landcover'), {}, 'Land Cover')\n",
    "m.addLayer(recent_image.select('hot_days').clip(aoi), vizParams, 'Actual Max LST')\n",
    "m.addLayer(predicted_image.clip(aoi), vizParams, 'Predicted LST')\n",
    "m.addLayer(difference, {'min': -10, 'max': 10, 'palette': cc.cwr}, 'Difference')\n",
    "m"
   ]
  },
  {
   "cell_type": "code",
   "execution_count": 80,
   "metadata": {},
   "outputs": [
    {
     "data": {
      "text/html": [
       "\n",
       "            <style>\n",
       "                .geemap-dark {\n",
       "                    --jp-widgets-color: white;\n",
       "                    --jp-widgets-label-color: white;\n",
       "                    --jp-ui-font-color1: white;\n",
       "                    --jp-layout-color2: #454545;\n",
       "                    background-color: #383838;\n",
       "                }\n",
       "                    \n",
       "                .geemap-dark .jupyter-button {\n",
       "                    --jp-layout-color3: #383838;\n",
       "                }\n",
       "                \n",
       "                .geemap-colab {\n",
       "                    background-color: var(--colab-primary-surface-color, white);\n",
       "                }\n",
       "                    \n",
       "                .geemap-colab .jupyter-button {\n",
       "                    --jp-layout-color3: var(--colab-primary-surface-color, white);\n",
       "                }\n",
       "            </style>\n",
       "            "
      ],
      "text/plain": [
       "<IPython.core.display.HTML object>"
      ]
     },
     "metadata": {},
     "output_type": "display_data"
    },
    {
     "name": "stdout",
     "output_type": "stream",
     "text": [
      "RMSE: 2.119165613663734\n"
     ]
    }
   ],
   "source": [
    "# Assuming 'max_lst' is your actual maximum LST image and 'predicted_image' contains the predictions\n",
    "# Calculate the squared difference between actual and predicted LST\n",
    "squared_difference = recent_image.select('hot_days').subtract(predicted_image).pow(2).rename('difference')\n",
    "\n",
    "# Reduce the squared differences to get the mean squared difference over your area of interest (aoi)\n",
    "mean_squared_error = squared_difference.reduceRegion(\n",
    "    reducer=ee.Reducer.mean(),\n",
    "    geometry=bbox,\n",
    "    scale=scale,  # Adjust scale to match your dataset's resolution\n",
    "    maxPixels=1e14\n",
    ")\n",
    "\n",
    "# Calculate the square root of the mean squared error to get the RMSE\n",
    "rmse = mean_squared_error.getInfo()['difference'] ** 0.5\n",
    "\n",
    "print('RMSE:', rmse)"
   ]
  }
 ],
 "metadata": {
  "kernelspec": {
   "display_name": ".venv",
   "language": "python",
   "name": "python3"
  },
  "language_info": {
   "codemirror_mode": {
    "name": "ipython",
    "version": 3
   },
   "file_extension": ".py",
   "mimetype": "text/x-python",
   "name": "python",
   "nbconvert_exporter": "python",
   "pygments_lexer": "ipython3",
   "version": "3.9.1"
  }
 },
 "nbformat": 4,
 "nbformat_minor": 2
}
