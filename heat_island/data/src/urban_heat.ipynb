{
 "cells": [
  {
   "cell_type": "code",
   "execution_count": 1,
   "metadata": {},
   "outputs": [],
   "source": [
    "import datetime\n",
    "import ee \n",
    "import geemap\n",
    "import colorcet as cc\n",
    "from data_utils.pygeoboundaries import get_adm_ee"
   ]
  },
  {
   "cell_type": "code",
   "execution_count": 2,
   "metadata": {},
   "outputs": [
    {
     "data": {
      "text/html": [
       "\n",
       "            <style>\n",
       "                .geemap-dark {\n",
       "                    --jp-widgets-color: white;\n",
       "                    --jp-widgets-label-color: white;\n",
       "                    --jp-ui-font-color1: white;\n",
       "                    --jp-layout-color2: #454545;\n",
       "                    background-color: #383838;\n",
       "                }\n",
       "                    \n",
       "                .geemap-dark .jupyter-button {\n",
       "                    --jp-layout-color3: #383838;\n",
       "                }\n",
       "                \n",
       "                .geemap-colab {\n",
       "                    background-color: var(--colab-primary-surface-color, white);\n",
       "                }\n",
       "                    \n",
       "                .geemap-colab .jupyter-button {\n",
       "                    --jp-layout-color3: var(--colab-primary-surface-color, white);\n",
       "                }\n",
       "            </style>\n",
       "            "
      ],
      "text/plain": [
       "<IPython.core.display.HTML object>"
      ]
     },
     "metadata": {},
     "output_type": "display_data"
    },
    {
     "data": {
      "text/plain": [
       "True"
      ]
     },
     "execution_count": 2,
     "metadata": {},
     "output_type": "execute_result"
    }
   ],
   "source": [
    "ee.Authenticate()"
   ]
  },
  {
   "cell_type": "code",
   "execution_count": 3,
   "metadata": {},
   "outputs": [
    {
     "data": {
      "text/html": [
       "\n",
       "            <style>\n",
       "                .geemap-dark {\n",
       "                    --jp-widgets-color: white;\n",
       "                    --jp-widgets-label-color: white;\n",
       "                    --jp-ui-font-color1: white;\n",
       "                    --jp-layout-color2: #454545;\n",
       "                    background-color: #383838;\n",
       "                }\n",
       "                    \n",
       "                .geemap-dark .jupyter-button {\n",
       "                    --jp-layout-color3: #383838;\n",
       "                }\n",
       "                \n",
       "                .geemap-colab {\n",
       "                    background-color: var(--colab-primary-surface-color, white);\n",
       "                }\n",
       "                    \n",
       "                .geemap-colab .jupyter-button {\n",
       "                    --jp-layout-color3: var(--colab-primary-surface-color, white);\n",
       "                }\n",
       "            </style>\n",
       "            "
      ],
      "text/plain": [
       "<IPython.core.display.HTML object>"
      ]
     },
     "metadata": {},
     "output_type": "display_data"
    }
   ],
   "source": [
    "ee.Initialize(project='hotspotstoplight')"
   ]
  },
  {
   "cell_type": "code",
   "execution_count": 4,
   "metadata": {},
   "outputs": [
    {
     "data": {
      "text/html": [
       "\n",
       "            <style>\n",
       "                .geemap-dark {\n",
       "                    --jp-widgets-color: white;\n",
       "                    --jp-widgets-label-color: white;\n",
       "                    --jp-ui-font-color1: white;\n",
       "                    --jp-layout-color2: #454545;\n",
       "                    background-color: #383838;\n",
       "                }\n",
       "                    \n",
       "                .geemap-dark .jupyter-button {\n",
       "                    --jp-layout-color3: #383838;\n",
       "                }\n",
       "                \n",
       "                .geemap-colab {\n",
       "                    background-color: var(--colab-primary-surface-color, white);\n",
       "                }\n",
       "                    \n",
       "                .geemap-colab .jupyter-button {\n",
       "                    --jp-layout-color3: var(--colab-primary-surface-color, white);\n",
       "                }\n",
       "            </style>\n",
       "            "
      ],
      "text/plain": [
       "<IPython.core.display.HTML object>"
      ]
     },
     "metadata": {},
     "output_type": "display_data"
    }
   ],
   "source": [
    "startDate = '2023-01-01'\n",
    "endDate = '2023-12-31'\n",
    "\n",
    "place_name = \"Nicaragua\"\n",
    "\n",
    "scale = 90\n",
    "\n",
    "snake_case_place_name = place_name.replace(' ', '_').lower()\n",
    "\n",
    "aoi = get_adm_ee(territories=place_name, adm='ADM0')\n",
    "bbox = aoi.geometry().bounds()"
   ]
  },
  {
   "cell_type": "code",
   "execution_count": 5,
   "metadata": {},
   "outputs": [
    {
     "data": {
      "text/html": [
       "\n",
       "            <style>\n",
       "                .geemap-dark {\n",
       "                    --jp-widgets-color: white;\n",
       "                    --jp-widgets-label-color: white;\n",
       "                    --jp-ui-font-color1: white;\n",
       "                    --jp-layout-color2: #454545;\n",
       "                    background-color: #383838;\n",
       "                }\n",
       "                    \n",
       "                .geemap-dark .jupyter-button {\n",
       "                    --jp-layout-color3: #383838;\n",
       "                }\n",
       "                \n",
       "                .geemap-colab {\n",
       "                    background-color: var(--colab-primary-surface-color, white);\n",
       "                }\n",
       "                    \n",
       "                .geemap-colab .jupyter-button {\n",
       "                    --jp-layout-color3: var(--colab-primary-surface-color, white);\n",
       "                }\n",
       "            </style>\n",
       "            "
      ],
      "text/plain": [
       "<IPython.core.display.HTML object>"
      ]
     },
     "metadata": {},
     "output_type": "display_data"
    }
   ],
   "source": [
    "# Applies scaling factors.\n",
    "def apply_scale_factors(image):\n",
    "    # Scale and offset values for optical bands\n",
    "    optical_bands = image.select('SR_B.').multiply(0.0000275).add(-0.2)\n",
    "    \n",
    "    # Scale and offset values for thermal bands\n",
    "    thermal_bands = image.select('ST_B.*').multiply(0.00341802).add(149.0)\n",
    "    \n",
    "    # Add scaled bands to the original image\n",
    "    return image.addBands(optical_bands, None, True).addBands(thermal_bands, None, True)\n",
    "\n",
    "# Function to Mask Clouds and Cloud Shadows in Landsat 8 Imagery\n",
    "def cloud_mask(image):\n",
    "    # Define cloud shadow and cloud bitmasks (Bits 3 and 5)\n",
    "    cloud_shadow_bitmask = 1 << 3\n",
    "    cloud_bitmask = 1 << 5\n",
    "    \n",
    "    # Select the Quality Assessment (QA) band for pixel quality information\n",
    "    qa = image.select('QA_PIXEL')\n",
    "    \n",
    "    # Create a binary mask to identify clear conditions (both cloud and cloud shadow bits set to 0)\n",
    "    mask = qa.bitwiseAnd(cloud_shadow_bitmask).eq(0).And(qa.bitwiseAnd(cloud_bitmask).eq(0))\n",
    "    \n",
    "    # Update the original image, masking out cloud and cloud shadow-affected pixels\n",
    "    return image.updateMask(mask)"
   ]
  },
  {
   "cell_type": "code",
   "execution_count": 27,
   "metadata": {},
   "outputs": [
    {
     "data": {
      "text/html": [
       "\n",
       "            <style>\n",
       "                .geemap-dark {\n",
       "                    --jp-widgets-color: white;\n",
       "                    --jp-widgets-label-color: white;\n",
       "                    --jp-ui-font-color1: white;\n",
       "                    --jp-layout-color2: #454545;\n",
       "                    background-color: #383838;\n",
       "                }\n",
       "                    \n",
       "                .geemap-dark .jupyter-button {\n",
       "                    --jp-layout-color3: #383838;\n",
       "                }\n",
       "                \n",
       "                .geemap-colab {\n",
       "                    background-color: var(--colab-primary-surface-color, white);\n",
       "                }\n",
       "                    \n",
       "                .geemap-colab .jupyter-button {\n",
       "                    --jp-layout-color3: var(--colab-primary-surface-color, white);\n",
       "                }\n",
       "            </style>\n",
       "            "
      ],
      "text/plain": [
       "<IPython.core.display.HTML object>"
      ]
     },
     "metadata": {},
     "output_type": "display_data"
    }
   ],
   "source": [
    "def process_year(year):\n",
    "    # Define the start and end dates for the year\n",
    "    startDate = ee.Date.fromYMD(year, 1, 1)\n",
    "    endDate = ee.Date.fromYMD(year, 12, 31)\n",
    "\n",
    "    # Import and preprocess Landsat 8 imagery for the year\n",
    "    image = ee.ImageCollection(\"LANDSAT/LC08/C02/T1_L2\") \\\n",
    "                .filterBounds(bbox) \\\n",
    "                .filterDate(startDate, endDate) \\\n",
    "                .map(apply_scale_factors) \\\n",
    "                .map(cloud_mask) \\\n",
    "                .median() \\\n",
    "                .clip(bbox)\n",
    "\n",
    "    # Calculate Normalized Difference Vegetation Index (NDVI)\n",
    "    ndvi = image.normalizedDifference(['SR_B5', 'SR_B4']).rename('NDVI')\n",
    "\n",
    "    # Calculate the minimum and maximum NDVI value within the AOI\n",
    "    ndvi_min = ee.Number(ndvi.reduceRegion(\n",
    "        reducer=ee.Reducer.min(), \n",
    "        geometry=bbox, \n",
    "        scale=scale, \n",
    "        maxPixels=1e13  # Increase maxPixels here\n",
    "    ).values().get(0))\n",
    "\n",
    "    ndvi_max = ee.Number(ndvi.reduceRegion(\n",
    "        reducer=ee.Reducer.max(), \n",
    "        geometry=bbox, \n",
    "        scale=scale, \n",
    "        maxPixels=1e13  # Increase maxPixels here\n",
    "    ).values().get(0))\n",
    "\n",
    "    # Fraction of Vegetation (FV) Calculation\n",
    "    fv = ndvi.subtract(ndvi_min).divide(ndvi_max.subtract(ndvi_min)).pow(2).rename('FV')\n",
    "\n",
    "    # Emissivity Calculation\n",
    "    em = fv.multiply(ee.Number(0.004)).add(ee.Number(0.986)).rename('EM')\n",
    "\n",
    "    # Select Thermal Band (Band 10) and Rename It\n",
    "    thermal = image.select('ST_B10').rename('thermal')\n",
    "\n",
    "    # Land Surface Temperature (LST) Calculation\n",
    "    lst = thermal.expression(\n",
    "        '(TB / (1 + (0.00115 * (TB / 1.438)) * log(em))) - 273.15', {\n",
    "            'TB': thermal.select('thermal'), # Select the thermal band\n",
    "            'em': em # Assign emissivity\n",
    "        }).rename('LST')\n",
    "\n",
    "    landcover = ee.Image(\"ESA/WorldCover/v100/2020\").select('Map').clip(bbox)\n",
    "\n",
    "    dem = ee.ImageCollection(\"projects/sat-io/open-datasets/FABDEM\").mosaic().clip(bbox)\n",
    "\n",
    "    image_for_sampling = landcover.rename('landcover') \\\n",
    "        .addBands(dem.rename('elevation')) \\\n",
    "        .addBands(ee.Image.pixelLonLat()) \\\n",
    "        .addBands(lst) \n",
    "\n",
    "    return image_for_sampling\n",
    "\n",
    "# Define the current year\n",
    "current_year = datetime.datetime.now().year\n",
    "\n",
    "# Create a list of years from 2014 to the year before the current year\n",
    "years = list(range(2014, current_year))\n",
    "\n",
    "# Initialize an empty list to store valid ee.Image objects\n",
    "valid_image_collections = []\n",
    "\n",
    "# Loop over the years from 2014 to the year before the current year\n",
    "for year in years:\n",
    "    processed_image = process_year(year)\n",
    "    \n",
    "    # Check if the processed_image is an instance of ee.Image\n",
    "    if isinstance(processed_image, ee.Image):\n",
    "        valid_image_collections.append(processed_image)\n",
    "    else:\n",
    "        print(f\"Warning: Year {year} did not return a valid ee.Image object and will be excluded.\")\n",
    "\n",
    "# Convert the list of valid ee.Image objects to an ImageCollection\n",
    "image_collection = ee.ImageCollection(valid_image_collections)"
   ]
  },
  {
   "cell_type": "code",
   "execution_count": null,
   "metadata": {},
   "outputs": [],
   "source": []
  },
  {
   "cell_type": "code",
   "execution_count": 36,
   "metadata": {},
   "outputs": [
    {
     "data": {
      "text/html": [
       "\n",
       "            <style>\n",
       "                .geemap-dark {\n",
       "                    --jp-widgets-color: white;\n",
       "                    --jp-widgets-label-color: white;\n",
       "                    --jp-ui-font-color1: white;\n",
       "                    --jp-layout-color2: #454545;\n",
       "                    background-color: #383838;\n",
       "                }\n",
       "                    \n",
       "                .geemap-dark .jupyter-button {\n",
       "                    --jp-layout-color3: #383838;\n",
       "                }\n",
       "                \n",
       "                .geemap-colab {\n",
       "                    background-color: var(--colab-primary-surface-color, white);\n",
       "                }\n",
       "                    \n",
       "                .geemap-colab .jupyter-button {\n",
       "                    --jp-layout-color3: var(--colab-primary-surface-color, white);\n",
       "                }\n",
       "            </style>\n",
       "            "
      ],
      "text/plain": [
       "<IPython.core.display.HTML object>"
      ]
     },
     "metadata": {},
     "output_type": "display_data"
    }
   ],
   "source": [
    "# Define the number of samples per year\n",
    "num_samples_per_year = 25000 // (current_year - 2014)\n",
    "\n",
    "samples_feature_collection = ee.FeatureCollection([])\n",
    "\n",
    "# Loop over each year, process the image, and sample directly\n",
    "for year in range(2014, current_year):\n",
    "    try:\n",
    "        processed_image = process_year(year)\n",
    "        \n",
    "        # Directly sample the processed image\n",
    "        sample = processed_image.sample(\n",
    "            region=bbox,\n",
    "            scale=scale,\n",
    "            numPixels=num_samples_per_year,\n",
    "            seed=0,\n",
    "            geometries=True  # Include geometries if needed for visualization\n",
    "        )\n",
    "        \n",
    "        # Aggregate the samples into a FeatureCollection\n",
    "        samples_feature_collection = samples_feature_collection.merge(sample)\n",
    "        \n",
    "    except Exception as e:\n",
    "        print(f\"Skipping year {year} due to an error: {e}\")"
   ]
  },
  {
   "cell_type": "code",
   "execution_count": 37,
   "metadata": {},
   "outputs": [
    {
     "data": {
      "text/html": [
       "\n",
       "            <style>\n",
       "                .geemap-dark {\n",
       "                    --jp-widgets-color: white;\n",
       "                    --jp-widgets-label-color: white;\n",
       "                    --jp-ui-font-color1: white;\n",
       "                    --jp-layout-color2: #454545;\n",
       "                    background-color: #383838;\n",
       "                }\n",
       "                    \n",
       "                .geemap-dark .jupyter-button {\n",
       "                    --jp-layout-color3: #383838;\n",
       "                }\n",
       "                \n",
       "                .geemap-colab {\n",
       "                    background-color: var(--colab-primary-surface-color, white);\n",
       "                }\n",
       "                    \n",
       "                .geemap-colab .jupyter-button {\n",
       "                    --jp-layout-color3: var(--colab-primary-surface-color, white);\n",
       "                }\n",
       "            </style>\n",
       "            "
      ],
      "text/plain": [
       "<IPython.core.display.HTML object>"
      ]
     },
     "metadata": {},
     "output_type": "display_data"
    }
   ],
   "source": [
    "# Merge the samples to create a single feature collection\n",
    "training_sample = ee.FeatureCollection(samples_feature_collection)\n",
    "\n",
    "# Split the data into training and testing\n",
    "training_sample = training_sample.randomColumn()\n",
    "training = training_sample.filter(ee.Filter.lt('random', 0.7))\n",
    "testing = training_sample.filter(ee.Filter.gte('random', 0.7))\n",
    "\n",
    "# Train the Random Forest regression model\n",
    "# inputProperties=['NDVI', 'NDBI', 'NDWI', 'EM', 'longitude', 'latitude', 'landcover', 'elevation']\n",
    "inputProperties=['longitude', 'latitude', 'landcover', 'elevation']\n",
    "numTrees = 10  # Number of trees in the Random Forest\n",
    "regressor = ee.Classifier.smileRandomForest(numTrees).setOutputMode('REGRESSION').train(\n",
    "    training, \n",
    "    classProperty='LST', \n",
    "    inputProperties=inputProperties\n",
    ")\n"
   ]
  },
  {
   "cell_type": "code",
   "execution_count": 65,
   "metadata": {},
   "outputs": [
    {
     "data": {
      "text/html": [
       "\n",
       "            <style>\n",
       "                .geemap-dark {\n",
       "                    --jp-widgets-color: white;\n",
       "                    --jp-widgets-label-color: white;\n",
       "                    --jp-ui-font-color1: white;\n",
       "                    --jp-layout-color2: #454545;\n",
       "                    background-color: #383838;\n",
       "                }\n",
       "                    \n",
       "                .geemap-dark .jupyter-button {\n",
       "                    --jp-layout-color3: #383838;\n",
       "                }\n",
       "                \n",
       "                .geemap-colab {\n",
       "                    background-color: var(--colab-primary-surface-color, white);\n",
       "                }\n",
       "                    \n",
       "                .geemap-colab .jupyter-button {\n",
       "                    --jp-layout-color3: var(--colab-primary-surface-color, white);\n",
       "                }\n",
       "            </style>\n",
       "            "
      ],
      "text/plain": [
       "<IPython.core.display.HTML object>"
      ]
     },
     "metadata": {},
     "output_type": "display_data"
    }
   ],
   "source": [
    "recent_image = image_collection.sort('system:time_start', False).first()\n",
    "\n",
    "predicted_image = recent_image.select(inputProperties).classify(regressor)\n",
    "\n",
    "difference = recent_image.select('LST').subtract(predicted_image).rename('difference')"
   ]
  },
  {
   "cell_type": "code",
   "execution_count": 67,
   "metadata": {},
   "outputs": [
    {
     "data": {
      "text/html": [
       "\n",
       "            <style>\n",
       "                .geemap-dark {\n",
       "                    --jp-widgets-color: white;\n",
       "                    --jp-widgets-label-color: white;\n",
       "                    --jp-ui-font-color1: white;\n",
       "                    --jp-layout-color2: #454545;\n",
       "                    background-color: #383838;\n",
       "                }\n",
       "                    \n",
       "                .geemap-dark .jupyter-button {\n",
       "                    --jp-layout-color3: #383838;\n",
       "                }\n",
       "                \n",
       "                .geemap-colab {\n",
       "                    background-color: var(--colab-primary-surface-color, white);\n",
       "                }\n",
       "                    \n",
       "                .geemap-colab .jupyter-button {\n",
       "                    --jp-layout-color3: var(--colab-primary-surface-color, white);\n",
       "                }\n",
       "            </style>\n",
       "            "
      ],
      "text/plain": [
       "<IPython.core.display.HTML object>"
      ]
     },
     "metadata": {},
     "output_type": "display_data"
    },
    {
     "name": "stdout",
     "output_type": "stream",
     "text": [
      "RMSE: 2.4805421663066785\n"
     ]
    }
   ],
   "source": [
    "# Assuming 'max_lst' is your actual maximum LST image and 'predicted_image' contains the predictions\n",
    "# Calculate the squared difference between actual and predicted LST\n",
    "squared_difference = recent_image.select('LST').subtract(predicted_image).pow(2).rename('difference')\n",
    "\n",
    "# Reduce the squared differences to get the mean squared difference over your area of interest (aoi)\n",
    "mean_squared_error = squared_difference.reduceRegion(\n",
    "    reducer=ee.Reducer.mean(),\n",
    "    geometry=bbox,\n",
    "    scale=scale,  # Adjust scale to match your dataset's resolution\n",
    "    maxPixels=1e14\n",
    ")\n",
    "\n",
    "# Calculate the square root of the mean squared error to get the RMSE\n",
    "rmse = mean_squared_error.getInfo()['difference'] ** 0.5\n",
    "\n",
    "print('RMSE:', rmse)"
   ]
  },
  {
   "cell_type": "code",
   "execution_count": 66,
   "metadata": {},
   "outputs": [
    {
     "data": {
      "text/html": [
       "\n",
       "            <style>\n",
       "                .geemap-dark {\n",
       "                    --jp-widgets-color: white;\n",
       "                    --jp-widgets-label-color: white;\n",
       "                    --jp-ui-font-color1: white;\n",
       "                    --jp-layout-color2: #454545;\n",
       "                    background-color: #383838;\n",
       "                }\n",
       "                    \n",
       "                .geemap-dark .jupyter-button {\n",
       "                    --jp-layout-color3: #383838;\n",
       "                }\n",
       "                \n",
       "                .geemap-colab {\n",
       "                    background-color: var(--colab-primary-surface-color, white);\n",
       "                }\n",
       "                    \n",
       "                .geemap-colab .jupyter-button {\n",
       "                    --jp-layout-color3: var(--colab-primary-surface-color, white);\n",
       "                }\n",
       "            </style>\n",
       "            "
      ],
      "text/plain": [
       "<IPython.core.display.HTML object>"
      ]
     },
     "metadata": {},
     "output_type": "display_data"
    },
    {
     "data": {
      "application/vnd.jupyter.widget-view+json": {
       "model_id": "fee7a0706af5471481d636122ee7ec12",
       "version_major": 2,
       "version_minor": 0
      },
      "text/plain": [
       "Map(center=[12.866151518767218, -85.046314839144], controls=(WidgetControl(options=['position', 'transparent_b…"
      ]
     },
     "execution_count": 66,
     "metadata": {},
     "output_type": "execute_result"
    }
   ],
   "source": [
    "vizParams = {\n",
    "    'min': 0,\n",
    "    'max': 45,\n",
    "    'palette': cc.fire\n",
    "}\n",
    "\n",
    "m = geemap.Map()\n",
    "m.centerObject(aoi, 8)\n",
    "m.add(\"basemap_selector\")\n",
    "m.add(\"layer_manager\")\n",
    "m.addLayer(recent_image.select('LST').clip(aoi), vizParams, 'Actual Max LST')\n",
    "m.addLayer(predicted_image.clip(aoi), vizParams, 'Predicted LST')\n",
    "m.addLayer(difference.clip(aoi), {'min': -10, 'max': 10, 'palette': cc.cwr}, 'Difference')\n",
    "m"
   ]
  }
 ],
 "metadata": {
  "kernelspec": {
   "display_name": ".venv",
   "language": "python",
   "name": "python3"
  },
  "language_info": {
   "codemirror_mode": {
    "name": "ipython",
    "version": 3
   },
   "file_extension": ".py",
   "mimetype": "text/x-python",
   "name": "python",
   "nbconvert_exporter": "python",
   "pygments_lexer": "ipython3",
   "version": "3.9.0"
  }
 },
 "nbformat": 4,
 "nbformat_minor": 2
}
