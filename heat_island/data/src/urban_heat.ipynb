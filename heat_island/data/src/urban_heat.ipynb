{
 "cells": [
  {
   "cell_type": "code",
   "execution_count": 1,
   "metadata": {},
   "outputs": [],
   "source": [
    "import datetime\n",
    "import ee \n",
    "import geemap\n",
    "import colorcet as cc\n",
    "from data_utils.pygeoboundaries import get_adm_ee\n",
    "from google.cloud import storage\n",
    "import json"
   ]
  },
  {
   "cell_type": "code",
   "execution_count": 2,
   "metadata": {},
   "outputs": [
    {
     "data": {
      "text/html": [
       "\n",
       "            <style>\n",
       "                .geemap-dark {\n",
       "                    --jp-widgets-color: white;\n",
       "                    --jp-widgets-label-color: white;\n",
       "                    --jp-ui-font-color1: white;\n",
       "                    --jp-layout-color2: #454545;\n",
       "                    background-color: #383838;\n",
       "                }\n",
       "                    \n",
       "                .geemap-dark .jupyter-button {\n",
       "                    --jp-layout-color3: #383838;\n",
       "                }\n",
       "                \n",
       "                .geemap-colab {\n",
       "                    background-color: var(--colab-primary-surface-color, white);\n",
       "                }\n",
       "                    \n",
       "                .geemap-colab .jupyter-button {\n",
       "                    --jp-layout-color3: var(--colab-primary-surface-color, white);\n",
       "                }\n",
       "            </style>\n",
       "            "
      ],
      "text/plain": [
       "<IPython.core.display.HTML object>"
      ]
     },
     "metadata": {},
     "output_type": "display_data"
    },
    {
     "data": {
      "text/plain": [
       "True"
      ]
     },
     "execution_count": 2,
     "metadata": {},
     "output_type": "execute_result"
    }
   ],
   "source": [
    "ee.Authenticate()"
   ]
  },
  {
   "cell_type": "code",
   "execution_count": 3,
   "metadata": {},
   "outputs": [
    {
     "data": {
      "text/html": [
       "\n",
       "            <style>\n",
       "                .geemap-dark {\n",
       "                    --jp-widgets-color: white;\n",
       "                    --jp-widgets-label-color: white;\n",
       "                    --jp-ui-font-color1: white;\n",
       "                    --jp-layout-color2: #454545;\n",
       "                    background-color: #383838;\n",
       "                }\n",
       "                    \n",
       "                .geemap-dark .jupyter-button {\n",
       "                    --jp-layout-color3: #383838;\n",
       "                }\n",
       "                \n",
       "                .geemap-colab {\n",
       "                    background-color: var(--colab-primary-surface-color, white);\n",
       "                }\n",
       "                    \n",
       "                .geemap-colab .jupyter-button {\n",
       "                    --jp-layout-color3: var(--colab-primary-surface-color, white);\n",
       "                }\n",
       "            </style>\n",
       "            "
      ],
      "text/plain": [
       "<IPython.core.display.HTML object>"
      ]
     },
     "metadata": {},
     "output_type": "display_data"
    }
   ],
   "source": [
    "cloud_project = 'hotspotstoplight'"
   ]
  },
  {
   "cell_type": "code",
   "execution_count": 4,
   "metadata": {},
   "outputs": [
    {
     "data": {
      "text/html": [
       "\n",
       "            <style>\n",
       "                .geemap-dark {\n",
       "                    --jp-widgets-color: white;\n",
       "                    --jp-widgets-label-color: white;\n",
       "                    --jp-ui-font-color1: white;\n",
       "                    --jp-layout-color2: #454545;\n",
       "                    background-color: #383838;\n",
       "                }\n",
       "                    \n",
       "                .geemap-dark .jupyter-button {\n",
       "                    --jp-layout-color3: #383838;\n",
       "                }\n",
       "                \n",
       "                .geemap-colab {\n",
       "                    background-color: var(--colab-primary-surface-color, white);\n",
       "                }\n",
       "                    \n",
       "                .geemap-colab .jupyter-button {\n",
       "                    --jp-layout-color3: var(--colab-primary-surface-color, white);\n",
       "                }\n",
       "            </style>\n",
       "            "
      ],
      "text/plain": [
       "<IPython.core.display.HTML object>"
      ]
     },
     "metadata": {},
     "output_type": "display_data"
    }
   ],
   "source": [
    "ee.Initialize(project=cloud_project)"
   ]
  },
  {
   "cell_type": "code",
   "execution_count": 5,
   "metadata": {},
   "outputs": [
    {
     "data": {
      "text/html": [
       "\n",
       "            <style>\n",
       "                .geemap-dark {\n",
       "                    --jp-widgets-color: white;\n",
       "                    --jp-widgets-label-color: white;\n",
       "                    --jp-ui-font-color1: white;\n",
       "                    --jp-layout-color2: #454545;\n",
       "                    background-color: #383838;\n",
       "                }\n",
       "                    \n",
       "                .geemap-dark .jupyter-button {\n",
       "                    --jp-layout-color3: #383838;\n",
       "                }\n",
       "                \n",
       "                .geemap-colab {\n",
       "                    background-color: var(--colab-primary-surface-color, white);\n",
       "                }\n",
       "                    \n",
       "                .geemap-colab .jupyter-button {\n",
       "                    --jp-layout-color3: var(--colab-primary-surface-color, white);\n",
       "                }\n",
       "            </style>\n",
       "            "
      ],
      "text/plain": [
       "<IPython.core.display.HTML object>"
      ]
     },
     "metadata": {},
     "output_type": "display_data"
    }
   ],
   "source": [
    "startDate = '2023-01-01'\n",
    "endDate = '2023-12-31'\n",
    "\n",
    "place_name = \"Costa Rica\"\n",
    "\n",
    "scale = 90\n",
    "\n",
    "snake_case_place_name = place_name.replace(' ', '_').lower()\n",
    "\n",
    "aoi = get_adm_ee(territories=place_name, adm='ADM0')\n",
    "bbox = aoi.geometry().bounds()"
   ]
  },
  {
   "cell_type": "code",
   "execution_count": 6,
   "metadata": {},
   "outputs": [
    {
     "data": {
      "text/html": [
       "\n",
       "            <style>\n",
       "                .geemap-dark {\n",
       "                    --jp-widgets-color: white;\n",
       "                    --jp-widgets-label-color: white;\n",
       "                    --jp-ui-font-color1: white;\n",
       "                    --jp-layout-color2: #454545;\n",
       "                    background-color: #383838;\n",
       "                }\n",
       "                    \n",
       "                .geemap-dark .jupyter-button {\n",
       "                    --jp-layout-color3: #383838;\n",
       "                }\n",
       "                \n",
       "                .geemap-colab {\n",
       "                    background-color: var(--colab-primary-surface-color, white);\n",
       "                }\n",
       "                    \n",
       "                .geemap-colab .jupyter-button {\n",
       "                    --jp-layout-color3: var(--colab-primary-surface-color, white);\n",
       "                }\n",
       "            </style>\n",
       "            "
      ],
      "text/plain": [
       "<IPython.core.display.HTML object>"
      ]
     },
     "metadata": {},
     "output_type": "display_data"
    }
   ],
   "source": [
    "# Applies scaling factors.\n",
    "def apply_scale_factors(image):\n",
    "    # Scale and offset values for optical bands\n",
    "    optical_bands = image.select('SR_B.').multiply(0.0000275).add(-0.2)\n",
    "    \n",
    "    # Scale and offset values for thermal bands\n",
    "    thermal_bands = image.select('ST_B.*').multiply(0.00341802).add(149.0)\n",
    "    \n",
    "    # Add scaled bands to the original image\n",
    "    return image.addBands(optical_bands, None, True).addBands(thermal_bands, None, True)\n",
    "\n",
    "# Function to Mask Clouds and Cloud Shadows in Landsat 8 Imagery\n",
    "def cloud_mask(image):\n",
    "    # Define cloud shadow and cloud bitmasks (Bits 3 and 5)\n",
    "    cloud_shadow_bitmask = 1 << 3\n",
    "    cloud_bitmask = 1 << 5\n",
    "    \n",
    "    # Select the Quality Assessment (QA) band for pixel quality information\n",
    "    qa = image.select('QA_PIXEL')\n",
    "    \n",
    "    # Create a binary mask to identify clear conditions (both cloud and cloud shadow bits set to 0)\n",
    "    mask = qa.bitwiseAnd(cloud_shadow_bitmask).eq(0).And(qa.bitwiseAnd(cloud_bitmask).eq(0))\n",
    "    \n",
    "    # Update the original image, masking out cloud and cloud shadow-affected pixels\n",
    "    return image.updateMask(mask)"
   ]
  },
  {
   "cell_type": "code",
   "execution_count": 7,
   "metadata": {},
   "outputs": [
    {
     "data": {
      "text/html": [
       "\n",
       "            <style>\n",
       "                .geemap-dark {\n",
       "                    --jp-widgets-color: white;\n",
       "                    --jp-widgets-label-color: white;\n",
       "                    --jp-ui-font-color1: white;\n",
       "                    --jp-layout-color2: #454545;\n",
       "                    background-color: #383838;\n",
       "                }\n",
       "                    \n",
       "                .geemap-dark .jupyter-button {\n",
       "                    --jp-layout-color3: #383838;\n",
       "                }\n",
       "                \n",
       "                .geemap-colab {\n",
       "                    background-color: var(--colab-primary-surface-color, white);\n",
       "                }\n",
       "                    \n",
       "                .geemap-colab .jupyter-button {\n",
       "                    --jp-layout-color3: var(--colab-primary-surface-color, white);\n",
       "                }\n",
       "            </style>\n",
       "            "
      ],
      "text/plain": [
       "<IPython.core.display.HTML object>"
      ]
     },
     "metadata": {},
     "output_type": "display_data"
    }
   ],
   "source": [
    "from google.cloud import storage\n",
    "import json\n",
    "\n",
    "bucket_name = f'hotspotstoplight_heatmapping'\n",
    "directory_name = f'data/{snake_case_place_name}/inputs/'\n",
    "\n",
    "storage_client = storage.Client(project=cloud_project)\n",
    "bucket = storage_client.bucket(bucket_name)\n",
    "blob = bucket.blob(directory_name)\n",
    "blob.upload_from_string('', content_type='application/x-www-form-urlencoded;charset=UTF-8')"
   ]
  },
  {
   "cell_type": "code",
   "execution_count": 20,
   "metadata": {},
   "outputs": [
    {
     "data": {
      "text/html": [
       "\n",
       "            <style>\n",
       "                .geemap-dark {\n",
       "                    --jp-widgets-color: white;\n",
       "                    --jp-widgets-label-color: white;\n",
       "                    --jp-ui-font-color1: white;\n",
       "                    --jp-layout-color2: #454545;\n",
       "                    background-color: #383838;\n",
       "                }\n",
       "                    \n",
       "                .geemap-dark .jupyter-button {\n",
       "                    --jp-layout-color3: #383838;\n",
       "                }\n",
       "                \n",
       "                .geemap-colab {\n",
       "                    background-color: var(--colab-primary-surface-color, white);\n",
       "                }\n",
       "                    \n",
       "                .geemap-colab .jupyter-button {\n",
       "                    --jp-layout-color3: var(--colab-primary-surface-color, white);\n",
       "                }\n",
       "            </style>\n",
       "            "
      ],
      "text/plain": [
       "<IPython.core.display.HTML object>"
      ]
     },
     "metadata": {},
     "output_type": "display_data"
    }
   ],
   "source": [
    "def export_ndvi_min_max(year, bbox, scale, gcs_bucket, snake_case_place_name, file_prefix=\"ndvi_min_max\"):\n",
    "    try:\n",
    "        startDate = ee.Date.fromYMD(year, 1, 1)\n",
    "        endDate = ee.Date.fromYMD(year, 12, 31)\n",
    "\n",
    "        # Filter the collection for the given year and bounds\n",
    "        imageCollection = ee.ImageCollection(\"LANDSAT/LC08/C02/T1_L2\") \\\n",
    "            .filterBounds(bbox) \\\n",
    "            .filterDate(startDate, endDate) \\\n",
    "            .map(apply_scale_factors) \\\n",
    "            .map(cloud_mask)\n",
    "\n",
    "        # Calculate NDVI for the entire collection\n",
    "        ndviCollection = imageCollection.map(lambda image: image.normalizedDifference(['SR_B5', 'SR_B4']).rename('NDVI'))\n",
    "\n",
    "        # Reduce the collection to get min and max NDVI values\n",
    "        ndvi_min = ndviCollection.reduce(ee.Reducer.min()).reduceRegion(reducer=ee.Reducer.min(), geometry=bbox, scale=scale, maxPixels=1e9)\n",
    "        ndvi_max = ndviCollection.reduce(ee.Reducer.max()).reduceRegion(reducer=ee.Reducer.max(), geometry=bbox, scale=scale, maxPixels=1e9)\n",
    "\n",
    "        # Create a feature to export\n",
    "        feature = ee.Feature(None, {'ndvi_min': ndvi_min.get('NDVI_min'), 'ndvi_max': ndvi_max.get('NDVI_max')})\n",
    "\n",
    "        # Create and start the export task with the specified fileNamePrefix\n",
    "        task = ee.batch.Export.table.toCloudStorage(\n",
    "            collection=ee.FeatureCollection([feature]),\n",
    "            description=f'{file_prefix}_{year}',\n",
    "            bucket=gcs_bucket,\n",
    "            fileNamePrefix=f'data/{snake_case_place_name}/inputs/{file_prefix}_{year}',\n",
    "            fileFormat='CSV'\n",
    "        )\n",
    "        task.start()\n",
    "\n",
    "        # Print statements confirming the task has started\n",
    "        print(f\"Starting export task for NDVI min/max values of year {year}.\")\n",
    "\n",
    "        # Return the task object\n",
    "        return task\n",
    "\n",
    "    except Exception as e:\n",
    "        print(f\"An error occurred while starting the export task for year {year}: {e}\")\n",
    "        return None"
   ]
  },
  {
   "cell_type": "code",
   "execution_count": 19,
   "metadata": {},
   "outputs": [
    {
     "data": {
      "text/html": [
       "\n",
       "            <style>\n",
       "                .geemap-dark {\n",
       "                    --jp-widgets-color: white;\n",
       "                    --jp-widgets-label-color: white;\n",
       "                    --jp-ui-font-color1: white;\n",
       "                    --jp-layout-color2: #454545;\n",
       "                    background-color: #383838;\n",
       "                }\n",
       "                    \n",
       "                .geemap-dark .jupyter-button {\n",
       "                    --jp-layout-color3: #383838;\n",
       "                }\n",
       "                \n",
       "                .geemap-colab {\n",
       "                    background-color: var(--colab-primary-surface-color, white);\n",
       "                }\n",
       "                    \n",
       "                .geemap-colab .jupyter-button {\n",
       "                    --jp-layout-color3: var(--colab-primary-surface-color, white);\n",
       "                }\n",
       "            </style>\n",
       "            "
      ],
      "text/plain": [
       "<IPython.core.display.HTML object>"
      ]
     },
     "metadata": {},
     "output_type": "display_data"
    }
   ],
   "source": [
    "from io import StringIO\n",
    "\n",
    "def download_ndvi_values_from_gcs(cloud_project, bucket_name, directory_name, snake_case_place_name, year):\n",
    "    storage_client = storage.Client(project=cloud_project)\n",
    "    bucket = storage_client.bucket(bucket_name)\n",
    "    \n",
    "    # Define the blob's name for CSV file\n",
    "    blob_name = f'ndvi_min_max_{year}.csv'\n",
    "    blob = bucket.blob(blob_name)\n",
    "    \n",
    "    # Download the data as a string\n",
    "    ndvi_data_csv = blob.download_as_string()\n",
    "    \n",
    "    # Parse the CSV data\n",
    "    ndvi_data = csv.reader(StringIO(ndvi_data_csv.decode('utf-8')))\n",
    "    rows = list(ndvi_data)\n",
    "    \n",
    "    # Assuming the first row after the header contains NDVI min and the second row contains NDVI max\n",
    "    ndvi_min = rows[1][0]  # Access the first column in the second row\n",
    "    ndvi_max = rows[2][0]  # Access the first column in the third row\n",
    "    \n",
    "    return float(ndvi_min), float(ndvi_max)"
   ]
  },
  {
   "cell_type": "code",
   "execution_count": 21,
   "metadata": {},
   "outputs": [
    {
     "data": {
      "text/html": [
       "\n",
       "            <style>\n",
       "                .geemap-dark {\n",
       "                    --jp-widgets-color: white;\n",
       "                    --jp-widgets-label-color: white;\n",
       "                    --jp-ui-font-color1: white;\n",
       "                    --jp-layout-color2: #454545;\n",
       "                    background-color: #383838;\n",
       "                }\n",
       "                    \n",
       "                .geemap-dark .jupyter-button {\n",
       "                    --jp-layout-color3: #383838;\n",
       "                }\n",
       "                \n",
       "                .geemap-colab {\n",
       "                    background-color: var(--colab-primary-surface-color, white);\n",
       "                }\n",
       "                    \n",
       "                .geemap-colab .jupyter-button {\n",
       "                    --jp-layout-color3: var(--colab-primary-surface-color, white);\n",
       "                }\n",
       "            </style>\n",
       "            "
      ],
      "text/plain": [
       "<IPython.core.display.HTML object>"
      ]
     },
     "metadata": {},
     "output_type": "display_data"
    }
   ],
   "source": [
    "def process_year(year, ndvi_min, ndvi_max):\n",
    "    # Define the start and end dates for the year\n",
    "    startDate = ee.Date.fromYMD(year, 1, 1)\n",
    "    endDate = ee.Date.fromYMD(year, 12, 31)\n",
    "\n",
    "    # Import and preprocess Landsat 8 imagery for the year\n",
    "    imageCollection = ee.ImageCollection(\"LANDSAT/LC08/C02/T1_L2\") \\\n",
    "                .filterBounds(bbox) \\\n",
    "                .filterDate(startDate, endDate) \\\n",
    "                .map(apply_scale_factors) \\\n",
    "                .map(cloud_mask)\n",
    "\n",
    "    # Function to calculate LST for each image in the collection\n",
    "    def calculate_lst(image):\n",
    "        # Calculate Normalized Difference Vegetation Index (NDVI)\n",
    "        ndvi = image.normalizedDifference(['SR_B5', 'SR_B4']).rename('NDVI')\n",
    "        \n",
    "        # Use the passed ndvi_min and ndvi_max directly instead of calculating them\n",
    "        # Convert them to ee.Number since they are likely passed as Python primitives\n",
    "        ndvi_min_ee = ee.Number(ndvi_min)\n",
    "        ndvi_max_ee = ee.Number(ndvi_max)\n",
    "\n",
    "        # Fraction of Vegetation (FV) Calculation\n",
    "        fv = ee.Image().expression(\n",
    "            \"(ndvi - ndvi_min) / (ndvi_max - ndvi_min)\",\n",
    "            {\n",
    "                'ndvi': ndvi,\n",
    "                'ndvi_max': ndvi_max_ee,\n",
    "                'ndvi_min': ndvi_min_ee\n",
    "            }\n",
    "        ).pow(2).rename('FV')\n",
    "\n",
    "        # Emissivity Calculation\n",
    "        em = fv.multiply(ee.Number(0.004)).add(ee.Number(0.986)).rename('EM')\n",
    "\n",
    "        # Select Thermal Band (Band 10) and Rename It\n",
    "        thermal = image.select('ST_B10').rename('thermal')\n",
    "\n",
    "        # Land Surface Temperature (LST) Calculation\n",
    "        lst = thermal.expression(\n",
    "            '(TB / (1 + (0.00115 * (TB / 1.438)) * log(em))) - 273.15', {\n",
    "                'TB': thermal.select('thermal'), # Select the thermal band\n",
    "                'em': em # Assign emissivity\n",
    "            }).rename('LST')\n",
    "\n",
    "        return lst\n",
    "\n",
    "    # Apply the calculate_lst function to each image in the collection\n",
    "    lstCollection = imageCollection.map(calculate_lst)\n",
    "\n",
    "    # Create a binary image for each image in the collection where 1 indicates LST >= 33 and 0 otherwise\n",
    "    hotDaysCollection = lstCollection.map(lambda image: image.gte(33))\n",
    "\n",
    "    # Sum all the binary images in the collection to get the total number of hot days in the year\n",
    "    hotDaysYear = hotDaysCollection.sum()\n",
    "\n",
    "    landcover = ee.Image(\"ESA/WorldCover/v100/2020\").select('Map').clip(bbox)\n",
    "\n",
    "    dem = ee.ImageCollection(\"projects/sat-io/open-datasets/FABDEM\").mosaic().clip(bbox)\n",
    "\n",
    "    image_for_sampling = landcover.rename('landcover') \\\n",
    "        .addBands(dem.rename('elevation')) \\\n",
    "        .addBands(ee.Image.pixelLonLat()) \\\n",
    "        .addBands(hotDaysYear.rename('hot_days')) \n",
    "\n",
    "    return image_for_sampling\n"
   ]
  },
  {
   "cell_type": "code",
   "execution_count": 11,
   "metadata": {},
   "outputs": [
    {
     "data": {
      "text/html": [
       "\n",
       "            <style>\n",
       "                .geemap-dark {\n",
       "                    --jp-widgets-color: white;\n",
       "                    --jp-widgets-label-color: white;\n",
       "                    --jp-ui-font-color1: white;\n",
       "                    --jp-layout-color2: #454545;\n",
       "                    background-color: #383838;\n",
       "                }\n",
       "                    \n",
       "                .geemap-dark .jupyter-button {\n",
       "                    --jp-layout-color3: #383838;\n",
       "                }\n",
       "                \n",
       "                .geemap-colab {\n",
       "                    background-color: var(--colab-primary-surface-color, white);\n",
       "                }\n",
       "                    \n",
       "                .geemap-colab .jupyter-button {\n",
       "                    --jp-layout-color3: var(--colab-primary-surface-color, white);\n",
       "                }\n",
       "            </style>\n",
       "            "
      ],
      "text/plain": [
       "<IPython.core.display.HTML object>"
      ]
     },
     "metadata": {},
     "output_type": "display_data"
    }
   ],
   "source": [
    "from data_utils.monitor_tasks import monitor_tasks"
   ]
  },
  {
   "cell_type": "code",
   "execution_count": 22,
   "metadata": {},
   "outputs": [
    {
     "data": {
      "text/html": [
       "\n",
       "            <style>\n",
       "                .geemap-dark {\n",
       "                    --jp-widgets-color: white;\n",
       "                    --jp-widgets-label-color: white;\n",
       "                    --jp-ui-font-color1: white;\n",
       "                    --jp-layout-color2: #454545;\n",
       "                    background-color: #383838;\n",
       "                }\n",
       "                    \n",
       "                .geemap-dark .jupyter-button {\n",
       "                    --jp-layout-color3: #383838;\n",
       "                }\n",
       "                \n",
       "                .geemap-colab {\n",
       "                    background-color: var(--colab-primary-surface-color, white);\n",
       "                }\n",
       "                    \n",
       "                .geemap-colab .jupyter-button {\n",
       "                    --jp-layout-color3: var(--colab-primary-surface-color, white);\n",
       "                }\n",
       "            </style>\n",
       "            "
      ],
      "text/plain": [
       "<IPython.core.display.HTML object>"
      ]
     },
     "metadata": {},
     "output_type": "display_data"
    }
   ],
   "source": [
    "def file_exists_in_gcs(bucket_name, blob_name, cloud_project):\n",
    "    \"\"\"Check if a file exists in Google Cloud Storage.\"\"\"\n",
    "    storage_client = storage.Client(project=cloud_project)\n",
    "    bucket = storage_client.bucket(bucket_name)\n",
    "    blob = bucket.blob(blob_name)\n",
    "    return blob.exists()"
   ]
  },
  {
   "cell_type": "code",
   "execution_count": 23,
   "metadata": {},
   "outputs": [
    {
     "data": {
      "text/html": [
       "\n",
       "            <style>\n",
       "                .geemap-dark {\n",
       "                    --jp-widgets-color: white;\n",
       "                    --jp-widgets-label-color: white;\n",
       "                    --jp-ui-font-color1: white;\n",
       "                    --jp-layout-color2: #454545;\n",
       "                    background-color: #383838;\n",
       "                }\n",
       "                    \n",
       "                .geemap-dark .jupyter-button {\n",
       "                    --jp-layout-color3: #383838;\n",
       "                }\n",
       "                \n",
       "                .geemap-colab {\n",
       "                    background-color: var(--colab-primary-surface-color, white);\n",
       "                }\n",
       "                    \n",
       "                .geemap-colab .jupyter-button {\n",
       "                    --jp-layout-color3: var(--colab-primary-surface-color, white);\n",
       "                }\n",
       "            </style>\n",
       "            "
      ],
      "text/plain": [
       "<IPython.core.display.HTML object>"
      ]
     },
     "metadata": {},
     "output_type": "display_data"
    },
    {
     "name": "stdout",
     "output_type": "stream",
     "text": [
      "Starting NDVI min/max export tasks...\n",
      "Initiating export task for year: 2018\n",
      "Starting export task for NDVI min/max values of year 2018.\n",
      "Initiating export task for year: 2019\n",
      "Starting export task for NDVI min/max values of year 2019.\n",
      "Initiating export task for year: 2020\n",
      "Starting export task for NDVI min/max values of year 2020.\n",
      "Initiating export task for year: 2021\n",
      "Starting export task for NDVI min/max values of year 2021.\n",
      "Initiating export task for year: 2022\n",
      "Starting export task for NDVI min/max values of year 2022.\n",
      "Initiating export task for year: 2023\n",
      "Starting export task for NDVI min/max values of year 2023.\n",
      "6 export tasks have been initiated. Monitoring tasks...\n",
      "Monitoring tasks...\n",
      "Task YGWLJMQPUGG4AV62E26RBM7K completed successfully.\n",
      "Task Y7ATWUDNUTNAK6NTBH4LE2PP completed successfully.\n",
      "Task RL5WI6XW3SG4OGPIIFLZV2BF completed successfully.\n",
      "Task 2D5JS3S7WX5GUV75QVBNK54E is READY.\n",
      "Task GVL4TX7ZNWLKIK7KZUCAPWX4 is READY.\n",
      "Task BHVOTSIN2P5ELQJ2MAHAAJOE is READY.\n"
     ]
    }
   ],
   "source": [
    "\n",
    "export_tasks = []\n",
    "\n",
    "print(\"Starting NDVI min/max export tasks...\")\n",
    "\n",
    "for year in range(2018, 2024):\n",
    "    # Define the blob's name for the CSV file\n",
    "    blob_name = f'hotspotstoplight_heatmapping/data/{snake_case_place_name}/inputs/ndvi_min_max_{year}.csv'\n",
    "    \n",
    "    # Check if the file already exists\n",
    "    if not file_exists_in_gcs(bucket_name, blob_name, cloud_project):\n",
    "\n",
    "        task = export_ndvi_min_max(year, bbox, scale, bucket_name, snake_case_place_name, file_prefix=\"ndvi_min_max\")\n",
    "        if task is not None:\n",
    "            export_tasks.append(task)\n",
    "        else:\n",
    "            print(f\"Failed to initiate export task for year: {year}\")\n",
    "    else:\n",
    "        print(f\"CSV file for year {year} already exists. Skipping export.\")\n",
    "\n",
    "if export_tasks:\n",
    "    print(f\"{len(export_tasks)} export tasks have been initiated. Monitoring tasks...\")\n",
    "    monitor_tasks(export_tasks)\n",
    "    print(\"All export tasks have completed.\")\n",
    "else:\n",
    "    print(\"No new export tasks were initiated.\")\n",
    "\n",
    "# Initialize an empty Python list to hold the processed ee.Image objects\n",
    "processed_images = []\n",
    "\n",
    "print(\"Starting to process and download NDVI values...\")\n",
    "\n",
    "# After ensuring all export tasks are completed, proceed to download and process\n",
    "for year in range(2018, 2024):\n",
    "    print(f\"Downloading NDVI values for year: {year}\")\n",
    "    ndvi_min, ndvi_max = download_ndvi_values_from_gcs(cloud_project, bucket_name, directory_name, snake_case_place_name, year)\n",
    "    \n",
    "    print(f\"Processing data for year: {year}\")\n",
    "    image_for_sampling = process_year(year, ndvi_min, ndvi_max)\n",
    "    \n",
    "    processed_images.append(image_for_sampling)\n",
    "    print(f\"Completed processing for year: {year}\")\n",
    "\n",
    "print(\"Converting processed images into an ee.ImageCollection...\")\n",
    "# Convert the list of ee.Image objects into an ee.ImageCollection\n",
    "final_image_collection = ee.ImageCollection.fromImages(processed_images)\n",
    "\n",
    "print(\"Processing complete.\")"
   ]
  },
  {
   "cell_type": "code",
   "execution_count": null,
   "metadata": {},
   "outputs": [],
   "source": [
    "# Define the current year\n",
    "current_year = datetime.datetime.now().year\n",
    "\n",
    "# Create a list of years from 2014 to the year before the current year\n",
    "years = list(range(2014, current_year))\n",
    "\n",
    "# Initialize an empty list to store valid ee.Image objects\n",
    "valid_image_collections = []\n",
    "\n",
    "# Loop over the years from 2014 to the year before the current year\n",
    "for year in years:\n",
    "    processed_image = process_year(year)\n",
    "    \n",
    "    # Check if the processed_image is an instance of ee.Image\n",
    "    if isinstance(processed_image, ee.Image):\n",
    "        valid_image_collections.append(processed_image)\n",
    "    else:\n",
    "        print(f\"Warning: Year {year} did not return a valid ee.Image object and will be excluded.\")\n",
    "\n",
    "# Convert the list of valid ee.Image objects to an ImageCollection\n",
    "image_collection = ee.ImageCollection(valid_image_collections)"
   ]
  },
  {
   "cell_type": "code",
   "execution_count": null,
   "metadata": {},
   "outputs": [],
   "source": [
    "# Define the number of samples per year\n",
    "num_samples_per_year = 25000 // (current_year - 2014)\n",
    "\n",
    "samples_feature_collection = ee.FeatureCollection([])\n",
    "\n",
    "# Loop over each year, process the image, and sample directly\n",
    "for year in range(2014, current_year):\n",
    "    try:\n",
    "        processed_image = process_year(year)\n",
    "        \n",
    "        # Directly sample the processed image\n",
    "        sample = processed_image.sample(\n",
    "            region=bbox,\n",
    "            scale=scale,\n",
    "            numPixels=num_samples_per_year,\n",
    "            seed=0,\n",
    "            geometries=True  # Include geometries if needed for visualization\n",
    "        )\n",
    "        \n",
    "        # Aggregate the samples into a FeatureCollection\n",
    "        samples_feature_collection = samples_feature_collection.merge(sample)\n",
    "        \n",
    "    except Exception as e:\n",
    "        print(f\"Skipping year {year} due to an error: {e}\")"
   ]
  },
  {
   "cell_type": "code",
   "execution_count": null,
   "metadata": {},
   "outputs": [],
   "source": [
    "# Merge the samples to create a single feature collection\n",
    "training_sample = ee.FeatureCollection(samples_feature_collection)\n",
    "\n",
    "# Split the data into training and testing\n",
    "training_sample = training_sample.randomColumn()\n",
    "training = training_sample.filter(ee.Filter.lt('random', 0.7))\n",
    "testing = training_sample.filter(ee.Filter.gte('random', 0.7))\n",
    "\n",
    "# Train the Random Forest regression model\n",
    "# inputProperties=['NDVI', 'NDBI', 'NDWI', 'EM', 'longitude', 'latitude', 'landcover', 'elevation']\n",
    "inputProperties=['longitude', 'latitude', 'landcover', 'elevation']\n",
    "numTrees = 10  # Number of trees in the Random Forest\n",
    "regressor = ee.Classifier.smileRandomForest(numTrees).setOutputMode('REGRESSION').train(\n",
    "    training, \n",
    "    classProperty='hot_days', \n",
    "    inputProperties=inputProperties\n",
    ")\n"
   ]
  },
  {
   "cell_type": "code",
   "execution_count": null,
   "metadata": {},
   "outputs": [],
   "source": [
    "recent_image = image_collection.sort('system:time_start', False).first()\n",
    "\n",
    "predicted_image = recent_image.select(inputProperties).classify(regressor)\n",
    "\n",
    "difference = recent_image.select('hot_days').subtract(predicted_image).rename('difference')"
   ]
  },
  {
   "cell_type": "code",
   "execution_count": null,
   "metadata": {},
   "outputs": [],
   "source": [
    "# Assuming 'max_lst' is your actual maximum LST image and 'predicted_image' contains the predictions\n",
    "# Calculate the squared difference between actual and predicted LST\n",
    "squared_difference = recent_image.select('hot_days').subtract(predicted_image).pow(2).rename('difference')\n",
    "\n",
    "# Reduce the squared differences to get the mean squared difference over your area of interest (aoi)\n",
    "mean_squared_error = squared_difference.reduceRegion(\n",
    "    reducer=ee.Reducer.mean(),\n",
    "    geometry=bbox,\n",
    "    scale=scale,  # Adjust scale to match your dataset's resolution\n",
    "    maxPixels=1e14\n",
    ")\n",
    "\n",
    "# Calculate the square root of the mean squared error to get the RMSE\n",
    "rmse = mean_squared_error.getInfo()['difference'] ** 0.5\n",
    "\n",
    "print('RMSE:', rmse)"
   ]
  },
  {
   "cell_type": "code",
   "execution_count": null,
   "metadata": {},
   "outputs": [],
   "source": [
    "vizParams = {\n",
    "    'min': 0,\n",
    "    'max': 45,\n",
    "    'palette': cc.fire\n",
    "}\n",
    "\n",
    "m = geemap.Map()\n",
    "m.centerObject(aoi, 8)\n",
    "m.add(\"basemap_selector\")\n",
    "m.add(\"layer_manager\")\n",
    "m.addLayer(recent_image.select('hot_days').clip(aoi), vizParams, 'Actual Max LST')\n",
    "m.addLayer(predicted_image.clip(aoi), vizParams, 'Predicted LST')\n",
    "m.addLayer(difference.clip(aoi), {'min': -10, 'max': 10, 'palette': cc.cwr}, 'Difference')\n",
    "m"
   ]
  }
 ],
 "metadata": {
  "kernelspec": {
   "display_name": ".venv",
   "language": "python",
   "name": "python3"
  },
  "language_info": {
   "codemirror_mode": {
    "name": "ipython",
    "version": 3
   },
   "file_extension": ".py",
   "mimetype": "text/x-python",
   "name": "python",
   "nbconvert_exporter": "python",
   "pygments_lexer": "ipython3",
   "version": "3.9.0"
  }
 },
 "nbformat": 4,
 "nbformat_minor": 2
}
