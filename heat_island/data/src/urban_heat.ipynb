{
 "cells": [
  {
   "cell_type": "code",
   "execution_count": 82,
   "metadata": {},
   "outputs": [
    {
     "data": {
      "text/html": [
       "\n",
       "            <style>\n",
       "                .geemap-dark {\n",
       "                    --jp-widgets-color: white;\n",
       "                    --jp-widgets-label-color: white;\n",
       "                    --jp-ui-font-color1: white;\n",
       "                    --jp-layout-color2: #454545;\n",
       "                    background-color: #383838;\n",
       "                }\n",
       "                    \n",
       "                .geemap-dark .jupyter-button {\n",
       "                    --jp-layout-color3: #383838;\n",
       "                }\n",
       "                \n",
       "                .geemap-colab {\n",
       "                    background-color: var(--colab-primary-surface-color, white);\n",
       "                }\n",
       "                    \n",
       "                .geemap-colab .jupyter-button {\n",
       "                    --jp-layout-color3: var(--colab-primary-surface-color, white);\n",
       "                }\n",
       "            </style>\n",
       "            "
      ],
      "text/plain": [
       "<IPython.core.display.HTML object>"
      ]
     },
     "metadata": {},
     "output_type": "display_data"
    }
   ],
   "source": [
    "import datetime\n",
    "import ee\n",
    "import geemap\n",
    "import colorcet as cc\n",
    "from data_utils.pygeoboundaries import get_adm_ee\n",
    "from google.cloud import storage\n",
    "import json\n",
    "from data_utils.monitor_tasks import monitor_tasks"
   ]
  },
  {
   "cell_type": "code",
   "execution_count": 2,
   "metadata": {},
   "outputs": [
    {
     "data": {
      "text/html": [
       "\n",
       "            <style>\n",
       "                .geemap-dark {\n",
       "                    --jp-widgets-color: white;\n",
       "                    --jp-widgets-label-color: white;\n",
       "                    --jp-ui-font-color1: white;\n",
       "                    --jp-layout-color2: #454545;\n",
       "                    background-color: #383838;\n",
       "                }\n",
       "                    \n",
       "                .geemap-dark .jupyter-button {\n",
       "                    --jp-layout-color3: #383838;\n",
       "                }\n",
       "                \n",
       "                .geemap-colab {\n",
       "                    background-color: var(--colab-primary-surface-color, white);\n",
       "                }\n",
       "                    \n",
       "                .geemap-colab .jupyter-button {\n",
       "                    --jp-layout-color3: var(--colab-primary-surface-color, white);\n",
       "                }\n",
       "            </style>\n",
       "            "
      ],
      "text/plain": [
       "<IPython.core.display.HTML object>"
      ]
     },
     "metadata": {},
     "output_type": "display_data"
    },
    {
     "data": {
      "text/plain": [
       "True"
      ]
     },
     "execution_count": 2,
     "metadata": {},
     "output_type": "execute_result"
    }
   ],
   "source": [
    "ee.Authenticate()"
   ]
  },
  {
   "cell_type": "code",
   "execution_count": 3,
   "metadata": {},
   "outputs": [
    {
     "data": {
      "text/html": [
       "\n",
       "            <style>\n",
       "                .geemap-dark {\n",
       "                    --jp-widgets-color: white;\n",
       "                    --jp-widgets-label-color: white;\n",
       "                    --jp-ui-font-color1: white;\n",
       "                    --jp-layout-color2: #454545;\n",
       "                    background-color: #383838;\n",
       "                }\n",
       "                    \n",
       "                .geemap-dark .jupyter-button {\n",
       "                    --jp-layout-color3: #383838;\n",
       "                }\n",
       "                \n",
       "                .geemap-colab {\n",
       "                    background-color: var(--colab-primary-surface-color, white);\n",
       "                }\n",
       "                    \n",
       "                .geemap-colab .jupyter-button {\n",
       "                    --jp-layout-color3: var(--colab-primary-surface-color, white);\n",
       "                }\n",
       "            </style>\n",
       "            "
      ],
      "text/plain": [
       "<IPython.core.display.HTML object>"
      ]
     },
     "metadata": {},
     "output_type": "display_data"
    }
   ],
   "source": [
    "cloud_project = \"hotspotstoplight\""
   ]
  },
  {
   "cell_type": "code",
   "execution_count": 4,
   "metadata": {},
   "outputs": [
    {
     "data": {
      "text/html": [
       "\n",
       "            <style>\n",
       "                .geemap-dark {\n",
       "                    --jp-widgets-color: white;\n",
       "                    --jp-widgets-label-color: white;\n",
       "                    --jp-ui-font-color1: white;\n",
       "                    --jp-layout-color2: #454545;\n",
       "                    background-color: #383838;\n",
       "                }\n",
       "                    \n",
       "                .geemap-dark .jupyter-button {\n",
       "                    --jp-layout-color3: #383838;\n",
       "                }\n",
       "                \n",
       "                .geemap-colab {\n",
       "                    background-color: var(--colab-primary-surface-color, white);\n",
       "                }\n",
       "                    \n",
       "                .geemap-colab .jupyter-button {\n",
       "                    --jp-layout-color3: var(--colab-primary-surface-color, white);\n",
       "                }\n",
       "            </style>\n",
       "            "
      ],
      "text/plain": [
       "<IPython.core.display.HTML object>"
      ]
     },
     "metadata": {},
     "output_type": "display_data"
    }
   ],
   "source": [
    "ee.Initialize(project=cloud_project)"
   ]
  },
  {
   "cell_type": "code",
   "execution_count": 76,
   "metadata": {},
   "outputs": [
    {
     "data": {
      "text/html": [
       "\n",
       "            <style>\n",
       "                .geemap-dark {\n",
       "                    --jp-widgets-color: white;\n",
       "                    --jp-widgets-label-color: white;\n",
       "                    --jp-ui-font-color1: white;\n",
       "                    --jp-layout-color2: #454545;\n",
       "                    background-color: #383838;\n",
       "                }\n",
       "                    \n",
       "                .geemap-dark .jupyter-button {\n",
       "                    --jp-layout-color3: #383838;\n",
       "                }\n",
       "                \n",
       "                .geemap-colab {\n",
       "                    background-color: var(--colab-primary-surface-color, white);\n",
       "                }\n",
       "                    \n",
       "                .geemap-colab .jupyter-button {\n",
       "                    --jp-layout-color3: var(--colab-primary-surface-color, white);\n",
       "                }\n",
       "            </style>\n",
       "            "
      ],
      "text/plain": [
       "<IPython.core.display.HTML object>"
      ]
     },
     "metadata": {},
     "output_type": "display_data"
    }
   ],
   "source": [
    "place_name = \"Costa Rica\"\n",
    "\n",
    "scale = 90\n",
    "\n",
    "snake_case_place_name = place_name.replace(\" \", \"_\").lower()\n",
    "\n",
    "aoi = get_adm_ee(territories=place_name, adm=\"ADM0\")\n",
    "bbox = aoi.geometry().bounds()"
   ]
  },
  {
   "cell_type": "code",
   "execution_count": 77,
   "metadata": {},
   "outputs": [
    {
     "data": {
      "text/html": [
       "\n",
       "            <style>\n",
       "                .geemap-dark {\n",
       "                    --jp-widgets-color: white;\n",
       "                    --jp-widgets-label-color: white;\n",
       "                    --jp-ui-font-color1: white;\n",
       "                    --jp-layout-color2: #454545;\n",
       "                    background-color: #383838;\n",
       "                }\n",
       "                    \n",
       "                .geemap-dark .jupyter-button {\n",
       "                    --jp-layout-color3: #383838;\n",
       "                }\n",
       "                \n",
       "                .geemap-colab {\n",
       "                    background-color: var(--colab-primary-surface-color, white);\n",
       "                }\n",
       "                    \n",
       "                .geemap-colab .jupyter-button {\n",
       "                    --jp-layout-color3: var(--colab-primary-surface-color, white);\n",
       "                }\n",
       "            </style>\n",
       "            "
      ],
      "text/plain": [
       "<IPython.core.display.HTML object>"
      ]
     },
     "metadata": {},
     "output_type": "display_data"
    }
   ],
   "source": [
    "# Applies scaling factors.\n",
    "def apply_scale_factors(image):\n",
    "    # Scale and offset values for optical bands\n",
    "    optical_bands = image.select(\"SR_B.\").multiply(0.0000275).add(-0.2)\n",
    "\n",
    "    # Scale and offset values for thermal bands\n",
    "    thermal_bands = image.select(\"ST_B.*\").multiply(0.00341802).add(149.0)\n",
    "\n",
    "    # Add scaled bands to the original image\n",
    "    return image.addBands(optical_bands, None, True).addBands(thermal_bands, None, True)\n",
    "\n",
    "\n",
    "# Function to Mask Clouds and Cloud Shadows in Landsat 8 Imagery\n",
    "def cloud_mask(image):\n",
    "    # Define cloud shadow and cloud bitmasks (Bits 3 and 5)\n",
    "    cloud_shadow_bitmask = 1 << 3\n",
    "    cloud_bitmask = 1 << 5\n",
    "\n",
    "    # Select the Quality Assessment (QA) band for pixel quality information\n",
    "    qa = image.select(\"QA_PIXEL\")\n",
    "\n",
    "    # Create a binary mask to identify clear conditions (both cloud and cloud shadow bits set to 0)\n",
    "    mask = (\n",
    "        qa.bitwiseAnd(cloud_shadow_bitmask)\n",
    "        .eq(0)\n",
    "        .And(qa.bitwiseAnd(cloud_bitmask).eq(0))\n",
    "    )\n",
    "\n",
    "    # Update the original image, masking out cloud and cloud shadow-affected pixels\n",
    "    return image.updateMask(mask)"
   ]
  },
  {
   "cell_type": "code",
   "execution_count": 78,
   "metadata": {},
   "outputs": [
    {
     "data": {
      "text/html": [
       "\n",
       "            <style>\n",
       "                .geemap-dark {\n",
       "                    --jp-widgets-color: white;\n",
       "                    --jp-widgets-label-color: white;\n",
       "                    --jp-ui-font-color1: white;\n",
       "                    --jp-layout-color2: #454545;\n",
       "                    background-color: #383838;\n",
       "                }\n",
       "                    \n",
       "                .geemap-dark .jupyter-button {\n",
       "                    --jp-layout-color3: #383838;\n",
       "                }\n",
       "                \n",
       "                .geemap-colab {\n",
       "                    background-color: var(--colab-primary-surface-color, white);\n",
       "                }\n",
       "                    \n",
       "                .geemap-colab .jupyter-button {\n",
       "                    --jp-layout-color3: var(--colab-primary-surface-color, white);\n",
       "                }\n",
       "            </style>\n",
       "            "
      ],
      "text/plain": [
       "<IPython.core.display.HTML object>"
      ]
     },
     "metadata": {},
     "output_type": "display_data"
    }
   ],
   "source": [
    "from google.cloud import storage\n",
    "import json\n",
    "\n",
    "bucket_name = f\"hotspotstoplight_heatmapping\"\n",
    "directory_name = f\"data/{snake_case_place_name}/inputs/\"\n",
    "\n",
    "storage_client = storage.Client(project=cloud_project)\n",
    "bucket = storage_client.bucket(bucket_name)\n",
    "blob = bucket.blob(directory_name)\n",
    "blob.upload_from_string(\n",
    "    \"\", content_type=\"application/x-www-form-urlencoded;charset=UTF-8\"\n",
    ")"
   ]
  },
  {
   "cell_type": "code",
   "execution_count": 79,
   "metadata": {},
   "outputs": [
    {
     "data": {
      "text/html": [
       "\n",
       "            <style>\n",
       "                .geemap-dark {\n",
       "                    --jp-widgets-color: white;\n",
       "                    --jp-widgets-label-color: white;\n",
       "                    --jp-ui-font-color1: white;\n",
       "                    --jp-layout-color2: #454545;\n",
       "                    background-color: #383838;\n",
       "                }\n",
       "                    \n",
       "                .geemap-dark .jupyter-button {\n",
       "                    --jp-layout-color3: #383838;\n",
       "                }\n",
       "                \n",
       "                .geemap-colab {\n",
       "                    background-color: var(--colab-primary-surface-color, white);\n",
       "                }\n",
       "                    \n",
       "                .geemap-colab .jupyter-button {\n",
       "                    --jp-layout-color3: var(--colab-primary-surface-color, white);\n",
       "                }\n",
       "            </style>\n",
       "            "
      ],
      "text/plain": [
       "<IPython.core.display.HTML object>"
      ]
     },
     "metadata": {},
     "output_type": "display_data"
    }
   ],
   "source": [
    "def export_ndvi_min_max(\n",
    "    year, bbox, scale, gcs_bucket, snake_case_place_name, file_prefix=\"ndvi_min_max\"\n",
    "):\n",
    "    try:\n",
    "        startDate = ee.Date.fromYMD(year, 1, 1)\n",
    "        endDate = ee.Date.fromYMD(year, 12, 31)\n",
    "\n",
    "        # Filter the collection for the given year and bounds\n",
    "        imageCollection = (\n",
    "            ee.ImageCollection(\"LANDSAT/LC08/C02/T1_L2\")\n",
    "            .filterBounds(bbox)\n",
    "            .filterDate(startDate, endDate)\n",
    "            .map(apply_scale_factors)\n",
    "            .map(cloud_mask)\n",
    "        )\n",
    "\n",
    "        # Calculate NDVI for the entire collection\n",
    "        ndviCollection = imageCollection.map(\n",
    "            lambda image: image.normalizedDifference([\"SR_B5\", \"SR_B4\"]).rename(\"NDVI\")\n",
    "        )\n",
    "\n",
    "        # Reduce the collection to get min and max NDVI values\n",
    "        ndvi_min = ndviCollection.reduce(ee.Reducer.min()).reduceRegion(\n",
    "            reducer=ee.Reducer.min(), geometry=bbox, scale=scale, maxPixels=1e9\n",
    "        )\n",
    "        ndvi_max = ndviCollection.reduce(ee.Reducer.max()).reduceRegion(\n",
    "            reducer=ee.Reducer.max(), geometry=bbox, scale=scale, maxPixels=1e9\n",
    "        )\n",
    "\n",
    "        # Create a feature to export\n",
    "        feature = ee.Feature(\n",
    "            None,\n",
    "            {\n",
    "                \"ndvi_min\": ndvi_min.get(\"NDVI_min\"),\n",
    "                \"ndvi_max\": ndvi_max.get(\"NDVI_max\"),\n",
    "            },\n",
    "        )\n",
    "\n",
    "        # Create and start the export task with the specified fileNamePrefix\n",
    "        task = ee.batch.Export.table.toCloudStorage(\n",
    "            collection=ee.FeatureCollection([feature]),\n",
    "            description=f\"{file_prefix}_{year}\",\n",
    "            bucket=gcs_bucket,\n",
    "            fileNamePrefix=f\"data/{snake_case_place_name}/inputs/{file_prefix}_{year}\",\n",
    "            fileFormat=\"CSV\",\n",
    "        )\n",
    "        task.start()\n",
    "\n",
    "        # Print statements confirming the task has started\n",
    "        print(f\"Starting export task for NDVI min/max values of year {year}.\")\n",
    "\n",
    "        # Return the task object\n",
    "        return task\n",
    "\n",
    "    except Exception as e:\n",
    "        print(f\"An error occurred while starting the export task for year {year}: {e}\")\n",
    "        return None"
   ]
  },
  {
   "cell_type": "code",
   "execution_count": 80,
   "metadata": {},
   "outputs": [
    {
     "data": {
      "text/html": [
       "\n",
       "            <style>\n",
       "                .geemap-dark {\n",
       "                    --jp-widgets-color: white;\n",
       "                    --jp-widgets-label-color: white;\n",
       "                    --jp-ui-font-color1: white;\n",
       "                    --jp-layout-color2: #454545;\n",
       "                    background-color: #383838;\n",
       "                }\n",
       "                    \n",
       "                .geemap-dark .jupyter-button {\n",
       "                    --jp-layout-color3: #383838;\n",
       "                }\n",
       "                \n",
       "                .geemap-colab {\n",
       "                    background-color: var(--colab-primary-surface-color, white);\n",
       "                }\n",
       "                    \n",
       "                .geemap-colab .jupyter-button {\n",
       "                    --jp-layout-color3: var(--colab-primary-surface-color, white);\n",
       "                }\n",
       "            </style>\n",
       "            "
      ],
      "text/plain": [
       "<IPython.core.display.HTML object>"
      ]
     },
     "metadata": {},
     "output_type": "display_data"
    }
   ],
   "source": [
    "from google.cloud import storage\n",
    "import csv\n",
    "from io import StringIO\n",
    "\n",
    "\n",
    "def download_ndvi_values_from_gcs(\n",
    "    cloud_project, bucket_name, snake_case_place_name, year\n",
    "):\n",
    "    storage_client = storage.Client(project=cloud_project)\n",
    "    bucket = storage_client.bucket(bucket_name)\n",
    "\n",
    "    # Correctly define the blob's name to include the full path\n",
    "    blob_name = f\"data/{snake_case_place_name}/inputs/ndvi_min_max_{year}.csv\"\n",
    "    blob = bucket.blob(blob_name)\n",
    "\n",
    "    # Download the data as a string\n",
    "    ndvi_data_csv = blob.download_as_string()\n",
    "\n",
    "    # Parse the CSV data\n",
    "    ndvi_data = csv.reader(StringIO(ndvi_data_csv.decode(\"utf-8\")))\n",
    "    rows = list(ndvi_data)\n",
    "\n",
    "    # Adjust based on the actual structure of your CSV\n",
    "    # Assuming the first row after the header contains NDVI min and the second row contains NDVI max\n",
    "    # Note: Ensure the row indexing matches your CSV's structure; this example assumes row 1 is headers\n",
    "    ndvi_min = rows[1][1]  # Access the first column in the second row (actual data)\n",
    "    ndvi_max = rows[1][2]  # Access the first column in the third row (actual data)\n",
    "\n",
    "    return float(ndvi_min), float(ndvi_max)"
   ]
  },
  {
   "cell_type": "code",
   "execution_count": 109,
   "metadata": {},
   "outputs": [
    {
     "data": {
      "text/html": [
       "\n",
       "            <style>\n",
       "                .geemap-dark {\n",
       "                    --jp-widgets-color: white;\n",
       "                    --jp-widgets-label-color: white;\n",
       "                    --jp-ui-font-color1: white;\n",
       "                    --jp-layout-color2: #454545;\n",
       "                    background-color: #383838;\n",
       "                }\n",
       "                    \n",
       "                .geemap-dark .jupyter-button {\n",
       "                    --jp-layout-color3: #383838;\n",
       "                }\n",
       "                \n",
       "                .geemap-colab {\n",
       "                    background-color: var(--colab-primary-surface-color, white);\n",
       "                }\n",
       "                    \n",
       "                .geemap-colab .jupyter-button {\n",
       "                    --jp-layout-color3: var(--colab-primary-surface-color, white);\n",
       "                }\n",
       "            </style>\n",
       "            "
      ],
      "text/plain": [
       "<IPython.core.display.HTML object>"
      ]
     },
     "metadata": {},
     "output_type": "display_data"
    }
   ],
   "source": [
    "def process_year(year, ndvi_min, ndvi_max):\n",
    "    # Define the start and end dates for the year\n",
    "    startDate = ee.Date.fromYMD(year, 1, 1)\n",
    "    endDate = ee.Date.fromYMD(year, 12, 31)\n",
    "\n",
    "    # Import and preprocess Landsat 8 imagery for the year\n",
    "    imageCollection = (\n",
    "        ee.ImageCollection(\"LANDSAT/LC08/C02/T1_L2\")\n",
    "        .filterBounds(bbox)\n",
    "        .filterDate(startDate, endDate)\n",
    "        .map(apply_scale_factors)\n",
    "        .map(cloud_mask)\n",
    "    )\n",
    "\n",
    "    # Function to calculate LST for each image in the collection\n",
    "    def calculate_lst(image):\n",
    "        # Calculate Normalized Difference Vegetation Index (NDVI)\n",
    "        ndvi = image.normalizedDifference([\"SR_B5\", \"SR_B4\"]).rename(\"NDVI\")\n",
    "\n",
    "        # Use the passed ndvi_min and ndvi_max directly instead of calculating them\n",
    "        # Convert them to ee.Number since they are likely passed as Python primitives\n",
    "        ndvi_min_ee = ee.Number(ndvi_min)\n",
    "        ndvi_max_ee = ee.Number(ndvi_max)\n",
    "\n",
    "        # Fraction of Vegetation (FV) Calculation\n",
    "        fv = (\n",
    "            ee.Image()\n",
    "            .expression(\n",
    "                \"(ndvi - ndvi_min) / (ndvi_max - ndvi_min)\",\n",
    "                {\"ndvi\": ndvi, \"ndvi_max\": ndvi_max_ee, \"ndvi_min\": ndvi_min_ee},\n",
    "            )\n",
    "            .pow(2)\n",
    "            .rename(\"FV\")\n",
    "        )\n",
    "\n",
    "        # Emissivity Calculation\n",
    "        em = fv.multiply(ee.Number(0.004)).add(ee.Number(0.986)).rename(\"EM\")\n",
    "\n",
    "        # Select Thermal Band (Band 10) and Rename It\n",
    "        thermal = image.select(\"ST_B10\").rename(\"thermal\")\n",
    "\n",
    "        # Land Surface Temperature (LST) Calculation\n",
    "        lst = thermal.expression(\n",
    "            \"(TB / (1 + (0.00115 * (TB / 1.438)) * log(em))) - 273.15\",\n",
    "            {\n",
    "                \"TB\": thermal.select(\"thermal\"),  # Select the thermal band\n",
    "                \"em\": em,  # Assign emissivity\n",
    "            },\n",
    "        ).rename(\"LST\")\n",
    "\n",
    "        return lst\n",
    "\n",
    "    # Apply the calculate_lst function to each image in the collection\n",
    "    lstCollection = imageCollection.map(calculate_lst)\n",
    "\n",
    "    # Create a binary image for each image in the collection where 1 indicates LST >= 33 and 0 otherwise\n",
    "    hotDaysCollection = lstCollection.map(lambda image: image.gte(33))\n",
    "\n",
    "    # Sum all the binary images in the collection to get the total number of hot days in the year\n",
    "    hotDaysYear = hotDaysCollection.sum()\n",
    "\n",
    "    landcover = ee.Image(\"ESA/WorldCover/v100/2020\").select(\"Map\").clip(bbox)\n",
    "\n",
    "    dem = ee.ImageCollection(\"projects/sat-io/open-datasets/FABDEM\").mosaic().clip(bbox)\n",
    "\n",
    "    image_for_sampling = (\n",
    "        landcover.rename(\"landcover\")\n",
    "        .addBands(dem.rename(\"elevation\"))\n",
    "        .addBands(ee.Image.pixelLonLat())\n",
    "        .addBands(hotDaysYear.rename(\"hot_days\"))\n",
    "    )\n",
    "\n",
    "    print(\"Sampling image band names\", image_for_sampling.bandNames().getInfo())\n",
    "\n",
    "    return image_for_sampling"
   ]
  },
  {
   "cell_type": "code",
   "execution_count": 83,
   "metadata": {},
   "outputs": [
    {
     "data": {
      "text/html": [
       "\n",
       "            <style>\n",
       "                .geemap-dark {\n",
       "                    --jp-widgets-color: white;\n",
       "                    --jp-widgets-label-color: white;\n",
       "                    --jp-ui-font-color1: white;\n",
       "                    --jp-layout-color2: #454545;\n",
       "                    background-color: #383838;\n",
       "                }\n",
       "                    \n",
       "                .geemap-dark .jupyter-button {\n",
       "                    --jp-layout-color3: #383838;\n",
       "                }\n",
       "                \n",
       "                .geemap-colab {\n",
       "                    background-color: var(--colab-primary-surface-color, white);\n",
       "                }\n",
       "                    \n",
       "                .geemap-colab .jupyter-button {\n",
       "                    --jp-layout-color3: var(--colab-primary-surface-color, white);\n",
       "                }\n",
       "            </style>\n",
       "            "
      ],
      "text/plain": [
       "<IPython.core.display.HTML object>"
      ]
     },
     "metadata": {},
     "output_type": "display_data"
    }
   ],
   "source": [
    "def file_exists_in_gcs(bucket_name, blob_name, cloud_project):\n",
    "    \"\"\"Check if a file exists in Google Cloud Storage.\"\"\"\n",
    "    storage_client = storage.Client(project=cloud_project)\n",
    "    bucket = storage_client.bucket(bucket_name)\n",
    "    blob = bucket.blob(blob_name)\n",
    "    return blob.exists()"
   ]
  },
  {
   "cell_type": "code",
   "execution_count": 84,
   "metadata": {},
   "outputs": [
    {
     "data": {
      "text/html": [
       "\n",
       "            <style>\n",
       "                .geemap-dark {\n",
       "                    --jp-widgets-color: white;\n",
       "                    --jp-widgets-label-color: white;\n",
       "                    --jp-ui-font-color1: white;\n",
       "                    --jp-layout-color2: #454545;\n",
       "                    background-color: #383838;\n",
       "                }\n",
       "                    \n",
       "                .geemap-dark .jupyter-button {\n",
       "                    --jp-layout-color3: #383838;\n",
       "                }\n",
       "                \n",
       "                .geemap-colab {\n",
       "                    background-color: var(--colab-primary-surface-color, white);\n",
       "                }\n",
       "                    \n",
       "                .geemap-colab .jupyter-button {\n",
       "                    --jp-layout-color3: var(--colab-primary-surface-color, white);\n",
       "                }\n",
       "            </style>\n",
       "            "
      ],
      "text/plain": [
       "<IPython.core.display.HTML object>"
      ]
     },
     "metadata": {},
     "output_type": "display_data"
    },
    {
     "name": "stdout",
     "output_type": "stream",
     "text": [
      "Starting NDVI min/max export tasks...\n",
      "Starting export task for NDVI min/max values of year 2018.\n",
      "Starting export task for NDVI min/max values of year 2019.\n",
      "Starting export task for NDVI min/max values of year 2020.\n",
      "Starting export task for NDVI min/max values of year 2021.\n",
      "Starting export task for NDVI min/max values of year 2022.\n",
      "Starting export task for NDVI min/max values of year 2023.\n",
      "6 export tasks have been initiated. Monitoring tasks...\n",
      "Monitoring tasks...\n",
      "Task LUIF5XQWX2PB7L2GZ2PB5PGV completed successfully.\n",
      "Task VSQVTKLHNF6UPX425QKI76DU completed successfully.\n",
      "Task CDOIMRDGEY2GQ2LSJ3F36AVJ completed successfully.\n",
      "Task 2MQUNLT3D6ARKRLU2AHOGELB completed successfully.\n",
      "Task QQGSAQBHHZSKMTCLILO5KSEK is READY.\n",
      "Task WLYNHU5NTLT6IKSZ7KJ2DJSD is READY.\n",
      "Task QQGSAQBHHZSKMTCLILO5KSEK completed successfully.\n",
      "Task WLYNHU5NTLT6IKSZ7KJ2DJSD completed successfully.\n",
      "All tasks have been processed.\n",
      "All export tasks have completed.\n"
     ]
    }
   ],
   "source": [
    "export_tasks = []\n",
    "\n",
    "print(\"Starting NDVI min/max export tasks...\")\n",
    "\n",
    "for year in range(2018, 2024):\n",
    "    # Define the blob's name for the CSV file\n",
    "    blob_name = f\"hotspotstoplight_heatmapping/data/{snake_case_place_name}/inputs/ndvi_min_max_{year}.csv\"\n",
    "\n",
    "    # Check if the file already exists\n",
    "    if not file_exists_in_gcs(bucket_name, blob_name, cloud_project):\n",
    "\n",
    "        task = export_ndvi_min_max(\n",
    "            year,\n",
    "            bbox,\n",
    "            scale,\n",
    "            bucket_name,\n",
    "            snake_case_place_name,\n",
    "            file_prefix=\"ndvi_min_max\",\n",
    "        )\n",
    "        if task is not None:\n",
    "            export_tasks.append(task)\n",
    "        else:\n",
    "            print(f\"Failed to initiate export task for year: {year}\")\n",
    "    else:\n",
    "        print(f\"CSV file for year {year} already exists. Skipping export.\")\n",
    "\n",
    "if export_tasks:\n",
    "    print(f\"{len(export_tasks)} export tasks have been initiated. Monitoring tasks...\")\n",
    "    monitor_tasks(export_tasks)\n",
    "    print(\"All export tasks have completed.\")\n",
    "else:\n",
    "    print(\"No new export tasks were initiated.\")"
   ]
  },
  {
   "cell_type": "code",
   "execution_count": 110,
   "metadata": {},
   "outputs": [
    {
     "data": {
      "text/html": [
       "\n",
       "            <style>\n",
       "                .geemap-dark {\n",
       "                    --jp-widgets-color: white;\n",
       "                    --jp-widgets-label-color: white;\n",
       "                    --jp-ui-font-color1: white;\n",
       "                    --jp-layout-color2: #454545;\n",
       "                    background-color: #383838;\n",
       "                }\n",
       "                    \n",
       "                .geemap-dark .jupyter-button {\n",
       "                    --jp-layout-color3: #383838;\n",
       "                }\n",
       "                \n",
       "                .geemap-colab {\n",
       "                    background-color: var(--colab-primary-surface-color, white);\n",
       "                }\n",
       "                    \n",
       "                .geemap-colab .jupyter-button {\n",
       "                    --jp-layout-color3: var(--colab-primary-surface-color, white);\n",
       "                }\n",
       "            </style>\n",
       "            "
      ],
      "text/plain": [
       "<IPython.core.display.HTML object>"
      ]
     },
     "metadata": {},
     "output_type": "display_data"
    },
    {
     "name": "stdout",
     "output_type": "stream",
     "text": [
      "Starting to process and download NDVI values...\n",
      "Downloading NDVI values for year: 2018\n",
      "Processing data for year: 2018\n",
      "Sampling image band names ['landcover', 'elevation', 'longitude', 'latitude', 'hot_days']\n",
      "Completed processing for year: 2018\n",
      "Downloading NDVI values for year: 2019\n",
      "Processing data for year: 2019\n",
      "Sampling image band names ['landcover', 'elevation', 'longitude', 'latitude', 'hot_days']\n",
      "Completed processing for year: 2019\n",
      "Downloading NDVI values for year: 2020\n",
      "Processing data for year: 2020\n",
      "Sampling image band names ['landcover', 'elevation', 'longitude', 'latitude', 'hot_days']\n",
      "Completed processing for year: 2020\n",
      "Downloading NDVI values for year: 2021\n",
      "Processing data for year: 2021\n",
      "Sampling image band names ['landcover', 'elevation', 'longitude', 'latitude', 'hot_days']\n",
      "Completed processing for year: 2021\n",
      "Downloading NDVI values for year: 2022\n",
      "Processing data for year: 2022\n",
      "Sampling image band names ['landcover', 'elevation', 'longitude', 'latitude', 'hot_days']\n",
      "Completed processing for year: 2022\n",
      "Downloading NDVI values for year: 2023\n",
      "Processing data for year: 2023\n",
      "Sampling image band names ['landcover', 'elevation', 'longitude', 'latitude', 'hot_days']\n",
      "Completed processing for year: 2023\n",
      "Converting processed images into an ee.ImageCollection...\n",
      "Processing complete.\n"
     ]
    }
   ],
   "source": [
    "# Initialize an empty Python list to hold the processed ee.Image objects\n",
    "processed_images = []\n",
    "\n",
    "print(\"Starting to process and download NDVI values...\")\n",
    "\n",
    "# After ensuring all export tasks are completed, proceed to download and process\n",
    "for year in range(2018, 2024):\n",
    "    print(f\"Downloading NDVI values for year: {year}\")\n",
    "    ndvi_min, ndvi_max = download_ndvi_values_from_gcs(\n",
    "        cloud_project, bucket_name, snake_case_place_name, year\n",
    "    )\n",
    "\n",
    "    # Print the downloaded NDVI values\n",
    "    # print(f\"NDVI values for {year} - Min: {ndvi_min}, Max: {ndvi_max}\")\n",
    "\n",
    "    print(f\"Processing data for year: {year}\")\n",
    "    image_for_sampling = process_year(year, ndvi_min, ndvi_max)\n",
    "\n",
    "    processed_images.append(image_for_sampling)\n",
    "    print(f\"Completed processing for year: {year}\")\n",
    "\n",
    "print(\"Converting processed images into an ee.ImageCollection...\")\n",
    "# Convert the list of ee.Image objects into an ee.ImageCollection\n",
    "final_image_collection = ee.ImageCollection.fromImages(processed_images)\n",
    "\n",
    "print(\"Processing complete.\")"
   ]
  },
  {
   "cell_type": "code",
   "execution_count": 98,
   "metadata": {},
   "outputs": [
    {
     "data": {
      "text/html": [
       "\n",
       "            <style>\n",
       "                .geemap-dark {\n",
       "                    --jp-widgets-color: white;\n",
       "                    --jp-widgets-label-color: white;\n",
       "                    --jp-ui-font-color1: white;\n",
       "                    --jp-layout-color2: #454545;\n",
       "                    background-color: #383838;\n",
       "                }\n",
       "                    \n",
       "                .geemap-dark .jupyter-button {\n",
       "                    --jp-layout-color3: #383838;\n",
       "                }\n",
       "                \n",
       "                .geemap-colab {\n",
       "                    background-color: var(--colab-primary-surface-color, white);\n",
       "                }\n",
       "                    \n",
       "                .geemap-colab .jupyter-button {\n",
       "                    --jp-layout-color3: var(--colab-primary-surface-color, white);\n",
       "                }\n",
       "            </style>\n",
       "            "
      ],
      "text/plain": [
       "<IPython.core.display.HTML object>"
      ]
     },
     "metadata": {},
     "output_type": "display_data"
    },
    {
     "name": "stdout",
     "output_type": "stream",
     "text": [
      "6\n"
     ]
    }
   ],
   "source": [
    "print(final_image_collection.size().getInfo())"
   ]
  },
  {
   "cell_type": "code",
   "execution_count": 104,
   "metadata": {},
   "outputs": [
    {
     "data": {
      "text/html": [
       "\n",
       "            <style>\n",
       "                .geemap-dark {\n",
       "                    --jp-widgets-color: white;\n",
       "                    --jp-widgets-label-color: white;\n",
       "                    --jp-ui-font-color1: white;\n",
       "                    --jp-layout-color2: #454545;\n",
       "                    background-color: #383838;\n",
       "                }\n",
       "                    \n",
       "                .geemap-dark .jupyter-button {\n",
       "                    --jp-layout-color3: #383838;\n",
       "                }\n",
       "                \n",
       "                .geemap-colab {\n",
       "                    background-color: var(--colab-primary-surface-color, white);\n",
       "                }\n",
       "                    \n",
       "                .geemap-colab .jupyter-button {\n",
       "                    --jp-layout-color3: var(--colab-primary-surface-color, white);\n",
       "                }\n",
       "            </style>\n",
       "            "
      ],
      "text/plain": [
       "<IPython.core.display.HTML object>"
      ]
     },
     "metadata": {},
     "output_type": "display_data"
    },
    {
     "ename": "TypeError",
     "evalue": "'NoneType' object is not subscriptable",
     "output_type": "error",
     "traceback": [
      "\u001b[1;31m---------------------------------------------------------------------------\u001b[0m",
      "\u001b[1;31mTypeError\u001b[0m                                 Traceback (most recent call last)",
      "Cell \u001b[1;32mIn[104], line 18\u001b[0m\n\u001b[0;32m     15\u001b[0m     \u001b[38;5;28;01melse\u001b[39;00m:\n\u001b[0;32m     16\u001b[0m         \u001b[38;5;28mprint\u001b[39m(\u001b[38;5;124mf\u001b[39m\u001b[38;5;124m\"\u001b[39m\u001b[38;5;124mNo image for year \u001b[39m\u001b[38;5;132;01m{\u001b[39;00myear\u001b[38;5;132;01m}\u001b[39;00m\u001b[38;5;124m\"\u001b[39m)\n\u001b[1;32m---> 18\u001b[0m \u001b[43mMap1\u001b[49m\u001b[38;5;241;43m.\u001b[39;49m\u001b[43mcenterObject\u001b[49m\u001b[43m(\u001b[49m\u001b[43mimage\u001b[49m\u001b[43m,\u001b[49m\u001b[43m \u001b[49m\u001b[43mzoom\u001b[49m\u001b[38;5;241;43m=\u001b[39;49m\u001b[38;5;241;43m10\u001b[39;49m\u001b[43m)\u001b[49m  \u001b[38;5;66;03m# Adjust zoom as needed\u001b[39;00m\n\u001b[0;32m     19\u001b[0m Map1\n",
      "File \u001b[1;32mc:\\Users\\Nissim\\Documents\\GitHub\\Climate\\flood_mapping\\.venv\\lib\\site-packages\\geemap\\geemap.py:387\u001b[0m, in \u001b[0;36mMap.center_object\u001b[1;34m(self, ee_object, zoom)\u001b[0m\n\u001b[0;32m    380\u001b[0m \u001b[38;5;28;01mdef\u001b[39;00m \u001b[38;5;21mcenter_object\u001b[39m(\u001b[38;5;28mself\u001b[39m, ee_object, zoom\u001b[38;5;241m=\u001b[39m\u001b[38;5;28;01mNone\u001b[39;00m):\n\u001b[0;32m    381\u001b[0m \u001b[38;5;250m    \u001b[39m\u001b[38;5;124;03m\"\"\"Centers the map view on a given object.\u001b[39;00m\n\u001b[0;32m    382\u001b[0m \n\u001b[0;32m    383\u001b[0m \u001b[38;5;124;03m    Args:\u001b[39;00m\n\u001b[0;32m    384\u001b[0m \u001b[38;5;124;03m        ee_object (Element|Geometry): An Earth Engine object to center on a geometry, image or feature.\u001b[39;00m\n\u001b[0;32m    385\u001b[0m \u001b[38;5;124;03m        zoom (int, optional): The zoom level, from 1 to 24. Defaults to None.\u001b[39;00m\n\u001b[0;32m    386\u001b[0m \u001b[38;5;124;03m    \"\"\"\u001b[39;00m\n\u001b[1;32m--> 387\u001b[0m     \u001b[38;5;28;43msuper\u001b[39;49m\u001b[43m(\u001b[49m\u001b[43m)\u001b[49m\u001b[38;5;241;43m.\u001b[39;49m\u001b[43mcenter_object\u001b[49m\u001b[43m(\u001b[49m\u001b[43mee_object\u001b[49m\u001b[43m,\u001b[49m\u001b[43m \u001b[49m\u001b[43mzoom\u001b[49m\u001b[43m)\u001b[49m\n\u001b[0;32m    388\u001b[0m     \u001b[38;5;28;01mif\u001b[39;00m is_arcpy():\n\u001b[0;32m    389\u001b[0m         bds \u001b[38;5;241m=\u001b[39m \u001b[38;5;28mself\u001b[39m\u001b[38;5;241m.\u001b[39mbounds\n",
      "File \u001b[1;32mc:\\Users\\Nissim\\Documents\\GitHub\\Climate\\flood_mapping\\.venv\\lib\\site-packages\\geemap\\core.py:536\u001b[0m, in \u001b[0;36mMap.center_object\u001b[1;34m(self, ee_object, zoom)\u001b[0m\n\u001b[0;32m    534\u001b[0m \u001b[38;5;28;01mif\u001b[39;00m \u001b[38;5;129;01mnot\u001b[39;00m \u001b[38;5;28misinstance\u001b[39m(zoom, \u001b[38;5;28mint\u001b[39m):\n\u001b[0;32m    535\u001b[0m     \u001b[38;5;28;01mraise\u001b[39;00m \u001b[38;5;167;01mValueError\u001b[39;00m(\u001b[38;5;124m\"\u001b[39m\u001b[38;5;124mZoom must be an integer.\u001b[39m\u001b[38;5;124m\"\u001b[39m)\n\u001b[1;32m--> 536\u001b[0m centroid \u001b[38;5;241m=\u001b[39m \u001b[43mgeometry\u001b[49m\u001b[38;5;241;43m.\u001b[39;49m\u001b[43mcentroid\u001b[49m\u001b[43m(\u001b[49m\u001b[43mmaxError\u001b[49m\u001b[38;5;241;43m=\u001b[39;49m\u001b[43mmax_error\u001b[49m\u001b[43m)\u001b[49m\u001b[38;5;241;43m.\u001b[39;49m\u001b[43mgetInfo\u001b[49m\u001b[43m(\u001b[49m\u001b[43m)\u001b[49m\u001b[43m[\u001b[49m\u001b[38;5;124;43m\"\u001b[39;49m\u001b[38;5;124;43mcoordinates\u001b[39;49m\u001b[38;5;124;43m\"\u001b[39;49m\u001b[43m]\u001b[49m\n\u001b[0;32m    537\u001b[0m \u001b[38;5;28mself\u001b[39m\u001b[38;5;241m.\u001b[39mset_center(centroid[\u001b[38;5;241m0\u001b[39m], centroid[\u001b[38;5;241m1\u001b[39m], zoom)\n",
      "\u001b[1;31mTypeError\u001b[0m: 'NoneType' object is not subscriptable"
     ]
    }
   ],
   "source": [
    "image = final_image_collection.filter(ee.Filter.calendarRange(2023, 2023, \"year\"))\n",
    "\n",
    "vizParams = {\"min\": 0, \"max\": 35, \"palette\": cc.fire}\n",
    "Map1 = (\n",
    "    geemap.Map()\n",
    ")  # Assuming you're using geemap or similar in Jupyter, or use Earth Engine code editor's Map.addLayer\n",
    "\n",
    "for year in range(2018, 2024):\n",
    "    image = final_image_collection.filter(\n",
    "        ee.Filter.calendarRange(year, year, \"year\")\n",
    "    ).median()\n",
    "    if image:\n",
    "        vizParams = {\n",
    "            \"min\": 0,\n",
    "            \"max\": 35,\n",
    "            \"bands\": \"hot_days\",\n",
    "        }  # Adjust visualization parameters as needed\n",
    "        Map1.addLayer(image, vizParams, f\"Image {year}\")\n",
    "    else:\n",
    "        print(f\"No image for year {year}\")\n",
    "\n",
    "Map1.centerObject(image, zoom=10)  # Adjust zoom as needed\n",
    "Map1"
   ]
  },
  {
   "cell_type": "code",
   "execution_count": 56,
   "metadata": {},
   "outputs": [
    {
     "data": {
      "text/html": [
       "\n",
       "            <style>\n",
       "                .geemap-dark {\n",
       "                    --jp-widgets-color: white;\n",
       "                    --jp-widgets-label-color: white;\n",
       "                    --jp-ui-font-color1: white;\n",
       "                    --jp-layout-color2: #454545;\n",
       "                    background-color: #383838;\n",
       "                }\n",
       "                    \n",
       "                .geemap-dark .jupyter-button {\n",
       "                    --jp-layout-color3: #383838;\n",
       "                }\n",
       "                \n",
       "                .geemap-colab {\n",
       "                    background-color: var(--colab-primary-surface-color, white);\n",
       "                }\n",
       "                    \n",
       "                .geemap-colab .jupyter-button {\n",
       "                    --jp-layout-color3: var(--colab-primary-surface-color, white);\n",
       "                }\n",
       "            </style>\n",
       "            "
      ],
      "text/plain": [
       "<IPython.core.display.HTML object>"
      ]
     },
     "metadata": {},
     "output_type": "display_data"
    },
    {
     "name": "stdout",
     "output_type": "stream",
     "text": [
      "Attempting to sample from year: 2018\n",
      "Skipping year 2018 due to an error: Image.bandNames: Parameter 'image' is required.\n",
      "Attempting to sample from year: 2019\n",
      "Skipping year 2019 due to an error: Image.bandNames: Parameter 'image' is required.\n",
      "Attempting to sample from year: 2020\n",
      "Band names (uncomputed): ['landcover', 'elevation', 'longitude', 'latitude', 'hot_days']\n",
      "Attempting to sample from year: 2021\n",
      "Skipping year 2021 due to an error: Image.bandNames: Parameter 'image' is required.\n",
      "Attempting to sample from year: 2022\n",
      "Skipping year 2022 due to an error: Image.bandNames: Parameter 'image' is required.\n",
      "Attempting to sample from year: 2023\n",
      "Skipping year 2023 due to an error: Image.bandNames: Parameter 'image' is required.\n"
     ]
    }
   ],
   "source": [
    "# Define the number of samples per year\n",
    "num_samples_per_year = 25000 // (2024 - 2018)\n",
    "\n",
    "# Initialize an empty FeatureCollection to aggregate the samples\n",
    "samples_feature_collection = ee.FeatureCollection([])\n",
    "\n",
    "# Iterate over each image in the final_image_collection\n",
    "for year in range(2018, 2024):\n",
    "    try:\n",
    "        # Get the processed image for the given year from the ImageCollection\n",
    "        processed_image = final_image_collection.filter(\n",
    "            ee.Filter.calendarRange(year, year, \"year\")\n",
    "        ).first()\n",
    "\n",
    "        print(\"Attempting to sample from year:\", year)\n",
    "        print(\"Band names (uncomputed):\", processed_image.bandNames().getInfo())\n",
    "\n",
    "        # Check if the image exists to avoid sampling from a non-existent image\n",
    "        if processed_image:\n",
    "            # Directly sample the processed image\n",
    "            sample = processed_image.sample(\n",
    "                region=bbox,\n",
    "                scale=scale,\n",
    "                numPixels=num_samples_per_year,\n",
    "                seed=0,\n",
    "                geometries=True,  # Set to True if you need geometries for visualization\n",
    "            )\n",
    "\n",
    "            # Aggregate the samples into a FeatureCollection\n",
    "            samples_feature_collection = samples_feature_collection.merge(sample)\n",
    "        else:\n",
    "            print(f\"No processed image available for year {year}.\")\n",
    "\n",
    "    except Exception as e:\n",
    "        print(f\"Skipping year {year} due to an error: {e}\")\n",
    "\n",
    "# The samples_feature_collection now contains the aggregated samples from each year\n",
    "training_sample = samples_feature_collection"
   ]
  },
  {
   "cell_type": "code",
   "execution_count": 50,
   "metadata": {},
   "outputs": [
    {
     "data": {
      "text/html": [
       "\n",
       "            <style>\n",
       "                .geemap-dark {\n",
       "                    --jp-widgets-color: white;\n",
       "                    --jp-widgets-label-color: white;\n",
       "                    --jp-ui-font-color1: white;\n",
       "                    --jp-layout-color2: #454545;\n",
       "                    background-color: #383838;\n",
       "                }\n",
       "                    \n",
       "                .geemap-dark .jupyter-button {\n",
       "                    --jp-layout-color3: #383838;\n",
       "                }\n",
       "                \n",
       "                .geemap-colab {\n",
       "                    background-color: var(--colab-primary-surface-color, white);\n",
       "                }\n",
       "                    \n",
       "                .geemap-colab .jupyter-button {\n",
       "                    --jp-layout-color3: var(--colab-primary-surface-color, white);\n",
       "                }\n",
       "            </style>\n",
       "            "
      ],
      "text/plain": [
       "<IPython.core.display.HTML object>"
      ]
     },
     "metadata": {},
     "output_type": "display_data"
    }
   ],
   "source": [
    "# Split the data into training and testing\n",
    "training_sample = training_sample.randomColumn()\n",
    "training = training_sample.filter(ee.Filter.lt(\"random\", 0.7))\n",
    "testing = training_sample.filter(ee.Filter.gte(\"random\", 0.7))\n",
    "\n",
    "# Train the Random Forest regression model\n",
    "inputProperties = [\"longitude\", \"latitude\", \"landcover\", \"elevation\"]\n",
    "numTrees = 10  # Number of trees in the Random Forest\n",
    "regressor = (\n",
    "    ee.Classifier.smileRandomForest(numTrees)\n",
    "    .setOutputMode(\"REGRESSION\")\n",
    "    .train(training, classProperty=\"hot_days\", inputProperties=inputProperties)\n",
    ")"
   ]
  },
  {
   "cell_type": "code",
   "execution_count": 57,
   "metadata": {},
   "outputs": [
    {
     "data": {
      "text/html": [
       "\n",
       "            <style>\n",
       "                .geemap-dark {\n",
       "                    --jp-widgets-color: white;\n",
       "                    --jp-widgets-label-color: white;\n",
       "                    --jp-ui-font-color1: white;\n",
       "                    --jp-layout-color2: #454545;\n",
       "                    background-color: #383838;\n",
       "                }\n",
       "                    \n",
       "                .geemap-dark .jupyter-button {\n",
       "                    --jp-layout-color3: #383838;\n",
       "                }\n",
       "                \n",
       "                .geemap-colab {\n",
       "                    background-color: var(--colab-primary-surface-color, white);\n",
       "                }\n",
       "                    \n",
       "                .geemap-colab .jupyter-button {\n",
       "                    --jp-layout-color3: var(--colab-primary-surface-color, white);\n",
       "                }\n",
       "            </style>\n",
       "            "
      ],
      "text/plain": [
       "<IPython.core.display.HTML object>"
      ]
     },
     "metadata": {},
     "output_type": "display_data"
    }
   ],
   "source": [
    "# Filter the collection for images from 2020\n",
    "image_2020_collection = final_image_collection.filter(\n",
    "    ee.Filter.calendarRange(2020, 2020, \"year\")\n",
    ")\n",
    "\n",
    "# Take the first image from the filtered collection as the recent_image\n",
    "recent_image = image_2020_collection.first()\n",
    "\n",
    "# Proceed with the classification\n",
    "predicted_image = recent_image.select(inputProperties).classify(regressor)\n",
    "\n",
    "# Calculate the difference\n",
    "difference = (\n",
    "    recent_image.select(\"hot_days\").subtract(predicted_image).rename(\"difference\")\n",
    ")"
   ]
  },
  {
   "cell_type": "code",
   "execution_count": null,
   "metadata": {},
   "outputs": [],
   "source": [
    "# Assuming 'max_lst' is your actual maximum LST image and 'predicted_image' contains the predictions\n",
    "# Calculate the squared difference between actual and predicted LST\n",
    "squared_difference = (\n",
    "    recent_image.select(\"hot_days\")\n",
    "    .subtract(predicted_image)\n",
    "    .pow(2)\n",
    "    .rename(\"difference\")\n",
    ")\n",
    "\n",
    "# Reduce the squared differences to get the mean squared difference over your area of interest (aoi)\n",
    "mean_squared_error = squared_difference.reduceRegion(\n",
    "    reducer=ee.Reducer.mean(),\n",
    "    geometry=bbox,\n",
    "    scale=scale,  # Adjust scale to match your dataset's resolution\n",
    "    maxPixels=1e14,\n",
    ")\n",
    "\n",
    "# Calculate the square root of the mean squared error to get the RMSE\n",
    "rmse = mean_squared_error.getInfo()[\"difference\"] ** 0.5\n",
    "\n",
    "print(\"RMSE:\", rmse)"
   ]
  },
  {
   "cell_type": "code",
   "execution_count": 58,
   "metadata": {},
   "outputs": [
    {
     "data": {
      "text/html": [
       "\n",
       "            <style>\n",
       "                .geemap-dark {\n",
       "                    --jp-widgets-color: white;\n",
       "                    --jp-widgets-label-color: white;\n",
       "                    --jp-ui-font-color1: white;\n",
       "                    --jp-layout-color2: #454545;\n",
       "                    background-color: #383838;\n",
       "                }\n",
       "                    \n",
       "                .geemap-dark .jupyter-button {\n",
       "                    --jp-layout-color3: #383838;\n",
       "                }\n",
       "                \n",
       "                .geemap-colab {\n",
       "                    background-color: var(--colab-primary-surface-color, white);\n",
       "                }\n",
       "                    \n",
       "                .geemap-colab .jupyter-button {\n",
       "                    --jp-layout-color3: var(--colab-primary-surface-color, white);\n",
       "                }\n",
       "            </style>\n",
       "            "
      ],
      "text/plain": [
       "<IPython.core.display.HTML object>"
      ]
     },
     "metadata": {},
     "output_type": "display_data"
    },
    {
     "ename": "EEException",
     "evalue": "Image.sample: Parameter 'image' is required.",
     "output_type": "error",
     "traceback": [
      "\u001b[1;31m---------------------------------------------------------------------------\u001b[0m",
      "\u001b[1;31mHttpError\u001b[0m                                 Traceback (most recent call last)",
      "File \u001b[1;32mc:\\Users\\Nissim\\Documents\\GitHub\\Climate\\flood_mapping\\.venv\\lib\\site-packages\\ee\\data.py:394\u001b[0m, in \u001b[0;36m_execute_cloud_call\u001b[1;34m(call, num_retries)\u001b[0m\n\u001b[0;32m    393\u001b[0m \u001b[38;5;28;01mtry\u001b[39;00m:\n\u001b[1;32m--> 394\u001b[0m   \u001b[38;5;28;01mreturn\u001b[39;00m \u001b[43mcall\u001b[49m\u001b[38;5;241;43m.\u001b[39;49m\u001b[43mexecute\u001b[49m\u001b[43m(\u001b[49m\u001b[43mnum_retries\u001b[49m\u001b[38;5;241;43m=\u001b[39;49m\u001b[43mnum_retries\u001b[49m\u001b[43m)\u001b[49m\n\u001b[0;32m    395\u001b[0m \u001b[38;5;28;01mexcept\u001b[39;00m googleapiclient\u001b[38;5;241m.\u001b[39merrors\u001b[38;5;241m.\u001b[39mHttpError \u001b[38;5;28;01mas\u001b[39;00m e:\n",
      "File \u001b[1;32mc:\\Users\\Nissim\\Documents\\GitHub\\Climate\\flood_mapping\\.venv\\lib\\site-packages\\googleapiclient\\_helpers.py:130\u001b[0m, in \u001b[0;36mpositional.<locals>.positional_decorator.<locals>.positional_wrapper\u001b[1;34m(*args, **kwargs)\u001b[0m\n\u001b[0;32m    129\u001b[0m         logger\u001b[38;5;241m.\u001b[39mwarning(message)\n\u001b[1;32m--> 130\u001b[0m \u001b[38;5;28;01mreturn\u001b[39;00m wrapped(\u001b[38;5;241m*\u001b[39margs, \u001b[38;5;241m*\u001b[39m\u001b[38;5;241m*\u001b[39mkwargs)\n",
      "File \u001b[1;32mc:\\Users\\Nissim\\Documents\\GitHub\\Climate\\flood_mapping\\.venv\\lib\\site-packages\\googleapiclient\\http.py:938\u001b[0m, in \u001b[0;36mHttpRequest.execute\u001b[1;34m(self, http, num_retries)\u001b[0m\n\u001b[0;32m    937\u001b[0m \u001b[38;5;28;01mif\u001b[39;00m resp\u001b[38;5;241m.\u001b[39mstatus \u001b[38;5;241m>\u001b[39m\u001b[38;5;241m=\u001b[39m \u001b[38;5;241m300\u001b[39m:\n\u001b[1;32m--> 938\u001b[0m     \u001b[38;5;28;01mraise\u001b[39;00m HttpError(resp, content, uri\u001b[38;5;241m=\u001b[39m\u001b[38;5;28mself\u001b[39m\u001b[38;5;241m.\u001b[39muri)\n\u001b[0;32m    939\u001b[0m \u001b[38;5;28;01mreturn\u001b[39;00m \u001b[38;5;28mself\u001b[39m\u001b[38;5;241m.\u001b[39mpostproc(resp, content)\n",
      "\u001b[1;31mHttpError\u001b[0m: <HttpError 400 when requesting https://earthengine.googleapis.com/v1/projects/hotspotstoplight/maps?fields=name&alt=json returned \"Image.sample: Parameter 'image' is required.\". Details: \"Image.sample: Parameter 'image' is required.\">",
      "\nDuring handling of the above exception, another exception occurred:\n",
      "\u001b[1;31mEEException\u001b[0m                               Traceback (most recent call last)",
      "Cell \u001b[1;32mIn[58], line 12\u001b[0m\n\u001b[0;32m     10\u001b[0m m\u001b[38;5;241m.\u001b[39madd(\u001b[38;5;124m\"\u001b[39m\u001b[38;5;124mlayer_manager\u001b[39m\u001b[38;5;124m\"\u001b[39m)\n\u001b[0;32m     11\u001b[0m m\u001b[38;5;241m.\u001b[39maddLayer(recent_image\u001b[38;5;241m.\u001b[39mselect(\u001b[38;5;124m'\u001b[39m\u001b[38;5;124mhot_days\u001b[39m\u001b[38;5;124m'\u001b[39m)\u001b[38;5;241m.\u001b[39mclip(aoi), vizParams, \u001b[38;5;124m'\u001b[39m\u001b[38;5;124mActual Max LST\u001b[39m\u001b[38;5;124m'\u001b[39m)\n\u001b[1;32m---> 12\u001b[0m \u001b[43mm\u001b[49m\u001b[38;5;241;43m.\u001b[39;49m\u001b[43maddLayer\u001b[49m\u001b[43m(\u001b[49m\u001b[43mpredicted_image\u001b[49m\u001b[38;5;241;43m.\u001b[39;49m\u001b[43mclip\u001b[49m\u001b[43m(\u001b[49m\u001b[43maoi\u001b[49m\u001b[43m)\u001b[49m\u001b[43m,\u001b[49m\u001b[43m \u001b[49m\u001b[43mvizParams\u001b[49m\u001b[43m,\u001b[49m\u001b[43m \u001b[49m\u001b[38;5;124;43m'\u001b[39;49m\u001b[38;5;124;43mPredicted LST\u001b[39;49m\u001b[38;5;124;43m'\u001b[39;49m\u001b[43m)\u001b[49m\n\u001b[0;32m     13\u001b[0m m\u001b[38;5;241m.\u001b[39maddLayer(difference, {\u001b[38;5;124m'\u001b[39m\u001b[38;5;124mmin\u001b[39m\u001b[38;5;124m'\u001b[39m: \u001b[38;5;241m-\u001b[39m\u001b[38;5;241m10\u001b[39m, \u001b[38;5;124m'\u001b[39m\u001b[38;5;124mmax\u001b[39m\u001b[38;5;124m'\u001b[39m: \u001b[38;5;241m10\u001b[39m, \u001b[38;5;124m'\u001b[39m\u001b[38;5;124mpalette\u001b[39m\u001b[38;5;124m'\u001b[39m: cc\u001b[38;5;241m.\u001b[39mcwr}, \u001b[38;5;124m'\u001b[39m\u001b[38;5;124mDifference\u001b[39m\u001b[38;5;124m'\u001b[39m)\n\u001b[0;32m     14\u001b[0m m\n",
      "File \u001b[1;32mc:\\Users\\Nissim\\Documents\\GitHub\\Climate\\flood_mapping\\.venv\\lib\\site-packages\\geemap\\geemap.py:342\u001b[0m, in \u001b[0;36mMap.add_ee_layer\u001b[1;34m(self, ee_object, vis_params, name, shown, opacity)\u001b[0m\n\u001b[0;32m    337\u001b[0m         \u001b[38;5;28;01mif\u001b[39;00m has_plot_dropdown:\n\u001b[0;32m    338\u001b[0m             \u001b[38;5;28mself\u001b[39m\u001b[38;5;241m.\u001b[39m_plot_dropdown_widget\u001b[38;5;241m.\u001b[39moptions \u001b[38;5;241m=\u001b[39m \u001b[38;5;28mlist\u001b[39m(\n\u001b[0;32m    339\u001b[0m                 \u001b[38;5;28mself\u001b[39m\u001b[38;5;241m.\u001b[39mee_raster_layers\u001b[38;5;241m.\u001b[39mkeys()\n\u001b[0;32m    340\u001b[0m             )\n\u001b[1;32m--> 342\u001b[0m \u001b[38;5;28;43msuper\u001b[39;49m\u001b[43m(\u001b[49m\u001b[43m)\u001b[49m\u001b[38;5;241;43m.\u001b[39;49m\u001b[43madd_layer\u001b[49m\u001b[43m(\u001b[49m\u001b[43mee_object\u001b[49m\u001b[43m,\u001b[49m\u001b[43m \u001b[49m\u001b[43mvis_params\u001b[49m\u001b[43m,\u001b[49m\u001b[43m \u001b[49m\u001b[43mname\u001b[49m\u001b[43m,\u001b[49m\u001b[43m \u001b[49m\u001b[43mshown\u001b[49m\u001b[43m,\u001b[49m\u001b[43m \u001b[49m\u001b[43mopacity\u001b[49m\u001b[43m)\u001b[49m\n\u001b[0;32m    344\u001b[0m \u001b[38;5;28;01mif\u001b[39;00m \u001b[38;5;28misinstance\u001b[39m(ee_object, (ee\u001b[38;5;241m.\u001b[39mImage, ee\u001b[38;5;241m.\u001b[39mImageCollection)):\n\u001b[0;32m    345\u001b[0m     \u001b[38;5;28;01mif\u001b[39;00m has_plot_dropdown:\n",
      "File \u001b[1;32mc:\\Users\\Nissim\\Documents\\GitHub\\Climate\\flood_mapping\\.venv\\lib\\site-packages\\geemap\\core.py:754\u001b[0m, in \u001b[0;36mMap.add_layer\u001b[1;34m(self, ee_object, vis_params, name, shown, opacity)\u001b[0m\n\u001b[0;32m    752\u001b[0m \u001b[38;5;28;01mif\u001b[39;00m name \u001b[38;5;129;01mis\u001b[39;00m \u001b[38;5;28;01mNone\u001b[39;00m:\n\u001b[0;32m    753\u001b[0m     name \u001b[38;5;241m=\u001b[39m \u001b[38;5;124mf\u001b[39m\u001b[38;5;124m\"\u001b[39m\u001b[38;5;124mLayer \u001b[39m\u001b[38;5;132;01m{\u001b[39;00m\u001b[38;5;28mlen\u001b[39m(\u001b[38;5;28mself\u001b[39m\u001b[38;5;241m.\u001b[39mee_layers)\u001b[38;5;250m \u001b[39m\u001b[38;5;241m+\u001b[39m\u001b[38;5;250m \u001b[39m\u001b[38;5;241m1\u001b[39m\u001b[38;5;132;01m}\u001b[39;00m\u001b[38;5;124m\"\u001b[39m\n\u001b[1;32m--> 754\u001b[0m tile_layer \u001b[38;5;241m=\u001b[39m \u001b[43mee_tile_layers\u001b[49m\u001b[38;5;241;43m.\u001b[39;49m\u001b[43mEELeafletTileLayer\u001b[49m\u001b[43m(\u001b[49m\n\u001b[0;32m    755\u001b[0m \u001b[43m    \u001b[49m\u001b[43mee_object\u001b[49m\u001b[43m,\u001b[49m\u001b[43m \u001b[49m\u001b[43mvis_params\u001b[49m\u001b[43m,\u001b[49m\u001b[43m \u001b[49m\u001b[43mname\u001b[49m\u001b[43m,\u001b[49m\u001b[43m \u001b[49m\u001b[43mshown\u001b[49m\u001b[43m,\u001b[49m\u001b[43m \u001b[49m\u001b[43mopacity\u001b[49m\n\u001b[0;32m    756\u001b[0m \u001b[43m\u001b[49m\u001b[43m)\u001b[49m\n\u001b[0;32m    758\u001b[0m \u001b[38;5;66;03m# Remove the layer if it already exists.\u001b[39;00m\n\u001b[0;32m    759\u001b[0m \u001b[38;5;28mself\u001b[39m\u001b[38;5;241m.\u001b[39mremove(name)\n",
      "File \u001b[1;32mc:\\Users\\Nissim\\Documents\\GitHub\\Climate\\flood_mapping\\.venv\\lib\\site-packages\\geemap\\ee_tile_layers.py:144\u001b[0m, in \u001b[0;36mEELeafletTileLayer.__init__\u001b[1;34m(self, ee_object, vis_params, name, shown, opacity, **kwargs)\u001b[0m\n\u001b[0;32m    134\u001b[0m \u001b[38;5;250m\u001b[39m\u001b[38;5;124;03m\"\"\"Initialize the ipyleaflet tile layer.\u001b[39;00m\n\u001b[0;32m    135\u001b[0m \n\u001b[0;32m    136\u001b[0m \u001b[38;5;124;03mArgs:\u001b[39;00m\n\u001b[1;32m   (...)\u001b[0m\n\u001b[0;32m    141\u001b[0m \u001b[38;5;124;03m    opacity (float, optional): The layer's opacity represented as a number between 0 and 1. Defaults to 1.\u001b[39;00m\n\u001b[0;32m    142\u001b[0m \u001b[38;5;124;03m\"\"\"\u001b[39;00m\n\u001b[0;32m    143\u001b[0m \u001b[38;5;28mself\u001b[39m\u001b[38;5;241m.\u001b[39m_ee_object \u001b[38;5;241m=\u001b[39m ee_object\n\u001b[1;32m--> 144\u001b[0m \u001b[38;5;28mself\u001b[39m\u001b[38;5;241m.\u001b[39murl_format \u001b[38;5;241m=\u001b[39m \u001b[43m_get_tile_url_format\u001b[49m\u001b[43m(\u001b[49m\n\u001b[0;32m    145\u001b[0m \u001b[43m    \u001b[49m\u001b[43mee_object\u001b[49m\u001b[43m,\u001b[49m\u001b[43m \u001b[49m\u001b[43m_validate_vis_params\u001b[49m\u001b[43m(\u001b[49m\u001b[43mvis_params\u001b[49m\u001b[43m)\u001b[49m\n\u001b[0;32m    146\u001b[0m \u001b[43m\u001b[49m\u001b[43m)\u001b[49m\n\u001b[0;32m    147\u001b[0m \u001b[38;5;28msuper\u001b[39m()\u001b[38;5;241m.\u001b[39m\u001b[38;5;21m__init__\u001b[39m(\n\u001b[0;32m    148\u001b[0m     url\u001b[38;5;241m=\u001b[39m\u001b[38;5;28mself\u001b[39m\u001b[38;5;241m.\u001b[39murl_format,\n\u001b[0;32m    149\u001b[0m     attribution\u001b[38;5;241m=\u001b[39m\u001b[38;5;124m\"\u001b[39m\u001b[38;5;124mGoogle Earth Engine\u001b[39m\u001b[38;5;124m\"\u001b[39m,\n\u001b[1;32m   (...)\u001b[0m\n\u001b[0;32m    154\u001b[0m     \u001b[38;5;241m*\u001b[39m\u001b[38;5;241m*\u001b[39mkwargs,\n\u001b[0;32m    155\u001b[0m )\n",
      "File \u001b[1;32mc:\\Users\\Nissim\\Documents\\GitHub\\Climate\\flood_mapping\\.venv\\lib\\site-packages\\geemap\\ee_tile_layers.py:19\u001b[0m, in \u001b[0;36m_get_tile_url_format\u001b[1;34m(ee_object, vis_params)\u001b[0m\n\u001b[0;32m     17\u001b[0m \u001b[38;5;28;01mdef\u001b[39;00m \u001b[38;5;21m_get_tile_url_format\u001b[39m(ee_object, vis_params):\n\u001b[0;32m     18\u001b[0m     image \u001b[38;5;241m=\u001b[39m _ee_object_to_image(ee_object, vis_params)\n\u001b[1;32m---> 19\u001b[0m     map_id_dict \u001b[38;5;241m=\u001b[39m \u001b[43mee\u001b[49m\u001b[38;5;241;43m.\u001b[39;49m\u001b[43mImage\u001b[49m\u001b[43m(\u001b[49m\u001b[43mimage\u001b[49m\u001b[43m)\u001b[49m\u001b[38;5;241;43m.\u001b[39;49m\u001b[43mgetMapId\u001b[49m\u001b[43m(\u001b[49m\u001b[43mvis_params\u001b[49m\u001b[43m)\u001b[49m\n\u001b[0;32m     20\u001b[0m     \u001b[38;5;28;01mreturn\u001b[39;00m map_id_dict[\u001b[38;5;124m\"\u001b[39m\u001b[38;5;124mtile_fetcher\u001b[39m\u001b[38;5;124m\"\u001b[39m]\u001b[38;5;241m.\u001b[39murl_format\n",
      "File \u001b[1;32mc:\\Users\\Nissim\\Documents\\GitHub\\Climate\\flood_mapping\\.venv\\lib\\site-packages\\ee\\image.py:129\u001b[0m, in \u001b[0;36mImage.getMapId\u001b[1;34m(self, vis_params)\u001b[0m\n\u001b[0;32m    127\u001b[0m vis_image, request \u001b[38;5;241m=\u001b[39m \u001b[38;5;28mself\u001b[39m\u001b[38;5;241m.\u001b[39m_apply_visualization(vis_params)\n\u001b[0;32m    128\u001b[0m request[\u001b[38;5;124m'\u001b[39m\u001b[38;5;124mimage\u001b[39m\u001b[38;5;124m'\u001b[39m] \u001b[38;5;241m=\u001b[39m vis_image\n\u001b[1;32m--> 129\u001b[0m response \u001b[38;5;241m=\u001b[39m \u001b[43mdata\u001b[49m\u001b[38;5;241;43m.\u001b[39;49m\u001b[43mgetMapId\u001b[49m\u001b[43m(\u001b[49m\u001b[43mrequest\u001b[49m\u001b[43m)\u001b[49m\n\u001b[0;32m    130\u001b[0m response[\u001b[38;5;124m'\u001b[39m\u001b[38;5;124mimage\u001b[39m\u001b[38;5;124m'\u001b[39m] \u001b[38;5;241m=\u001b[39m \u001b[38;5;28mself\u001b[39m\n\u001b[0;32m    131\u001b[0m \u001b[38;5;28;01mreturn\u001b[39;00m response\n",
      "File \u001b[1;32mc:\\Users\\Nissim\\Documents\\GitHub\\Climate\\flood_mapping\\.venv\\lib\\site-packages\\ee\\data.py:716\u001b[0m, in \u001b[0;36mgetMapId\u001b[1;34m(params)\u001b[0m\n\u001b[0;32m    711\u001b[0m queryParams \u001b[38;5;241m=\u001b[39m {\n\u001b[0;32m    712\u001b[0m     \u001b[38;5;124m'\u001b[39m\u001b[38;5;124mfields\u001b[39m\u001b[38;5;124m'\u001b[39m: \u001b[38;5;124m'\u001b[39m\u001b[38;5;124mname\u001b[39m\u001b[38;5;124m'\u001b[39m,\n\u001b[0;32m    713\u001b[0m     \u001b[38;5;124m'\u001b[39m\u001b[38;5;124mbody\u001b[39m\u001b[38;5;124m'\u001b[39m: request,\n\u001b[0;32m    714\u001b[0m }\n\u001b[0;32m    715\u001b[0m _maybe_populate_workload_tag(queryParams)\n\u001b[1;32m--> 716\u001b[0m result \u001b[38;5;241m=\u001b[39m \u001b[43m_execute_cloud_call\u001b[49m\u001b[43m(\u001b[49m\n\u001b[0;32m    717\u001b[0m \u001b[43m    \u001b[49m\u001b[43m_get_cloud_projects\u001b[49m\u001b[43m(\u001b[49m\u001b[43m)\u001b[49m\n\u001b[0;32m    718\u001b[0m \u001b[43m    \u001b[49m\u001b[38;5;241;43m.\u001b[39;49m\u001b[43mmaps\u001b[49m\u001b[43m(\u001b[49m\u001b[43m)\u001b[49m\n\u001b[0;32m    719\u001b[0m \u001b[43m    \u001b[49m\u001b[38;5;241;43m.\u001b[39;49m\u001b[43mcreate\u001b[49m\u001b[43m(\u001b[49m\u001b[43mparent\u001b[49m\u001b[38;5;241;43m=\u001b[39;49m\u001b[43m_get_projects_path\u001b[49m\u001b[43m(\u001b[49m\u001b[43m)\u001b[49m\u001b[43m,\u001b[49m\u001b[43m \u001b[49m\u001b[38;5;241;43m*\u001b[39;49m\u001b[38;5;241;43m*\u001b[39;49m\u001b[43mqueryParams\u001b[49m\u001b[43m)\u001b[49m\n\u001b[0;32m    720\u001b[0m \u001b[43m\u001b[49m\u001b[43m)\u001b[49m\n\u001b[0;32m    721\u001b[0m map_name \u001b[38;5;241m=\u001b[39m result[\u001b[38;5;124m'\u001b[39m\u001b[38;5;124mname\u001b[39m\u001b[38;5;124m'\u001b[39m]\n\u001b[0;32m    722\u001b[0m url_format \u001b[38;5;241m=\u001b[39m \u001b[38;5;124m'\u001b[39m\u001b[38;5;132;01m%s\u001b[39;00m\u001b[38;5;124m/\u001b[39m\u001b[38;5;132;01m%s\u001b[39;00m\u001b[38;5;124m/\u001b[39m\u001b[38;5;132;01m%s\u001b[39;00m\u001b[38;5;124m/tiles/\u001b[39m\u001b[38;5;132;01m{z}\u001b[39;00m\u001b[38;5;124m/\u001b[39m\u001b[38;5;132;01m{x}\u001b[39;00m\u001b[38;5;124m/\u001b[39m\u001b[38;5;132;01m{y}\u001b[39;00m\u001b[38;5;124m'\u001b[39m \u001b[38;5;241m%\u001b[39m (\n\u001b[0;32m    723\u001b[0m     _tile_base_url, _cloud_api_utils\u001b[38;5;241m.\u001b[39mVERSION, map_name)\n",
      "File \u001b[1;32mc:\\Users\\Nissim\\Documents\\GitHub\\Climate\\flood_mapping\\.venv\\lib\\site-packages\\ee\\data.py:396\u001b[0m, in \u001b[0;36m_execute_cloud_call\u001b[1;34m(call, num_retries)\u001b[0m\n\u001b[0;32m    394\u001b[0m   \u001b[38;5;28;01mreturn\u001b[39;00m call\u001b[38;5;241m.\u001b[39mexecute(num_retries\u001b[38;5;241m=\u001b[39mnum_retries)\n\u001b[0;32m    395\u001b[0m \u001b[38;5;28;01mexcept\u001b[39;00m googleapiclient\u001b[38;5;241m.\u001b[39merrors\u001b[38;5;241m.\u001b[39mHttpError \u001b[38;5;28;01mas\u001b[39;00m e:\n\u001b[1;32m--> 396\u001b[0m   \u001b[38;5;28;01mraise\u001b[39;00m _translate_cloud_exception(e)\n",
      "\u001b[1;31mEEException\u001b[0m: Image.sample: Parameter 'image' is required."
     ]
    }
   ],
   "source": [
    "vizParams = {\"min\": 0, \"max\": 35, \"palette\": cc.fire}\n",
    "\n",
    "m = geemap.Map()\n",
    "m.centerObject(aoi, 8)\n",
    "m.add(\"basemap_selector\")\n",
    "m.add(\"layer_manager\")\n",
    "m.addLayer(recent_image.select(\"hot_days\").clip(aoi), vizParams, \"Actual Max LST\")\n",
    "m.addLayer(predicted_image.clip(aoi), vizParams, \"Predicted LST\")\n",
    "m.addLayer(difference, {\"min\": -10, \"max\": 10, \"palette\": cc.cwr}, \"Difference\")\n",
    "m"
   ]
  }
 ],
 "metadata": {
  "kernelspec": {
   "display_name": ".venv",
   "language": "python",
   "name": "python3"
  },
  "language_info": {
   "codemirror_mode": {
    "name": "ipython",
    "version": 3
   },
   "file_extension": ".py",
   "mimetype": "text/x-python",
   "name": "python",
   "nbconvert_exporter": "python",
   "pygments_lexer": "ipython3",
   "version": "3.9.0"
  }
 },
 "nbformat": 4,
 "nbformat_minor": 2
}
