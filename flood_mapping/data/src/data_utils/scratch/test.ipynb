{
 "cells": [
  {
   "cell_type": "code",
   "execution_count": 1,
   "metadata": {},
   "outputs": [],
   "source": [
    "import ee\n",
    "import geemap\n",
    "from datetime import datetime, timedelta"
   ]
  },
  {
   "cell_type": "code",
   "execution_count": 2,
   "metadata": {},
   "outputs": [
    {
     "data": {
      "text/html": [
       "\n",
       "            <style>\n",
       "                .geemap-dark {\n",
       "                    --jp-widgets-color: white;\n",
       "                    --jp-widgets-label-color: white;\n",
       "                    --jp-ui-font-color1: white;\n",
       "                    --jp-layout-color2: #454545;\n",
       "                    background-color: #383838;\n",
       "                }\n",
       "                    \n",
       "                .geemap-dark .jupyter-button {\n",
       "                    --jp-layout-color3: #383838;\n",
       "                }\n",
       "                \n",
       "                .geemap-colab {\n",
       "                    background-color: var(--colab-primary-surface-color, white);\n",
       "                }\n",
       "                    \n",
       "                .geemap-colab .jupyter-button {\n",
       "                    --jp-layout-color3: var(--colab-primary-surface-color, white);\n",
       "                }\n",
       "            </style>\n",
       "            "
      ],
      "text/plain": [
       "<IPython.core.display.HTML object>"
      ]
     },
     "metadata": {},
     "output_type": "display_data"
    }
   ],
   "source": [
    "def make_training_data(bbox, start_date, end_date):\n",
    "    # Convert the dates to datetime objects\n",
    "    start_date = datetime.strptime(start_date, \"%Y-%m-%d\")\n",
    "    end_date = datetime.strptime(end_date, \"%Y-%m-%d\")\n",
    "\n",
    "    # Calculate the new dates\n",
    "    before_start = (start_date - timedelta(days=10)).strftime(\"%Y-%m-%d\")\n",
    "    before_end = start_date.strftime(\"%Y-%m-%d\")\n",
    "\n",
    "    after_start = end_date.strftime(\"%Y-%m-%d\")\n",
    "    after_end = (end_date + timedelta(days=10)).strftime(\"%Y-%m-%d\")\n",
    "\n",
    "    # Load the datasets\n",
    "    dem = ee.Image(\"USGS/SRTMGL1_003\").clip(bbox)\n",
    "    slope = ee.Terrain.slope(dem)\n",
    "    landcover = ee.Image(\"ESA/WorldCover/v100/2020\").select(\"Map\").clip(bbox)\n",
    "    flow_direction = ee.Image(\"WWF/HydroSHEDS/03DIR\").clip(bbox)\n",
    "    ghsl = ee.Image(\"JRC/GHSL/P2023A/GHS_BUILT_C/2018\").clip(bbox)\n",
    "\n",
    "    # load hydrogeography90 datasets\n",
    "    stream_dist_proximity_collection = (\n",
    "        ee.ImageCollection(\n",
    "            \"projects/sat-io/open-datasets/HYDROGRAPHY90/stream-outlet-distance/stream_dist_proximity\"\n",
    "        )\n",
    "        .filterBounds(bbox)\n",
    "        .mosaic()\n",
    "    )\n",
    "    stream_dist_proximity = stream_dist_proximity_collection.clip(bbox).rename(\n",
    "        \"stream_distance\"\n",
    "    )\n",
    "\n",
    "    flow_accumulation_collection = (\n",
    "        ee.ImageCollection(\n",
    "            \"projects/sat-io/open-datasets/HYDROGRAPHY90/base-network-layers/flow_accumulation\"\n",
    "        )\n",
    "        .filterBounds(bbox)\n",
    "        .mosaic()\n",
    "    )\n",
    "    flow_accumulation = flow_accumulation_collection.clip(bbox).rename(\n",
    "        \"flow_accumulation\"\n",
    "    )\n",
    "\n",
    "    spi_collection = (\n",
    "        ee.ImageCollection(\"projects/sat-io/open-datasets/HYDROGRAPHY90/flow_index/spi\")\n",
    "        .filterBounds(bbox)\n",
    "        .mosaic()\n",
    "    )\n",
    "    spi = spi_collection.clip(bbox).rename(\"spi\")\n",
    "\n",
    "    sti_collection = (\n",
    "        ee.ImageCollection(\"projects/sat-io/open-datasets/HYDROGRAPHY90/flow_index/sti\")\n",
    "        .filterBounds(bbox)\n",
    "        .mosaic()\n",
    "    )\n",
    "    sti = sti_collection.clip(bbox).rename(\"sti\")\n",
    "\n",
    "    cti_collection = (\n",
    "        ee.ImageCollection(\"projects/sat-io/open-datasets/HYDROGRAPHY90/flow_index/cti\")\n",
    "        .filterBounds(bbox)\n",
    "        .mosaic()\n",
    "    )\n",
    "    cti = cti_collection.clip(bbox).rename(\"cti\")\n",
    "\n",
    "    # load geomorph data\n",
    "    tpi_collection = (\n",
    "        ee.ImageCollection(\"projects/sat-io/open-datasets/Geomorpho90m/tpi\")\n",
    "        .filterBounds(bbox)\n",
    "        .mosaic()\n",
    "    )\n",
    "    tpi = tpi_collection.clip(bbox).rename(\"tpi\")\n",
    "\n",
    "    tri_collection = (\n",
    "        ee.ImageCollection(\"projects/sat-io/open-datasets/Geomorpho90m/tri\")\n",
    "        .filterBounds(bbox)\n",
    "        .mosaic()\n",
    "    )\n",
    "    tri = tri_collection.clip(bbox).rename(\"tri\")\n",
    "\n",
    "    pcurv_collection = (\n",
    "        ee.ImageCollection(\"projects/sat-io/open-datasets/Geomorpho90m/pcurv\")\n",
    "        .filterBounds(bbox)\n",
    "        .mosaic()\n",
    "    )\n",
    "    pcurv = pcurv_collection.clip(bbox).rename(\"pcurv\")\n",
    "\n",
    "    tcurv_collection = (\n",
    "        ee.ImageCollection(\"projects/sat-io/open-datasets/Geomorpho90m/tcurv\")\n",
    "        .filterBounds(bbox)\n",
    "        .mosaic()\n",
    "    )\n",
    "    tcurv = tcurv_collection.clip(bbox).rename(\"tcurv\")\n",
    "\n",
    "    aspect_collection = (\n",
    "        ee.ImageCollection(\"projects/sat-io/open-datasets/Geomorpho90m/aspect\")\n",
    "        .filterBounds(bbox)\n",
    "        .mosaic()\n",
    "    )\n",
    "    aspect = aspect_collection.clip(bbox).rename(\"aspect\")\n",
    "\n",
    "    hydro_proj = stream_dist_proximity.projection()\n",
    "\n",
    "    ## set time frame\n",
    "    before_start = \"2023-09-25\"\n",
    "    before_end = \"2023-10-05\"\n",
    "\n",
    "    after_start = \"2023-10-05\"\n",
    "    after_end = \"2023-10-15\"\n",
    "\n",
    "    # SET SAR PARAMETERS (can be left default)\n",
    "\n",
    "    # Polarization (choose either \"VH\" or \"VV\")\n",
    "    polarization = \"VH\"  # or \"VV\"\n",
    "\n",
    "    # Pass direction (choose either \"DESCENDING\" or \"ASCENDING\")\n",
    "    pass_direction = \"DESCENDING\"  # or \"ASCENDING\"\n",
    "\n",
    "    # Difference threshold to be applied on the difference image (after flood - before flood)\n",
    "    # It has been chosen by trial and error. Adjust as needed.\n",
    "    difference_threshold = 1.25\n",
    "\n",
    "    # Relative orbit (optional, if you know the relative orbit for your study area)\n",
    "    # relative_orbit = 79\n",
    "\n",
    "    # Rename the selected geometry feature\n",
    "    aoi = bbox\n",
    "\n",
    "    # Load and filter Sentinel-1 GRD data by predefined parameters\n",
    "    collection = (\n",
    "        ee.ImageCollection(\"COPERNICUS/S1_GRD\")\n",
    "        .filter(ee.Filter.eq(\"instrumentMode\", \"IW\"))\n",
    "        .filter(ee.Filter.listContains(\"transmitterReceiverPolarisation\", polarization))\n",
    "        .filter(ee.Filter.eq(\"orbitProperties_pass\", pass_direction))\n",
    "        .filter(ee.Filter.eq(\"resolution_meters\", 10))\n",
    "        .filterBounds(aoi)\n",
    "        .select(polarization)\n",
    "    )\n",
    "\n",
    "    # Select images by predefined dates\n",
    "    before_collection = collection.filterDate(before_start, before_end)\n",
    "    after_collection = collection.filterDate(after_start, after_end)\n",
    "\n",
    "    # Create a mosaic of selected tiles and clip to the study area\n",
    "    before = before_collection.mosaic().clip(aoi)\n",
    "    after = after_collection.mosaic().clip(aoi)\n",
    "\n",
    "    # Apply radar speckle reduction by smoothing\n",
    "    smoothing_radius = 50\n",
    "    before_filtered = before.focal_mean(smoothing_radius, \"circle\", \"meters\")\n",
    "    after_filtered = after.focal_mean(smoothing_radius, \"circle\", \"meters\")\n",
    "\n",
    "    # Calculate the difference between the before and after images\n",
    "    difference = after_filtered.divide(before_filtered)\n",
    "\n",
    "    # Apply the predefined difference-threshold and create the flood extent mask\n",
    "    threshold = difference_threshold\n",
    "    difference_binary = difference.gt(threshold)\n",
    "\n",
    "    # Refine the flood result using additional datasets\n",
    "    swater = ee.Image(\"JRC/GSW1_0/GlobalSurfaceWater\").select(\"seasonality\")\n",
    "    swater_mask = swater.gte(10).updateMask(swater.gte(10))\n",
    "    flooded_mask = difference_binary.where(swater_mask, 0)\n",
    "    flooded = flooded_mask.updateMask(flooded_mask)\n",
    "    connections = flooded.connectedPixelCount()\n",
    "    flooded = flooded.updateMask(connections.gte(8))\n",
    "\n",
    "    # Mask out areas with more than 5 percent slope using a Digital Elevation Model\n",
    "    DEM = ee.Image(\"WWF/HydroSHEDS/03VFDEM\")\n",
    "    terrain = ee.Algorithms.Terrain(DEM)\n",
    "    slope = terrain.select(\"slope\")\n",
    "    flooded = flooded.updateMask(slope.lt(5))\n",
    "\n",
    "    # Set the default projection from the hydrography dataset\n",
    "    flooded = flooded.setDefaultProjection(hydro_proj)\n",
    "\n",
    "    # Now, reduce the resolution\n",
    "    flooded_mode = flooded.reduceResolution(\n",
    "        reducer=ee.Reducer.mode(), maxPixels=10000\n",
    "    ).reproject(crs=hydro_proj)\n",
    "\n",
    "    # Reproject the flooded image to match the DEM's projection\n",
    "    dem_projection = dem.projection()\n",
    "    flooded_reprojected = flooded.reproject(crs=dem_projection)\n",
    "\n",
    "    # Assuming 'flooded_mode' is your final flood detection image and 'aoi' is your area of interest\n",
    "\n",
    "    # Create a full-area mask, initially marking everything as non-flooded (value 0)\n",
    "    full_area_mask = ee.Image.constant(0).clip(aoi)\n",
    "\n",
    "    # Update the mask to mark flooded areas (value 1)\n",
    "    # Assuming flooded_mode is a binary image with 1 for flooded areas and 0 elsewhere\n",
    "    flood_labeled_image = full_area_mask.where(flooded_reprojected, 1)\n",
    "\n",
    "    # Now flood_labeled_image contains 1 for flooded areas and 0 for non-flooded areas\n",
    "\n",
    "    combined = (\n",
    "        dem.addBands(landcover.select(\"Map\").rename(\"landcover\"))\n",
    "        .addBands(slope)\n",
    "        .addBands(ghsl)\n",
    "        .addBands(flow_direction.rename(\"flow_direction\"))\n",
    "        .addBands(stream_dist_proximity)\n",
    "        .addBands(flood_labeled_image.rename(\"flooded_mask\"))\n",
    "        .addBands(flow_accumulation)\n",
    "        .addBands(spi)\n",
    "        .addBands(sti)\n",
    "        .addBands(cti)\n",
    "        .addBands(tpi)  # Adding TPI\n",
    "        .addBands(tri)  # Adding TRI\n",
    "        .addBands(pcurv)  # Adding PCURV\n",
    "        .addBands(tcurv)  # Adding TCURV\n",
    "        .addBands(aspect)\n",
    "    )  # Adding ASPECT\n",
    "\n",
    "    return combined"
   ]
  },
  {
   "cell_type": "code",
   "execution_count": 5,
   "metadata": {},
   "outputs": [
    {
     "data": {
      "text/html": [
       "\n",
       "            <style>\n",
       "                .geemap-dark {\n",
       "                    --jp-widgets-color: white;\n",
       "                    --jp-widgets-label-color: white;\n",
       "                    --jp-ui-font-color1: white;\n",
       "                    --jp-layout-color2: #454545;\n",
       "                    background-color: #383838;\n",
       "                }\n",
       "                    \n",
       "                .geemap-dark .jupyter-button {\n",
       "                    --jp-layout-color3: #383838;\n",
       "                }\n",
       "                \n",
       "                .geemap-colab {\n",
       "                    background-color: var(--colab-primary-surface-color, white);\n",
       "                }\n",
       "                    \n",
       "                .geemap-colab .jupyter-button {\n",
       "                    --jp-layout-color3: var(--colab-primary-surface-color, white);\n",
       "                }\n",
       "            </style>\n",
       "            "
      ],
      "text/plain": [
       "<IPython.core.display.HTML object>"
      ]
     },
     "metadata": {},
     "output_type": "display_data"
    }
   ],
   "source": [
    "ee.Initialize(project=\"hotspotstoplight\")"
   ]
  },
  {
   "cell_type": "code",
   "execution_count": 6,
   "metadata": {},
   "outputs": [
    {
     "data": {
      "text/html": [
       "\n",
       "            <style>\n",
       "                .geemap-dark {\n",
       "                    --jp-widgets-color: white;\n",
       "                    --jp-widgets-label-color: white;\n",
       "                    --jp-ui-font-color1: white;\n",
       "                    --jp-layout-color2: #454545;\n",
       "                    background-color: #383838;\n",
       "                }\n",
       "                    \n",
       "                .geemap-dark .jupyter-button {\n",
       "                    --jp-layout-color3: #383838;\n",
       "                }\n",
       "                \n",
       "                .geemap-colab {\n",
       "                    background-color: var(--colab-primary-surface-color, white);\n",
       "                }\n",
       "                    \n",
       "                .geemap-colab .jupyter-button {\n",
       "                    --jp-layout-color3: var(--colab-primary-surface-color, white);\n",
       "                }\n",
       "            </style>\n",
       "            "
      ],
      "text/plain": [
       "<IPython.core.display.HTML object>"
      ]
     },
     "metadata": {},
     "output_type": "display_data"
    }
   ],
   "source": [
    "bbox = ee.Geometry.Polygon(  # all of costa rica\n",
    "    [\n",
    "        [\n",
    "            [-85.9, 8.0],  # Lower left corner (southwest)\n",
    "            [-85.9, 11.2],  # Upper left corner (northwest)\n",
    "            [-82.5, 11.2],  # Upper right corner (northeast)\n",
    "            [-82.5, 8.0],  # Lower right corner (southeast)\n",
    "            [-85.9, 8.0],  # Closing the polygon by repeating the first point\n",
    "        ]\n",
    "    ]\n",
    ")\n",
    "\n",
    "start_date = \"2023-10-05\"\n",
    "\n",
    "end_date = \"2023-10-05\""
   ]
  },
  {
   "cell_type": "code",
   "execution_count": 7,
   "metadata": {},
   "outputs": [
    {
     "data": {
      "text/html": [
       "\n",
       "            <style>\n",
       "                .geemap-dark {\n",
       "                    --jp-widgets-color: white;\n",
       "                    --jp-widgets-label-color: white;\n",
       "                    --jp-ui-font-color1: white;\n",
       "                    --jp-layout-color2: #454545;\n",
       "                    background-color: #383838;\n",
       "                }\n",
       "                    \n",
       "                .geemap-dark .jupyter-button {\n",
       "                    --jp-layout-color3: #383838;\n",
       "                }\n",
       "                \n",
       "                .geemap-colab {\n",
       "                    background-color: var(--colab-primary-surface-color, white);\n",
       "                }\n",
       "                    \n",
       "                .geemap-colab .jupyter-button {\n",
       "                    --jp-layout-color3: var(--colab-primary-surface-color, white);\n",
       "                }\n",
       "            </style>\n",
       "            "
      ],
      "text/plain": [
       "<IPython.core.display.HTML object>"
      ]
     },
     "metadata": {},
     "output_type": "display_data"
    }
   ],
   "source": [
    "combined = make_training_data(bbox, start_date, end_date)"
   ]
  },
  {
   "cell_type": "code",
   "execution_count": 8,
   "metadata": {},
   "outputs": [
    {
     "data": {
      "text/html": [
       "\n",
       "            <style>\n",
       "                .geemap-dark {\n",
       "                    --jp-widgets-color: white;\n",
       "                    --jp-widgets-label-color: white;\n",
       "                    --jp-ui-font-color1: white;\n",
       "                    --jp-layout-color2: #454545;\n",
       "                    background-color: #383838;\n",
       "                }\n",
       "                    \n",
       "                .geemap-dark .jupyter-button {\n",
       "                    --jp-layout-color3: #383838;\n",
       "                }\n",
       "                \n",
       "                .geemap-colab {\n",
       "                    background-color: var(--colab-primary-surface-color, white);\n",
       "                }\n",
       "                    \n",
       "                .geemap-colab .jupyter-button {\n",
       "                    --jp-layout-color3: var(--colab-primary-surface-color, white);\n",
       "                }\n",
       "            </style>\n",
       "            "
      ],
      "text/plain": [
       "<IPython.core.display.HTML object>"
      ]
     },
     "metadata": {},
     "output_type": "display_data"
    },
    {
     "name": "stdout",
     "output_type": "stream",
     "text": [
      "Band names:  ['elevation', 'landcover', 'slope', 'built_characteristics', 'flow_direction', 'stream_distance', 'flooded_mask', 'flow_accumulation', 'spi', 'sti', 'cti', 'tpi', 'tri', 'pcurv', 'tcurv', 'aspect']\n"
     ]
    }
   ],
   "source": [
    "bandNames = combined.bandNames()\n",
    "print(\"Band names: \", bandNames.getInfo())"
   ]
  },
  {
   "cell_type": "code",
   "execution_count": 16,
   "metadata": {},
   "outputs": [
    {
     "data": {
      "text/html": [
       "\n",
       "            <style>\n",
       "                .geemap-dark {\n",
       "                    --jp-widgets-color: white;\n",
       "                    --jp-widgets-label-color: white;\n",
       "                    --jp-ui-font-color1: white;\n",
       "                    --jp-layout-color2: #454545;\n",
       "                    background-color: #383838;\n",
       "                }\n",
       "                    \n",
       "                .geemap-dark .jupyter-button {\n",
       "                    --jp-layout-color3: #383838;\n",
       "                }\n",
       "                \n",
       "                .geemap-colab {\n",
       "                    background-color: var(--colab-primary-surface-color, white);\n",
       "                }\n",
       "                    \n",
       "                .geemap-colab .jupyter-button {\n",
       "                    --jp-layout-color3: var(--colab-primary-surface-color, white);\n",
       "                }\n",
       "            </style>\n",
       "            "
      ],
      "text/plain": [
       "<IPython.core.display.HTML object>"
      ]
     },
     "metadata": {},
     "output_type": "display_data"
    },
    {
     "name": "stdout",
     "output_type": "stream",
     "text": [
      "{'type': 'Image', 'bands': [{'id': 'elevation', 'data_type': {'type': 'PixelType', 'precision': 'int', 'min': -32768, 'max': 32767}, 'dimensions': [12242, 11540], 'origin': [338760, 175662], 'crs': 'EPSG:4326', 'crs_transform': [0.0002777777777777778, 0, -180.0001388888889, 0, -0.0002777777777777778, 60.00013888888889]}, {'id': 'landcover', 'data_type': {'type': 'PixelType', 'precision': 'int', 'min': 0, 'max': 255}, 'dimensions': [40802, 38460], 'origin': [1129199, 873541], 'crs': 'EPSG:4326', 'crs_transform': [8.333333333333333e-05, 0, -180, 0, -8.333333333333333e-05, 84]}, {'id': 'slope', 'data_type': {'type': 'PixelType', 'precision': 'int', 'min': 0, 'max': 90}, 'crs': 'EPSG:4326', 'crs_transform': [0.0008333333333333, 0, -145, 0, -0.0008333333333333, 60]}, {'id': 'built_characteristics', 'data_type': {'type': 'PixelType', 'precision': 'int', 'min': 0, 'max': 255}, 'dimensions': [38653, 39412], 'origin': [948365, 761796], 'crs': 'PROJCS[\"World_Mollweide\", \\n  GEOGCS[\"WGS 84\", \\n    DATUM[\"WGS_1984\", \\n      SPHEROID[\"WGS 84\", 6378137.0, 298.257223563, AUTHORITY[\"EPSG\",\"7030\"]], \\n      AUTHORITY[\"EPSG\",\"6326\"]], \\n    PRIMEM[\"Greenwich\", 0.0], \\n    UNIT[\"degree\", 0.017453292519943295], \\n    AXIS[\"Longitude\", EAST], \\n    AXIS[\"Latitude\", NORTH]], \\n  PROJECTION[\"Mollweide\"], \\n  PARAMETER[\"semi_minor\", 6378137.0], \\n  PARAMETER[\"false_easting\", 0.0], \\n  PARAMETER[\"false_northing\", 0.0], \\n  PARAMETER[\"central_meridian\", 0.0], \\n  UNIT[\"m\", 1.0], \\n  AXIS[\"Easting\", EAST], \\n  AXIS[\"Northing\", NORTH]]', 'crs_transform': [10, 0, -18041000, 0, -10, 9000000]}, {'id': 'flow_direction', 'data_type': {'type': 'PixelType', 'precision': 'int', 'min': 0, 'max': 255}, 'dimensions': [4082, 3847], 'origin': [70919, 58554], 'crs': 'EPSG:4326', 'crs_transform': [0.0008333333333333, 0, -145, 0, -0.0008333333333333, 60]}, {'id': 'stream_distance', 'data_type': {'type': 'PixelType', 'precision': 'int', 'min': -2147483648, 'max': 2147483647}, 'dimensions': [6, 5], 'origin': [-87, 7], 'crs': 'EPSG:4326', 'crs_transform': [1, 0, 0, 0, 1, 0]}, {'id': 'flooded_mask', 'data_type': {'type': 'PixelType', 'precision': 'int', 'min': 0, 'max': 1}, 'dimensions': [6, 5], 'origin': [-87, 7], 'crs': 'EPSG:4326', 'crs_transform': [1, 0, 0, 0, 1, 0]}, {'id': 'flow_accumulation', 'data_type': {'type': 'PixelType', 'precision': 'float'}, 'dimensions': [6, 5], 'origin': [-87, 7], 'crs': 'EPSG:4326', 'crs_transform': [1, 0, 0, 0, 1, 0]}, {'id': 'spi', 'data_type': {'type': 'PixelType', 'precision': 'int', 'min': -2147483648, 'max': 2147483647}, 'dimensions': [6, 5], 'origin': [-87, 7], 'crs': 'EPSG:4326', 'crs_transform': [1, 0, 0, 0, 1, 0]}, {'id': 'sti', 'data_type': {'type': 'PixelType', 'precision': 'int', 'min': -2147483648, 'max': 2147483647}, 'dimensions': [6, 5], 'origin': [-87, 7], 'crs': 'EPSG:4326', 'crs_transform': [1, 0, 0, 0, 1, 0]}, {'id': 'cti', 'data_type': {'type': 'PixelType', 'precision': 'int', 'min': -2147483648, 'max': 2147483647}, 'dimensions': [6, 5], 'origin': [-87, 7], 'crs': 'EPSG:4326', 'crs_transform': [1, 0, 0, 0, 1, 0]}, {'id': 'tpi', 'data_type': {'type': 'PixelType', 'precision': 'float'}, 'dimensions': [6, 5], 'origin': [-87, 7], 'crs': 'EPSG:4326', 'crs_transform': [1, 0, 0, 0, 1, 0]}, {'id': 'tri', 'data_type': {'type': 'PixelType', 'precision': 'float'}, 'dimensions': [6, 5], 'origin': [-87, 7], 'crs': 'EPSG:4326', 'crs_transform': [1, 0, 0, 0, 1, 0]}, {'id': 'pcurv', 'data_type': {'type': 'PixelType', 'precision': 'float'}, 'dimensions': [6, 5], 'origin': [-87, 7], 'crs': 'EPSG:4326', 'crs_transform': [1, 0, 0, 0, 1, 0]}, {'id': 'tcurv', 'data_type': {'type': 'PixelType', 'precision': 'float'}, 'dimensions': [6, 5], 'origin': [-87, 7], 'crs': 'EPSG:4326', 'crs_transform': [1, 0, 0, 0, 1, 0]}, {'id': 'aspect', 'data_type': {'type': 'PixelType', 'precision': 'float'}, 'dimensions': [6, 5], 'origin': [-87, 7], 'crs': 'EPSG:4326', 'crs_transform': [1, 0, 0, 0, 1, 0]}], 'id': 'USGS/SRTMGL1_003', 'version': 1641990767055141, 'properties': {'system:footprint': {'type': 'Polygon', 'coordinates': [[[-85.9, 8], [-82.5, 8], [-82.5, 11.2], [-85.9, 11.2], [-85.9, 8]]]}, 'system:visualization_0_min': '0.0', 'type_name': 'Image', 'keywords': ['dem', 'elevation', 'geophysical', 'nasa', 'srtm', 'topography', 'usgs'], 'thumb': 'https://mw1.google.com/ges/dd/images/SRTM90_V4_thumb.png', 'description': '<p>The Shuttle Radar Topography Mission (SRTM, see <a href=\"https://onlinelibrary.wiley.com/doi/10.1029/2005RG000183/full\">Farr\\net al. 2007</a>)\\ndigital elevation data is an international research effort that\\nobtained digital elevation models on a near-global scale. This\\nSRTM V3 product (SRTM Plus) is provided by NASA JPL\\nat a resolution of 1 arc-second (approximately 30m).</p><p>This dataset has undergone a void-filling process using open-source data\\n(ASTER GDEM2, GMTED2010, and NED), as opposed to other versions that\\ncontain voids or have been void-filled with commercial sources.\\nFor more information on the different versions see the\\n<a href=\"https://lpdaac.usgs.gov/documents/13/SRTM_Quick_Guide.pdf\">SRTM Quick Guide</a>.</p><p>Documentation:</p><ul><li><p><a href=\"https://lpdaac.usgs.gov/documents/179/SRTM_User_Guide_V3.pdf\">User&#39;s Guide</a></p></li><li><p><a href=\"https://lpdaac.usgs.gov/documents/13/SRTM_Quick_Guide.pdf\">General Documentation</a></p></li><li><p><a href=\"https://doi.org/10.1029/2005RG000183\">Algorithm Theoretical Basis Document (ATBD)</a></p></li></ul><p><b>Provider: <a href=\"https://cmr.earthdata.nasa.gov/search/concepts/C1000000240-LPDAAC_ECS.html\">NASA / USGS / JPL-Caltech</a></b><br><p><b>Bands</b><table class=\"eecat\"><tr><th scope=\"col\">Name</th><th scope=\"col\">Description</th></tr><tr><td>elevation</td><td><p>Elevation</p></td></tr></table><p><b>Terms of Use</b><br><p>Unless otherwise noted, images and video on JPL public\\nweb sites (public sites ending with a jpl.nasa.gov address) may\\nbe used for any purpose without prior permission. For more information\\nand exceptions visit the <a href=\"https://www.jpl.nasa.gov/imagepolicy/\">JPL Image Use Policy site</a>.</p><p><b>Suggested citation(s)</b><ul><li><p>Farr, T.G., Rosen, P.A., Caro, E., Crippen, R., Duren, R., Hensley,\\nS., Kobrick, M., Paller, M., Rodriguez, E., Roth, L., Seal, D.,\\nShaffer, S., Shimada, J., Umland, J., Werner, M., Oskin, M., Burbank,\\nD., and Alsdorf, D.E., 2007, The shuttle radar topography mission:\\nReviews of Geophysics, v. 45, no. 2, RG2004, at\\n<a href=\"https://doi.org/10.1029/2005RG000183\">https://doi.org/10.1029/2005RG000183</a>.</p></li></ul><style>\\n  table.eecat {\\n  border: 1px solid black;\\n  border-collapse: collapse;\\n  font-size: 13px;\\n  }\\n  table.eecat td, tr, th {\\n  text-align: left; vertical-align: top;\\n  border: 1px solid gray; padding: 3px;\\n  }\\n  td.nobreak { white-space: nowrap; }\\n</style>', 'source_tags': ['nasa', 'usgs'], 'visualization_0_max': '6000.0', 'title': 'NASA SRTM Digital Elevation 30m', 'product_tags': ['srtm', 'elevation', 'topography', 'dem', 'geophysical'], 'provider': 'NASA / USGS / JPL-Caltech', 'visualization_0_min': '0.0', 'visualization_0_name': 'Elevation', 'date_range': [950227200000, 951177600000], 'system:visualization_0_gamma': '1.6', 'period': 0, 'system:visualization_0_bands': 'elevation', 'provider_url': 'https://cmr.earthdata.nasa.gov/search/concepts/C1000000240-LPDAAC_ECS.html', 'visualization_0_gamma': '1.6', 'sample': 'https://mw1.google.com/ges/dd/images/SRTM90_V4_sample.png', 'tags': ['dem', 'elevation', 'geophysical', 'nasa', 'srtm', 'topography', 'usgs'], 'system:visualization_0_max': '6000.0', 'system:visualization_0_name': 'Elevation', 'system:asset_size': 132792638252, 'visualization_0_bands': 'elevation'}}\n"
     ]
    }
   ],
   "source": [
    "print(combined.getInfo())"
   ]
  },
  {
   "cell_type": "code",
   "execution_count": 18,
   "metadata": {},
   "outputs": [
    {
     "data": {
      "text/html": [
       "\n",
       "            <style>\n",
       "                .geemap-dark {\n",
       "                    --jp-widgets-color: white;\n",
       "                    --jp-widgets-label-color: white;\n",
       "                    --jp-ui-font-color1: white;\n",
       "                    --jp-layout-color2: #454545;\n",
       "                    background-color: #383838;\n",
       "                }\n",
       "                    \n",
       "                .geemap-dark .jupyter-button {\n",
       "                    --jp-layout-color3: #383838;\n",
       "                }\n",
       "                \n",
       "                .geemap-colab {\n",
       "                    background-color: var(--colab-primary-surface-color, white);\n",
       "                }\n",
       "                    \n",
       "                .geemap-colab .jupyter-button {\n",
       "                    --jp-layout-color3: var(--colab-primary-surface-color, white);\n",
       "                }\n",
       "            </style>\n",
       "            "
      ],
      "text/plain": [
       "<IPython.core.display.HTML object>"
      ]
     },
     "metadata": {},
     "output_type": "display_data"
    },
    {
     "name": "stdout",
     "output_type": "stream",
     "text": [
      "Generating URL ...\n",
      "Downloading data from https://earthengine.googleapis.com/v1/projects/hotspotstoplight/thumbnails/4f621b538dc8534d3463a81169f468c3-dbb5628be77a27b944adc3a6b79f7dc4:getPixels\n",
      "Please wait ...\n",
      "Data downloaded to c:\\Users\\Nissim\\Documents\\GitHub\\Climate\\flood_mapping\\data\\src\\data_utils\\test.tif\n"
     ]
    }
   ],
   "source": [
    "san_jose = ee.Geometry.Polygon(\n",
    "    [\n",
    "        [\n",
    "            [-84.52073469866146, 9.554427321389259],\n",
    "            [-83.61258439158091, 9.554427321389259],\n",
    "            [-83.61258439158091, 10.280374182928231],\n",
    "            [-84.52073469866146, 10.280374182928231],\n",
    "            [-84.52073469866146, 9.554427321389259],\n",
    "        ]\n",
    "    ]\n",
    ")\n",
    "\n",
    "geemap.ee_export_image(combined, filename=\"test.tif\", scale=300, region=san_jose)"
   ]
  },
  {
   "cell_type": "code",
   "execution_count": 14,
   "metadata": {},
   "outputs": [
    {
     "data": {
      "text/html": [
       "\n",
       "            <style>\n",
       "                .geemap-dark {\n",
       "                    --jp-widgets-color: white;\n",
       "                    --jp-widgets-label-color: white;\n",
       "                    --jp-ui-font-color1: white;\n",
       "                    --jp-layout-color2: #454545;\n",
       "                    background-color: #383838;\n",
       "                }\n",
       "                    \n",
       "                .geemap-dark .jupyter-button {\n",
       "                    --jp-layout-color3: #383838;\n",
       "                }\n",
       "                \n",
       "                .geemap-colab {\n",
       "                    background-color: var(--colab-primary-surface-color, white);\n",
       "                }\n",
       "                    \n",
       "                .geemap-colab .jupyter-button {\n",
       "                    --jp-layout-color3: var(--colab-primary-surface-color, white);\n",
       "                }\n",
       "            </style>\n",
       "            "
      ],
      "text/plain": [
       "<IPython.core.display.HTML object>"
      ]
     },
     "metadata": {},
     "output_type": "display_data"
    },
    {
     "data": {
      "application/vnd.jupyter.widget-view+json": {
       "model_id": "90a6fbd4a7304d52ac08c9874e388d0c",
       "version_major": 2,
       "version_minor": 0
      },
      "text/plain": [
       "Map(center=[9.9333, -84.0833], controls=(WidgetControl(options=['position', 'transparent_bg'], widget=SearchDa…"
      ]
     },
     "execution_count": 14,
     "metadata": {},
     "output_type": "execute_result"
    }
   ],
   "source": [
    "# Initialize a geemap Map\n",
    "Map = geemap.Map()\n",
    "\n",
    "# Add the first three bands of the combined image to the Map\n",
    "# Specify the bands you want to display (e.g., ['band1', 'band2', 'band3'])\n",
    "# Adjust visualization parameters as needed\n",
    "vis_params = {\n",
    "    \"bands\": [\n",
    "        \"landcover\"\n",
    "    ],  # Replace with actual band names if they have specific names\n",
    "    \"min\": 0,  # Minimum value for visualization scaling\n",
    "    \"max\": 3000,  # Maximum value for visualization scaling\n",
    "    \"gamma\": 1.4,  # Gamma correction for visualization\n",
    "}\n",
    "\n",
    "# Add the layer to the map. If your bands are RGB or can be visualized as RGB, adjust the parameters accordingly.\n",
    "Map.addLayer(combined, {}, \"Combined Image\")\n",
    "\n",
    "Map.add(\"layer_manager\")\n",
    "\n",
    "# Center the map on San Jose, Costa Rica\n",
    "Map.setCenter(-84.0833, 9.9333, 10)\n",
    "\n",
    "# Display the map\n",
    "Map"
   ]
  },
  {
   "cell_type": "code",
   "execution_count": 3,
   "metadata": {},
   "outputs": [
    {
     "data": {
      "text/html": [
       "\n",
       "            <style>\n",
       "                .geemap-dark {\n",
       "                    --jp-widgets-color: white;\n",
       "                    --jp-widgets-label-color: white;\n",
       "                    --jp-ui-font-color1: white;\n",
       "                    --jp-layout-color2: #454545;\n",
       "                    background-color: #383838;\n",
       "                }\n",
       "                    \n",
       "                .geemap-dark .jupyter-button {\n",
       "                    --jp-layout-color3: #383838;\n",
       "                }\n",
       "                \n",
       "                .geemap-colab {\n",
       "                    background-color: var(--colab-primary-surface-color, white);\n",
       "                }\n",
       "                    \n",
       "                .geemap-colab .jupyter-button {\n",
       "                    --jp-layout-color3: var(--colab-primary-surface-color, white);\n",
       "                }\n",
       "            </style>\n",
       "            "
      ],
      "text/plain": [
       "<IPython.core.display.HTML object>"
      ]
     },
     "metadata": {},
     "output_type": "display_data"
    },
    {
     "name": "stdout",
     "output_type": "stream",
     "text": [
      "Generating URL ...\n",
      "Downloading data from https://earthengine.googleapis.com/v1/projects/hotspotstoplight/thumbnails/9a71e9d9e74200b60b013db84b3b839b-7d598d47db0160b49bdb3f255f8a38f9:getPixels\n",
      "Please wait ...\n",
      "Data downloaded to c:\\Users\\Nissim\\Documents\\GitHub\\Climate\\flood_mapping\\data\\outputs\\test.tif\n"
     ]
    }
   ],
   "source": [
    "# load stream distance for crs\n",
    "stream_dist_proximity_collection = (\n",
    "    ee.ImageCollection(\n",
    "        \"projects/sat-io/open-datasets/HYDROGRAPHY90/stream-outlet-distance/stream_dist_proximity\"\n",
    "    )\n",
    "    .filterBounds(aoi)\n",
    "    .mosaic()\n",
    ")\n",
    "stream_dist_proximity = stream_dist_proximity_collection.clip(aoi).rename(\n",
    "    \"stream_distance\"\n",
    ")\n",
    "hydro_proj = stream_dist_proximity.projection()\n",
    "\n",
    "hydro_proj = stream_dist_proximity.projection()\n",
    "\n",
    "dem = ee.Image(\"USGS/SRTMGL1_003\").clip(aoi)\n",
    "\n",
    "# Set the default projection from the hydrography dataset\n",
    "flooded = flooded.setDefaultProjection(hydro_proj)\n",
    "\n",
    "# Now, reduce the resolution\n",
    "flooded_mode = flooded.reduceResolution(\n",
    "    reducer=ee.Reducer.mode(), maxPixels=10000\n",
    ").reproject(crs=hydro_proj)\n",
    "\n",
    "# Reproject the flooded image to match the DEM's projection\n",
    "dem_projection = dem.projection()\n",
    "flooded_reprojected = flooded.reproject(crs=dem_projection)\n",
    "\n",
    "\n",
    "san_jose = ee.Geometry.Polygon(\n",
    "    [\n",
    "        [\n",
    "            [-84.52073469866146, 9.554427321389259],\n",
    "            [-83.61258439158091, 9.554427321389259],\n",
    "            [-83.61258439158091, 10.280374182928231],\n",
    "            [-84.52073469866146, 10.280374182928231],\n",
    "            [-84.52073469866146, 9.554427321389259],\n",
    "        ]\n",
    "    ]\n",
    ")\n",
    "\n",
    "filename = \"../../outputs/test.tif\"\n",
    "\n",
    "geemap.ee_export_image(\n",
    "    flooded_reprojected, filename, scale=100, crs=dem_projection, region=san_jose\n",
    ")"
   ]
  }
 ],
 "metadata": {
  "kernelspec": {
   "display_name": "flood-mapping-RdsxPmyg-py3.9",
   "language": "python",
   "name": "python3"
  },
  "language_info": {
   "codemirror_mode": {
    "name": "ipython",
    "version": 3
   },
   "file_extension": ".py",
   "mimetype": "text/x-python",
   "name": "python",
   "nbconvert_exporter": "python",
   "pygments_lexer": "ipython3",
   "version": "3.9.0"
  }
 },
 "nbformat": 4,
 "nbformat_minor": 2
}
