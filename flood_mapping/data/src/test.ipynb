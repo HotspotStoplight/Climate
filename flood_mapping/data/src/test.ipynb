{
 "cells": [
  {
   "cell_type": "code",
   "execution_count": 4,
   "metadata": {},
   "outputs": [],
   "source": [
    "import ee\n",
    "import colorcet\n",
    "from matplotlib.cm import get_cmap\n",
    "import geemap\n",
    "\n",
    "ee.Initialize(project='hotspotstoplight')"
   ]
  },
  {
   "cell_type": "code",
   "execution_count": 5,
   "metadata": {},
   "outputs": [
    {
     "data": {
      "text/html": [
       "\n",
       "            <style>\n",
       "                .geemap-dark {\n",
       "                    --jp-widgets-color: white;\n",
       "                    --jp-widgets-label-color: white;\n",
       "                    --jp-ui-font-color1: white;\n",
       "                    --jp-layout-color2: #454545;\n",
       "                    background-color: #383838;\n",
       "                }\n",
       "                    \n",
       "                .geemap-dark .jupyter-button {\n",
       "                    --jp-layout-color3: #383838;\n",
       "                }\n",
       "                \n",
       "                .geemap-colab {\n",
       "                    background-color: var(--colab-primary-surface-color, white);\n",
       "                }\n",
       "                    \n",
       "                .geemap-colab .jupyter-button {\n",
       "                    --jp-layout-color3: var(--colab-primary-surface-color, white);\n",
       "                }\n",
       "            </style>\n",
       "            "
      ],
      "text/plain": [
       "<IPython.core.display.HTML object>"
      ]
     },
     "metadata": {},
     "output_type": "display_data"
    }
   ],
   "source": [
    "bbox = ee.Geometry.Polygon( # all of costa rica\n",
    "    [[\n",
    "        [-85.9, 8.0],  # Lower left corner (southwest)\n",
    "        [-85.9, 11.2], # Upper left corner (northwest)\n",
    "        [-82.5, 11.2], # Upper right corner (northeast)\n",
    "        [-82.5, 8.0],  # Lower right corner (southeast)\n",
    "        [-85.9, 8.0]   # Closing the polygon by repeating the first point\n",
    "    ]]\n",
    ")"
   ]
  },
  {
   "cell_type": "code",
   "execution_count": 6,
   "metadata": {},
   "outputs": [
    {
     "data": {
      "text/html": [
       "\n",
       "            <style>\n",
       "                .geemap-dark {\n",
       "                    --jp-widgets-color: white;\n",
       "                    --jp-widgets-label-color: white;\n",
       "                    --jp-ui-font-color1: white;\n",
       "                    --jp-layout-color2: #454545;\n",
       "                    background-color: #383838;\n",
       "                }\n",
       "                    \n",
       "                .geemap-dark .jupyter-button {\n",
       "                    --jp-layout-color3: #383838;\n",
       "                }\n",
       "                \n",
       "                .geemap-colab {\n",
       "                    background-color: var(--colab-primary-surface-color, white);\n",
       "                }\n",
       "                    \n",
       "                .geemap-colab .jupyter-button {\n",
       "                    --jp-layout-color3: var(--colab-primary-surface-color, white);\n",
       "                }\n",
       "            </style>\n",
       "            "
      ],
      "text/plain": [
       "<IPython.core.display.HTML object>"
      ]
     },
     "metadata": {},
     "output_type": "display_data"
    }
   ],
   "source": [
    "URL = 'gs://hotspotstoplight_floodmapping/data/costa_rica/outputs/flood_prob.tif'\n",
    "image = geemap.load_GeoTIFF(URL)"
   ]
  },
  {
   "cell_type": "code",
   "execution_count": 11,
   "metadata": {},
   "outputs": [
    {
     "data": {
      "text/html": [
       "\n",
       "            <style>\n",
       "                .geemap-dark {\n",
       "                    --jp-widgets-color: white;\n",
       "                    --jp-widgets-label-color: white;\n",
       "                    --jp-ui-font-color1: white;\n",
       "                    --jp-layout-color2: #454545;\n",
       "                    background-color: #383838;\n",
       "                }\n",
       "                    \n",
       "                .geemap-dark .jupyter-button {\n",
       "                    --jp-layout-color3: #383838;\n",
       "                }\n",
       "                \n",
       "                .geemap-colab {\n",
       "                    background-color: var(--colab-primary-surface-color, white);\n",
       "                }\n",
       "                    \n",
       "                .geemap-colab .jupyter-button {\n",
       "                    --jp-layout-color3: var(--colab-primary-surface-color, white);\n",
       "                }\n",
       "            </style>\n",
       "            "
      ],
      "text/plain": [
       "<IPython.core.display.HTML object>"
      ]
     },
     "metadata": {},
     "output_type": "display_data"
    }
   ],
   "source": [
    "def z_score_normalize(image, bbox):\n",
    "    mean = image.reduceRegion(reducer=ee.Reducer.mean(), geometry=bbox, scale=30, maxPixels=1e13).getNumber(image.bandNames().get(0))\n",
    "    std_dev = image.reduceRegion(reducer=ee.Reducer.stdDev(), geometry=bbox, scale=30, maxPixels=1e13).getNumber(image.bandNames().get(0))\n",
    "    return image.subtract(mean).divide(std_dev)\n",
    "\n",
    "def make_vulnerability_data(bbox):\n",
    "    print(\"Generating vulnerability data...\")\n",
    "\n",
    "    gdp_per_capita = ee.Image(\"projects/sat-io/open-datasets/GRIDDED_HDI_GDP/GDP_per_capita_PPP_1990_2015_v2\").select('b1').clip(bbox)\n",
    "    hdi_30arc = ee.Image(\"projects/sat-io/open-datasets/GRIDDED_HDI_GDP/HDI_1990_2015_v2\").select('b1').clip(bbox)\n",
    "    population = ee.ImageCollection(\"projects/sat-io/open-datasets/hrsl/hrslpop\").median().clip(bbox)\n",
    "\n",
    "    # First, multiply GDP by HDI and then Z-score normalize the results\n",
    "    gdp_hdi_product = gdp_per_capita.multiply(hdi_30arc)\n",
    "    gdp_hdi_product_normalized = z_score_normalize(gdp_hdi_product, bbox)\n",
    "\n",
    "    # Second, Z-score normalize population\n",
    "    population_normalized = z_score_normalize(population, bbox)\n",
    "\n",
    "    # Then, divide population by the Z-scored product of GDP and HDI\n",
    "    vuln = population_normalized.divide(gdp_hdi_product_normalized).rename('vuln')\n",
    "\n",
    "    return vuln\n"
   ]
  },
  {
   "cell_type": "code",
   "execution_count": 12,
   "metadata": {},
   "outputs": [
    {
     "data": {
      "text/html": [
       "\n",
       "            <style>\n",
       "                .geemap-dark {\n",
       "                    --jp-widgets-color: white;\n",
       "                    --jp-widgets-label-color: white;\n",
       "                    --jp-ui-font-color1: white;\n",
       "                    --jp-layout-color2: #454545;\n",
       "                    background-color: #383838;\n",
       "                }\n",
       "                    \n",
       "                .geemap-dark .jupyter-button {\n",
       "                    --jp-layout-color3: #383838;\n",
       "                }\n",
       "                \n",
       "                .geemap-colab {\n",
       "                    background-color: var(--colab-primary-surface-color, white);\n",
       "                }\n",
       "                    \n",
       "                .geemap-colab .jupyter-button {\n",
       "                    --jp-layout-color3: var(--colab-primary-surface-color, white);\n",
       "                }\n",
       "            </style>\n",
       "            "
      ],
      "text/plain": [
       "<IPython.core.display.HTML object>"
      ]
     },
     "metadata": {},
     "output_type": "display_data"
    },
    {
     "name": "stdout",
     "output_type": "stream",
     "text": [
      "Generating vulnerability data...\n"
     ]
    }
   ],
   "source": [
    "vuln = make_vulnerability_data(bbox)"
   ]
  },
  {
   "cell_type": "code",
   "execution_count": 13,
   "metadata": {},
   "outputs": [
    {
     "data": {
      "text/html": [
       "\n",
       "            <style>\n",
       "                .geemap-dark {\n",
       "                    --jp-widgets-color: white;\n",
       "                    --jp-widgets-label-color: white;\n",
       "                    --jp-ui-font-color1: white;\n",
       "                    --jp-layout-color2: #454545;\n",
       "                    background-color: #383838;\n",
       "                }\n",
       "                    \n",
       "                .geemap-dark .jupyter-button {\n",
       "                    --jp-layout-color3: #383838;\n",
       "                }\n",
       "                \n",
       "                .geemap-colab {\n",
       "                    background-color: var(--colab-primary-surface-color, white);\n",
       "                }\n",
       "                    \n",
       "                .geemap-colab .jupyter-button {\n",
       "                    --jp-layout-color3: var(--colab-primary-surface-color, white);\n",
       "                }\n",
       "            </style>\n",
       "            "
      ],
      "text/plain": [
       "<IPython.core.display.HTML object>"
      ]
     },
     "metadata": {},
     "output_type": "display_data"
    },
    {
     "data": {
      "application/vnd.jupyter.widget-view+json": {
       "model_id": "0924fca527c74a649fe61b446707dad5",
       "version_major": 2,
       "version_minor": 0
      },
      "text/plain": [
       "Map(center=[8.354477700025758, -84.82327521031193], controls=(WidgetControl(options=['position', 'transparent_…"
      ]
     },
     "execution_count": 13,
     "metadata": {},
     "output_type": "execute_result"
    }
   ],
   "source": [
    "vizParamsProbability = {\n",
    "    'min': 0,\n",
    "    'max': 1,\n",
    "    'palette': colorcet.bky[::-1]\n",
    "}\n",
    "\n",
    "viz_params_pop = {\n",
    "    'min': 0,\n",
    "    'max': 1,\n",
    "    'palette': colorcet.gwv\n",
    "}\n",
    "\n",
    "viz_params_vuln = {\n",
    "    'min': -7,\n",
    "    'max': 17,\n",
    "    'palette': colorcet.bmy\n",
    "}\n",
    "\n",
    "\n",
    "Map = geemap.Map()\n",
    "Map.add(\"layer_manager\")\n",
    "Map.add(\"basemap_selector\")\n",
    "\n",
    "geometry = image.geometry()\n",
    "Map.centerObject(geometry, 8)\n",
    "Map.addLayer(image, vizParamsProbability, 'Flood Probability')\n",
    "# Map.addLayer(exp, viz_params_pop, \"Exposure Data\")\n",
    "Map.addLayer(vuln, viz_params_vuln, \"Vulnerability Data\")\n",
    "Map"
   ]
  }
 ],
 "metadata": {
  "kernelspec": {
   "display_name": "flood-mapping-XPc05Nfw-py3.9",
   "language": "python",
   "name": "python3"
  },
  "language_info": {
   "codemirror_mode": {
    "name": "ipython",
    "version": 3
   },
   "file_extension": ".py",
   "mimetype": "text/x-python",
   "name": "python",
   "nbconvert_exporter": "python",
   "pygments_lexer": "ipython3",
   "version": "3.9.0"
  }
 },
 "nbformat": 4,
 "nbformat_minor": 2
}
