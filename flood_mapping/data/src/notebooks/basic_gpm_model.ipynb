{
 "cells": [
  {
   "cell_type": "code",
   "execution_count": 1,
   "metadata": {},
   "outputs": [],
   "source": [
    "import ee\n",
    "import colorcet\n",
    "import geemap\n",
    "from datetime import datetime, timedelta\n",
    "import numpy as np\n",
    "import wxee"
   ]
  },
  {
   "cell_type": "code",
   "execution_count": 2,
   "metadata": {},
   "outputs": [
    {
     "data": {
      "text/html": [
       "\n",
       "            <style>\n",
       "                .geemap-dark {\n",
       "                    --jp-widgets-color: white;\n",
       "                    --jp-widgets-label-color: white;\n",
       "                    --jp-ui-font-color1: white;\n",
       "                    --jp-layout-color2: #454545;\n",
       "                    background-color: #383838;\n",
       "                }\n",
       "                    \n",
       "                .geemap-dark .jupyter-button {\n",
       "                    --jp-layout-color3: #383838;\n",
       "                }\n",
       "                \n",
       "                .geemap-colab {\n",
       "                    background-color: var(--colab-primary-surface-color, white);\n",
       "                }\n",
       "                    \n",
       "                .geemap-colab .jupyter-button {\n",
       "                    --jp-layout-color3: var(--colab-primary-surface-color, white);\n",
       "                }\n",
       "            </style>\n",
       "            "
      ],
      "text/plain": [
       "<IPython.core.display.HTML object>"
      ]
     },
     "metadata": {},
     "output_type": "display_data"
    },
    {
     "data": {
      "text/plain": [
       "True"
      ]
     },
     "execution_count": 2,
     "metadata": {},
     "output_type": "execute_result"
    }
   ],
   "source": [
    "ee.Authenticate()"
   ]
  },
  {
   "cell_type": "code",
   "execution_count": 3,
   "metadata": {},
   "outputs": [
    {
     "data": {
      "text/html": [
       "\n",
       "            <style>\n",
       "                .geemap-dark {\n",
       "                    --jp-widgets-color: white;\n",
       "                    --jp-widgets-label-color: white;\n",
       "                    --jp-ui-font-color1: white;\n",
       "                    --jp-layout-color2: #454545;\n",
       "                    background-color: #383838;\n",
       "                }\n",
       "                    \n",
       "                .geemap-dark .jupyter-button {\n",
       "                    --jp-layout-color3: #383838;\n",
       "                }\n",
       "                \n",
       "                .geemap-colab {\n",
       "                    background-color: var(--colab-primary-surface-color, white);\n",
       "                }\n",
       "                    \n",
       "                .geemap-colab .jupyter-button {\n",
       "                    --jp-layout-color3: var(--colab-primary-surface-color, white);\n",
       "                }\n",
       "            </style>\n",
       "            "
      ],
      "text/plain": [
       "<IPython.core.display.HTML object>"
      ]
     },
     "metadata": {},
     "output_type": "display_data"
    }
   ],
   "source": [
    "ee.Initialize(project='hotspotstoplight')"
   ]
  },
  {
   "cell_type": "code",
   "execution_count": 4,
   "metadata": {},
   "outputs": [
    {
     "data": {
      "text/html": [
       "\n",
       "            <style>\n",
       "                .geemap-dark {\n",
       "                    --jp-widgets-color: white;\n",
       "                    --jp-widgets-label-color: white;\n",
       "                    --jp-ui-font-color1: white;\n",
       "                    --jp-layout-color2: #454545;\n",
       "                    background-color: #383838;\n",
       "                }\n",
       "                    \n",
       "                .geemap-dark .jupyter-button {\n",
       "                    --jp-layout-color3: #383838;\n",
       "                }\n",
       "                \n",
       "                .geemap-colab {\n",
       "                    background-color: var(--colab-primary-surface-color, white);\n",
       "                }\n",
       "                    \n",
       "                .geemap-colab .jupyter-button {\n",
       "                    --jp-layout-color3: var(--colab-primary-surface-color, white);\n",
       "                }\n",
       "            </style>\n",
       "            "
      ],
      "text/plain": [
       "<IPython.core.display.HTML object>"
      ]
     },
     "metadata": {},
     "output_type": "display_data"
    }
   ],
   "source": [
    "bbox = ee.Geometry.Polygon([\n",
    "    [\n",
    "        [-85.9, 8.0],  # Lower left corner (southwest), moved south\n",
    "        [-85.9, 11.2], # Upper left corner (northwest), moved north\n",
    "        [-82.5, 11.2], # Upper right corner (northeast), moved north\n",
    "        [-82.5, 8.0],  # Lower right corner (southeast), moved south\n",
    "        [-85.9, 8.0]   # Closing the polygon by repeating the first point, moved south\n",
    "    ]\n",
    "])\n",
    "\n",
    "start_date = '2021-07-22'\n",
    "end_date = '2021-07-28'\n",
    "start_date = datetime.strptime(start_date, \"%Y-%m-%d\")\n",
    "end_date = datetime.strptime(end_date, \"%Y-%m-%d\")\n",
    "\n",
    "year_before_start = start_date - timedelta(days=365)\n",
    "start_of_year = datetime(year_before_start.year, 1, 1)\n",
    "end_of_year = datetime(year_before_start.year, 12, 31)"
   ]
  },
  {
   "cell_type": "code",
   "execution_count": 5,
   "metadata": {},
   "outputs": [
    {
     "data": {
      "text/html": [
       "\n",
       "            <style>\n",
       "                .geemap-dark {\n",
       "                    --jp-widgets-color: white;\n",
       "                    --jp-widgets-label-color: white;\n",
       "                    --jp-ui-font-color1: white;\n",
       "                    --jp-layout-color2: #454545;\n",
       "                    background-color: #383838;\n",
       "                }\n",
       "                    \n",
       "                .geemap-dark .jupyter-button {\n",
       "                    --jp-layout-color3: #383838;\n",
       "                }\n",
       "                \n",
       "                .geemap-colab {\n",
       "                    background-color: var(--colab-primary-surface-color, white);\n",
       "                }\n",
       "                    \n",
       "                .geemap-colab .jupyter-button {\n",
       "                    --jp-layout-color3: var(--colab-primary-surface-color, white);\n",
       "                }\n",
       "            </style>\n",
       "            "
      ],
      "text/plain": [
       "<IPython.core.display.HTML object>"
      ]
     },
     "metadata": {},
     "output_type": "display_data"
    }
   ],
   "source": [
    "# Load the datasets\n",
    "dem = ee.Image('WWF/HydroSHEDS/03VFDEM').clip(bbox)\n",
    "slope = ee.Terrain.slope(dem)\n",
    "landcover = ee.Image(\"ESA/WorldCover/v100/2020\").select('Map').clip(bbox)\n",
    "flow_direction = ee.Image('WWF/HydroSHEDS/03DIR').clip(bbox)\n",
    "ghsl = ee.Image(\"JRC/GHSL/P2023A/GHS_BUILT_C/2018\").clip(bbox)"
   ]
  },
  {
   "cell_type": "code",
   "execution_count": 6,
   "metadata": {},
   "outputs": [
    {
     "data": {
      "text/html": [
       "\n",
       "            <style>\n",
       "                .geemap-dark {\n",
       "                    --jp-widgets-color: white;\n",
       "                    --jp-widgets-label-color: white;\n",
       "                    --jp-ui-font-color1: white;\n",
       "                    --jp-layout-color2: #454545;\n",
       "                    background-color: #383838;\n",
       "                }\n",
       "                    \n",
       "                .geemap-dark .jupyter-button {\n",
       "                    --jp-layout-color3: #383838;\n",
       "                }\n",
       "                \n",
       "                .geemap-colab {\n",
       "                    background-color: var(--colab-primary-surface-color, white);\n",
       "                }\n",
       "                    \n",
       "                .geemap-colab .jupyter-button {\n",
       "                    --jp-layout-color3: var(--colab-primary-surface-color, white);\n",
       "                }\n",
       "            </style>\n",
       "            "
      ],
      "text/plain": [
       "<IPython.core.display.HTML object>"
      ]
     },
     "metadata": {},
     "output_type": "display_data"
    }
   ],
   "source": [
    "stream_dist_proximity_collection = ee.ImageCollection(\"projects/sat-io/open-datasets/HYDROGRAPHY90/stream-outlet-distance/stream_dist_proximity\")\\\n",
    "    .filterBounds(bbox)\\\n",
    "    .mosaic()\n",
    "stream_dist_proximity = stream_dist_proximity_collection.clip(bbox).rename('stream_distance')\n",
    "\n",
    "flow_accumulation_collection = ee.ImageCollection(\"projects/sat-io/open-datasets/HYDROGRAPHY90/base-network-layers/flow_accumulation\")\\\n",
    "    .filterBounds(bbox)\\\n",
    "    .mosaic()\n",
    "flow_accumulation = flow_accumulation_collection.clip(bbox).rename('flow_accumulation')\n",
    "\n",
    "spi_collection = ee.ImageCollection(\"projects/sat-io/open-datasets/HYDROGRAPHY90/flow_index/spi\")\\\n",
    "    .filterBounds(bbox)\\\n",
    "    .mosaic()\n",
    "spi = spi_collection.clip(bbox).rename('spi')\n",
    "\n",
    "sti_collection = ee.ImageCollection(\"projects/sat-io/open-datasets/HYDROGRAPHY90/flow_index/sti\")\\\n",
    "    .filterBounds(bbox)\\\n",
    "    .mosaic()\n",
    "sti = sti_collection.clip(bbox).rename('sti')\n",
    "\n",
    "cti_collection = ee.ImageCollection(\"projects/sat-io/open-datasets/HYDROGRAPHY90/flow_index/cti\")\\\n",
    "    .filterBounds(bbox)\\\n",
    "    .mosaic()\n",
    "cti = cti_collection.clip(bbox).rename('cti')\n",
    "\n",
    "tpi_collection = ee.ImageCollection(\"projects/sat-io/open-datasets/Geomorpho90m/tpi\")\\\n",
    "    .filterBounds(bbox)\\\n",
    "    .mosaic()\n",
    "tpi = tpi_collection.clip(bbox).rename('tpi')\n",
    "\n",
    "tri_collection = ee.ImageCollection(\"projects/sat-io/open-datasets/Geomorpho90m/tri\")\\\n",
    "    .filterBounds(bbox)\\\n",
    "    .mosaic()\n",
    "tri = tri_collection.clip(bbox).rename('tri')\n",
    "\n",
    "pcurv_collection = ee.ImageCollection(\"projects/sat-io/open-datasets/Geomorpho90m/pcurv\")\\\n",
    "    .filterBounds(bbox)\\\n",
    "    .mosaic()\n",
    "pcurv = pcurv_collection.clip(bbox).rename('pcurv')\n",
    "\n",
    "tcurv_collection = ee.ImageCollection(\"projects/sat-io/open-datasets/Geomorpho90m/tcurv\")\\\n",
    "    .filterBounds(bbox)\\\n",
    "    .mosaic()\n",
    "tcurv = tcurv_collection.clip(bbox).rename('tcurv')\n",
    "\n",
    "aspect_collection = ee.ImageCollection(\"projects/sat-io/open-datasets/Geomorpho90m/aspect\")\\\n",
    "    .filterBounds(bbox)\\\n",
    "    .mosaic()\n",
    "aspect = aspect_collection.clip(bbox).rename('aspect')"
   ]
  },
  {
   "cell_type": "code",
   "execution_count": 7,
   "metadata": {},
   "outputs": [
    {
     "data": {
      "text/html": [
       "\n",
       "            <style>\n",
       "                .geemap-dark {\n",
       "                    --jp-widgets-color: white;\n",
       "                    --jp-widgets-label-color: white;\n",
       "                    --jp-ui-font-color1: white;\n",
       "                    --jp-layout-color2: #454545;\n",
       "                    background-color: #383838;\n",
       "                }\n",
       "                    \n",
       "                .geemap-dark .jupyter-button {\n",
       "                    --jp-layout-color3: #383838;\n",
       "                }\n",
       "                \n",
       "                .geemap-colab {\n",
       "                    background-color: var(--colab-primary-surface-color, white);\n",
       "                }\n",
       "                    \n",
       "                .geemap-colab .jupyter-button {\n",
       "                    --jp-layout-color3: var(--colab-primary-surface-color, white);\n",
       "                }\n",
       "            </style>\n",
       "            "
      ],
      "text/plain": [
       "<IPython.core.display.HTML object>"
      ]
     },
     "metadata": {},
     "output_type": "display_data"
    }
   ],
   "source": [
    "# Load the precipitation data.\n",
    "precipitation_data = ee.ImageCollection(\"NASA/GDDP-CMIP6\") \\\n",
    "    .filterBounds(bbox) \\\n",
    "    .filterDate(start_of_year, end_of_year) \\\n",
    "    .select('pr') \\\n",
    "    .filter(ee.Filter.eq('model', 'ACCESS-CM2'))\n",
    "\n",
    "# Function to compute max precipitation for a given month and assign a unique band name.\n",
    "def get_max_precip_for_month(month):\n",
    "    # Filter the collection for the given month.\n",
    "    filtered_month = precipitation_data.filter(ee.Filter.calendarRange(month, month, 'month'))\n",
    "    # Compute the maximum precipitation for the month.\n",
    "    max_precip = filtered_month.max()\n",
    "    # Rename the band to 'max_precip_MM', ensuring month is formatted with two digits.\n",
    "    band_name = ee.String('max_precip_').cat(ee.Number(month).format('%02d'))\n",
    "    return max_precip.rename(band_name)\n",
    "\n",
    "# Use a loop to apply this function for each month and combine the results.\n",
    "max_precip_bands = [get_max_precip_for_month(month) for month in range(1, 13)]\n",
    "\n",
    "# Initialize an empty image (without the 'constant' band issue).\n",
    "combined_max_precip_image = ee.Image(max_precip_bands[0])\n",
    "\n",
    "# Add the rest of the monthly max bands to the combined image.\n",
    "for band_image in max_precip_bands[1:]:\n",
    "    combined_max_precip_image = combined_max_precip_image.addBands(band_image)\n",
    "\n",
    "# Now, `combined_max_precip_image` should have 12 bands, each named for a month's max precip."
   ]
  },
  {
   "cell_type": "code",
   "execution_count": 8,
   "metadata": {},
   "outputs": [
    {
     "data": {
      "text/html": [
       "\n",
       "            <style>\n",
       "                .geemap-dark {\n",
       "                    --jp-widgets-color: white;\n",
       "                    --jp-widgets-label-color: white;\n",
       "                    --jp-ui-font-color1: white;\n",
       "                    --jp-layout-color2: #454545;\n",
       "                    background-color: #383838;\n",
       "                }\n",
       "                    \n",
       "                .geemap-dark .jupyter-button {\n",
       "                    --jp-layout-color3: #383838;\n",
       "                }\n",
       "                \n",
       "                .geemap-colab {\n",
       "                    background-color: var(--colab-primary-surface-color, white);\n",
       "                }\n",
       "                    \n",
       "                .geemap-colab .jupyter-button {\n",
       "                    --jp-layout-color3: var(--colab-primary-surface-color, white);\n",
       "                }\n",
       "            </style>\n",
       "            "
      ],
      "text/plain": [
       "<IPython.core.display.HTML object>"
      ]
     },
     "metadata": {},
     "output_type": "display_data"
    }
   ],
   "source": [
    "stream_dist_proximity_collection = ee.ImageCollection(\"projects/sat-io/open-datasets/HYDROGRAPHY90/stream-outlet-distance/stream_dist_proximity\")\\\n",
    "    .filterBounds(bbox)\\\n",
    "    .mosaic()\n",
    "stream_dist_proximity = stream_dist_proximity_collection.clip(bbox).rename('stream_distance')\n",
    "\n",
    "hydro_proj = stream_dist_proximity.projection()\n",
    "\n",
    "## set time frame\n",
    "before_start= '2023-09-25'\n",
    "before_end='2023-10-05'\n",
    "\n",
    "after_start='2023-10-05'\n",
    "after_end='2023-10-15'\n",
    "\n",
    "# SET SAR PARAMETERS (can be left default)\n",
    "\n",
    "# Polarization (choose either \"VH\" or \"VV\")\n",
    "polarization = \"VH\"  # or \"VV\"\n",
    "\n",
    "# Pass direction (choose either \"DESCENDING\" or \"ASCENDING\")\n",
    "pass_direction = \"DESCENDING\"  # or \"ASCENDING\"\n",
    "\n",
    "# Difference threshold to be applied on the difference image (after flood - before flood)\n",
    "# It has been chosen by trial and error. Adjust as needed.\n",
    "difference_threshold = 1.25\n",
    "\n",
    "# Relative orbit (optional, if you know the relative orbit for your study area)\n",
    "# relative_orbit = 79\n",
    "\n",
    "# Rename the selected geometry feature\n",
    "aoi = bbox\n",
    "\n",
    "# Load and filter Sentinel-1 GRD data by predefined parameters\n",
    "collection = ee.ImageCollection('COPERNICUS/S1_GRD') \\\n",
    "    .filter(ee.Filter.eq('instrumentMode', 'IW')) \\\n",
    "    .filter(ee.Filter.listContains('transmitterReceiverPolarisation', polarization)) \\\n",
    "    .filter(ee.Filter.eq('orbitProperties_pass', pass_direction)) \\\n",
    "    .filter(ee.Filter.eq('resolution_meters', 10)) \\\n",
    "    .filterBounds(aoi) \\\n",
    "    .select(polarization)\n",
    "\n",
    "# Select images by predefined dates\n",
    "before_collection = collection.filterDate(before_start, before_end)\n",
    "after_collection = collection.filterDate(after_start, after_end)\n",
    "\n",
    "# Create a mosaic of selected tiles and clip to the study area\n",
    "before = before_collection.mosaic().clip(aoi)\n",
    "after = after_collection.mosaic().clip(aoi)\n",
    "\n",
    "# Apply radar speckle reduction by smoothing\n",
    "smoothing_radius = 50\n",
    "before_filtered = before.focal_mean(smoothing_radius, 'circle', 'meters')\n",
    "after_filtered = after.focal_mean(smoothing_radius, 'circle', 'meters')\n",
    "\n",
    "# Calculate the difference between the before and after images\n",
    "difference = after_filtered.divide(before_filtered)\n",
    "\n",
    "# Apply the predefined difference-threshold and create the flood extent mask\n",
    "threshold = difference_threshold\n",
    "difference_binary = difference.gt(threshold)\n",
    "\n",
    "# Refine the flood result using additional datasets\n",
    "swater = ee.Image('JRC/GSW1_0/GlobalSurfaceWater').select('seasonality')\n",
    "swater_mask = swater.gte(10).updateMask(swater.gte(10))\n",
    "flooded_mask = difference_binary.where(swater_mask, 0)\n",
    "flooded = flooded_mask.updateMask(flooded_mask)\n",
    "connections = flooded.connectedPixelCount()\n",
    "flooded = flooded.updateMask(connections.gte(8))"
   ]
  },
  {
   "cell_type": "code",
   "execution_count": 9,
   "metadata": {},
   "outputs": [
    {
     "data": {
      "text/html": [
       "\n",
       "            <style>\n",
       "                .geemap-dark {\n",
       "                    --jp-widgets-color: white;\n",
       "                    --jp-widgets-label-color: white;\n",
       "                    --jp-ui-font-color1: white;\n",
       "                    --jp-layout-color2: #454545;\n",
       "                    background-color: #383838;\n",
       "                }\n",
       "                    \n",
       "                .geemap-dark .jupyter-button {\n",
       "                    --jp-layout-color3: #383838;\n",
       "                }\n",
       "                \n",
       "                .geemap-colab {\n",
       "                    background-color: var(--colab-primary-surface-color, white);\n",
       "                }\n",
       "                    \n",
       "                .geemap-colab .jupyter-button {\n",
       "                    --jp-layout-color3: var(--colab-primary-surface-color, white);\n",
       "                }\n",
       "            </style>\n",
       "            "
      ],
      "text/plain": [
       "<IPython.core.display.HTML object>"
      ]
     },
     "metadata": {},
     "output_type": "display_data"
    }
   ],
   "source": [
    "# Mask out areas with more than 5 percent slope using a Digital Elevation Model\n",
    "DEM = ee.Image('WWF/HydroSHEDS/03VFDEM')\n",
    "terrain = ee.Algorithms.Terrain(DEM)\n",
    "SLOPE = terrain.select('slope')\n",
    "flooded = flooded.updateMask(SLOPE.lt(5))\n",
    "\n",
    "# Set the default projection from the hydrography dataset\n",
    "flooded = flooded.setDefaultProjection(hydro_proj)\n",
    "\n",
    "# Now, reduce the resolution\n",
    "flooded_mode = flooded.reduceResolution(\n",
    "    reducer=ee.Reducer.mode(),\n",
    "    maxPixels=10000\n",
    ").reproject(\n",
    "    crs=hydro_proj\n",
    ")"
   ]
  },
  {
   "cell_type": "code",
   "execution_count": 10,
   "metadata": {},
   "outputs": [
    {
     "data": {
      "text/html": [
       "\n",
       "            <style>\n",
       "                .geemap-dark {\n",
       "                    --jp-widgets-color: white;\n",
       "                    --jp-widgets-label-color: white;\n",
       "                    --jp-ui-font-color1: white;\n",
       "                    --jp-layout-color2: #454545;\n",
       "                    background-color: #383838;\n",
       "                }\n",
       "                    \n",
       "                .geemap-dark .jupyter-button {\n",
       "                    --jp-layout-color3: #383838;\n",
       "                }\n",
       "                \n",
       "                .geemap-colab {\n",
       "                    background-color: var(--colab-primary-surface-color, white);\n",
       "                }\n",
       "                    \n",
       "                .geemap-colab .jupyter-button {\n",
       "                    --jp-layout-color3: var(--colab-primary-surface-color, white);\n",
       "                }\n",
       "            </style>\n",
       "            "
      ],
      "text/plain": [
       "<IPython.core.display.HTML object>"
      ]
     },
     "metadata": {},
     "output_type": "display_data"
    }
   ],
   "source": [
    "# Create a full-area mask, initially marking everything as non-flooded (value 0)\n",
    "full_area_mask = ee.Image.constant(0).clip(aoi)\n",
    "\n",
    "# Update the mask to mark flooded areas (value 1)\n",
    "# Assuming flooded_mode is a binary image with 1 for flooded areas and 0 elsewhere\n",
    "flood_labeled_image = full_area_mask.where(flooded, 1)\n",
    "\n",
    "# Now flood_labeled_image contains 1 for flooded areas and 0 for non-flooded areas"
   ]
  },
  {
   "cell_type": "code",
   "execution_count": 11,
   "metadata": {},
   "outputs": [
    {
     "data": {
      "text/html": [
       "\n",
       "            <style>\n",
       "                .geemap-dark {\n",
       "                    --jp-widgets-color: white;\n",
       "                    --jp-widgets-label-color: white;\n",
       "                    --jp-ui-font-color1: white;\n",
       "                    --jp-layout-color2: #454545;\n",
       "                    background-color: #383838;\n",
       "                }\n",
       "                    \n",
       "                .geemap-dark .jupyter-button {\n",
       "                    --jp-layout-color3: #383838;\n",
       "                }\n",
       "                \n",
       "                .geemap-colab {\n",
       "                    background-color: var(--colab-primary-surface-color, white);\n",
       "                }\n",
       "                    \n",
       "                .geemap-colab .jupyter-button {\n",
       "                    --jp-layout-color3: var(--colab-primary-surface-color, white);\n",
       "                }\n",
       "            </style>\n",
       "            "
      ],
      "text/plain": [
       "<IPython.core.display.HTML object>"
      ]
     },
     "metadata": {},
     "output_type": "display_data"
    }
   ],
   "source": [
    "combined = (dem.rename(\"elevation\")\n",
    "        .addBands(landcover.select('Map').rename(\"landcover\"))\n",
    "        .addBands(slope)\n",
    "        .addBands(ghsl)\n",
    "        .addBands(flow_direction.rename(\"flow_direction\"))\n",
    "        .addBands(stream_dist_proximity)\n",
    "        .addBands(flood_labeled_image.rename(\"flooded_mask\"))\n",
    "        .addBands(flow_accumulation)\n",
    "        .addBands(spi)\n",
    "        .addBands(sti)\n",
    "        .addBands(cti)\n",
    "        .addBands(tpi)\n",
    "        .addBands(tri)\n",
    "        .addBands(pcurv)\n",
    "        .addBands(tcurv)\n",
    "        .addBands(aspect)\n",
    "        )\n",
    "\n",
    "# Add each max_precip_per_month band individually.\n",
    "# for month in range(1, 13):\n",
    "   #  month_str = f\"{month:02d}\"  # Formats the month as a two-digit string.\n",
    "    # band_name = f\"max_precip_{month_str}\"  # Constructs the band name, e.g., \"max_precip_01\".\n",
    "    # combined = combined.addBands(combined_max_precip_image.select([band_name]).rename(f\"max_precip_{month_str}\"))\n"
   ]
  },
  {
   "cell_type": "code",
   "execution_count": 12,
   "metadata": {},
   "outputs": [
    {
     "data": {
      "text/html": [
       "\n",
       "            <style>\n",
       "                .geemap-dark {\n",
       "                    --jp-widgets-color: white;\n",
       "                    --jp-widgets-label-color: white;\n",
       "                    --jp-ui-font-color1: white;\n",
       "                    --jp-layout-color2: #454545;\n",
       "                    background-color: #383838;\n",
       "                }\n",
       "                    \n",
       "                .geemap-dark .jupyter-button {\n",
       "                    --jp-layout-color3: #383838;\n",
       "                }\n",
       "                \n",
       "                .geemap-colab {\n",
       "                    background-color: var(--colab-primary-surface-color, white);\n",
       "                }\n",
       "                    \n",
       "                .geemap-colab .jupyter-button {\n",
       "                    --jp-layout-color3: var(--colab-primary-surface-color, white);\n",
       "                }\n",
       "            </style>\n",
       "            "
      ],
      "text/plain": [
       "<IPython.core.display.HTML object>"
      ]
     },
     "metadata": {},
     "output_type": "display_data"
    },
    {
     "data": {
      "text/plain": [
       "['elevation',\n",
       " 'landcover',\n",
       " 'slope',\n",
       " 'built_characteristics',\n",
       " 'flow_direction',\n",
       " 'stream_distance',\n",
       " 'flooded_mask',\n",
       " 'flow_accumulation',\n",
       " 'spi',\n",
       " 'sti',\n",
       " 'cti',\n",
       " 'tpi',\n",
       " 'tri',\n",
       " 'pcurv',\n",
       " 'tcurv',\n",
       " 'aspect']"
      ]
     },
     "execution_count": 12,
     "metadata": {},
     "output_type": "execute_result"
    }
   ],
   "source": [
    "combined.bandNames().getInfo()"
   ]
  },
  {
   "cell_type": "code",
   "execution_count": 13,
   "metadata": {},
   "outputs": [
    {
     "data": {
      "text/html": [
       "\n",
       "            <style>\n",
       "                .geemap-dark {\n",
       "                    --jp-widgets-color: white;\n",
       "                    --jp-widgets-label-color: white;\n",
       "                    --jp-ui-font-color1: white;\n",
       "                    --jp-layout-color2: #454545;\n",
       "                    background-color: #383838;\n",
       "                }\n",
       "                    \n",
       "                .geemap-dark .jupyter-button {\n",
       "                    --jp-layout-color3: #383838;\n",
       "                }\n",
       "                \n",
       "                .geemap-colab {\n",
       "                    background-color: var(--colab-primary-surface-color, white);\n",
       "                }\n",
       "                    \n",
       "                .geemap-colab .jupyter-button {\n",
       "                    --jp-layout-color3: var(--colab-primary-surface-color, white);\n",
       "                }\n",
       "            </style>\n",
       "            "
      ],
      "text/plain": [
       "<IPython.core.display.HTML object>"
      ]
     },
     "metadata": {},
     "output_type": "display_data"
    },
    {
     "name": "stdout",
     "output_type": "stream",
     "text": [
      "Counter({10: 3458, 80: 2222, 30: 936, 40: 70, 95: 39, 50: 36, 20: 24, 90: 23, 60: 20})\n"
     ]
    }
   ],
   "source": [
    "sample = landcover.sample(\n",
    "  region=bbox,\n",
    "  scale=10,  # Adjust as needed\n",
    "  numPixels=10000,\n",
    "  seed=0,\n",
    "  geometries=False\n",
    ")\n",
    "\n",
    "# Extract landcover class values from the sample\n",
    "# This assumes 'landcover' has a band named 'class' or similar that you're interested in\n",
    "# Adjust 'class' to the name of your landcover band\n",
    "sampled_values = sample.aggregate_array('Map').getInfo()\n",
    "\n",
    "# Use Python's set for unique values\n",
    "unique_values = set(sampled_values)\n",
    "\n",
    "# Get the sampled class band values as a list\n",
    "classValuesList = sample.aggregate_array('Map').getInfo()\n",
    "\n",
    "# Calculate the histogram (frequency of each class) using Python's collections.Counter\n",
    "from collections import Counter\n",
    "classHistogram = Counter(classValuesList)\n",
    "\n",
    "print(classHistogram)"
   ]
  },
  {
   "cell_type": "code",
   "execution_count": 14,
   "metadata": {},
   "outputs": [
    {
     "data": {
      "text/html": [
       "\n",
       "            <style>\n",
       "                .geemap-dark {\n",
       "                    --jp-widgets-color: white;\n",
       "                    --jp-widgets-label-color: white;\n",
       "                    --jp-ui-font-color1: white;\n",
       "                    --jp-layout-color2: #454545;\n",
       "                    background-color: #383838;\n",
       "                }\n",
       "                    \n",
       "                .geemap-dark .jupyter-button {\n",
       "                    --jp-layout-color3: #383838;\n",
       "                }\n",
       "                \n",
       "                .geemap-colab {\n",
       "                    background-color: var(--colab-primary-surface-color, white);\n",
       "                }\n",
       "                    \n",
       "                .geemap-colab .jupyter-button {\n",
       "                    --jp-layout-color3: var(--colab-primary-surface-color, white);\n",
       "                }\n",
       "            </style>\n",
       "            "
      ],
      "text/plain": [
       "<IPython.core.display.HTML object>"
      ]
     },
     "metadata": {},
     "output_type": "display_data"
    }
   ],
   "source": [
    "# Get all band names from the combined image\n",
    "allBandNames = combined.bandNames()\n",
    "\n",
    "# Remove the class band name ('flooded_full_mask') to get input properties\n",
    "inputProperties = allBandNames.filter(ee.Filter.neq('item', 'flooded_mask'))\n",
    "\n",
    "totalSamples = 100000  # Target number of samples\n",
    "totalSampled = sum(classHistogram.values())\n",
    "\n",
    "# Calculate sample sizes for each class\n",
    "sampleSizes = {cls: int((freq / totalSampled) * totalSamples) for cls, freq in classHistogram.items()}\n",
    "\n",
    "# Calculate the number of samples per class\n",
    "total_samples = 100000  # Total desired samples\n",
    "samples_per_class = total_samples // len(unique_values)  # Evenly distribute samples\n",
    "\n",
    "combined_samples = ee.FeatureCollection([])\n",
    "\n",
    "# Loop through each land cover class and its calculated sample size\n",
    "for landcover_class, size in sampleSizes.items():\n",
    "    # Ensure the class is correctly formatted for Earth Engine\n",
    "    landcover_class = int(landcover_class)\n",
    "    \n",
    "    # Perform stratified sampling for the filtered image\n",
    "    class_stratified_sample = combined.updateMask(\n",
    "        landcover.select('Map').eq(landcover_class)\n",
    "    ).stratifiedSample(\n",
    "        numPoints=size,\n",
    "        classBand='flooded_mask',\n",
    "        region=bbox,\n",
    "        scale=30,\n",
    "        seed=0,\n",
    "        geometries=True  # Set based on need\n",
    "    ).randomColumn()\n",
    "    \n",
    "    # Merge the samples from this class into the combined samples\n",
    "    combined_samples = combined_samples.merge(class_stratified_sample)\n",
    "\n",
    "# Randomly split the combined samples into training and testing datasets\n",
    "training = combined_samples.filter(ee.Filter.lt('random', 0.7))\n",
    "testing = combined_samples.filter(ee.Filter.gte('random', 0.7))"
   ]
  },
  {
   "cell_type": "code",
   "execution_count": 15,
   "metadata": {},
   "outputs": [
    {
     "data": {
      "text/html": [
       "\n",
       "            <style>\n",
       "                .geemap-dark {\n",
       "                    --jp-widgets-color: white;\n",
       "                    --jp-widgets-label-color: white;\n",
       "                    --jp-ui-font-color1: white;\n",
       "                    --jp-layout-color2: #454545;\n",
       "                    background-color: #383838;\n",
       "                }\n",
       "                    \n",
       "                .geemap-dark .jupyter-button {\n",
       "                    --jp-layout-color3: #383838;\n",
       "                }\n",
       "                \n",
       "                .geemap-colab {\n",
       "                    background-color: var(--colab-primary-surface-color, white);\n",
       "                }\n",
       "                    \n",
       "                .geemap-colab .jupyter-button {\n",
       "                    --jp-layout-color3: var(--colab-primary-surface-color, white);\n",
       "                }\n",
       "            </style>\n",
       "            "
      ],
      "text/plain": [
       "<IPython.core.display.HTML object>"
      ]
     },
     "metadata": {},
     "output_type": "display_data"
    },
    {
     "name": "stdout",
     "output_type": "stream",
     "text": [
      "Confusion Matrix: [[29526, 452], [838, 4936]]\n",
      "Accuracy: 0.9639181024837772\n",
      "Recall: 0.8548666435746449\n",
      "False Positive Rate: 0.015077723664020281\n"
     ]
    }
   ],
   "source": [
    "# Set up the Random Forest classifier for flood prediction\n",
    "classifier = ee.Classifier.smileRandomForest(10).train(\n",
    "    features=training,\n",
    "    classProperty='flooded_mask',  # Use 'flooded_full_mask' as the class property\n",
    "    inputProperties=inputProperties  # Dynamically generated input properties\n",
    ")\n",
    "\n",
    "# Classify the image\n",
    "classified = combined.select(inputProperties).classify(classifier)\n",
    "\n",
    "# Assess accuracy\n",
    "testAccuracy = testing.classify(classifier).errorMatrix('flooded_mask', 'classification')\n",
    "\n",
    "# Calculate accuracy\n",
    "accuracy = testAccuracy.accuracy().getInfo()\n",
    "\n",
    "# Convert the confusion matrix to an array\n",
    "confusionMatrixArray = testAccuracy.array().getInfo()\n",
    "\n",
    "# Calculate recall for the positive class (assuming '1' represents the positive class for flooding)\n",
    "true_positives = confusionMatrixArray[1][1]  # True positives\n",
    "false_negatives = confusionMatrixArray[1][0]  # False negatives\n",
    "false_positives = confusionMatrixArray[0][1]  # False positives (non-flooded incorrectly identified as flooded)\n",
    "true_negatives = confusionMatrixArray[0][0]  # True negatives (non-flooded correctly identified as non-flooded)\n",
    "recall = true_positives / (true_positives + false_negatives)\n",
    "false_positive_rate = false_positives / (false_positives + true_negatives)\n",
    "\n",
    "print('Confusion Matrix:', confusionMatrixArray)\n",
    "print('Accuracy:', accuracy)\n",
    "print('Recall:', recall)\n",
    "print('False Positive Rate:', false_positive_rate)"
   ]
  },
  {
   "cell_type": "code",
   "execution_count": 16,
   "metadata": {},
   "outputs": [
    {
     "data": {
      "text/html": [
       "\n",
       "            <style>\n",
       "                .geemap-dark {\n",
       "                    --jp-widgets-color: white;\n",
       "                    --jp-widgets-label-color: white;\n",
       "                    --jp-ui-font-color1: white;\n",
       "                    --jp-layout-color2: #454545;\n",
       "                    background-color: #383838;\n",
       "                }\n",
       "                    \n",
       "                .geemap-dark .jupyter-button {\n",
       "                    --jp-layout-color3: #383838;\n",
       "                }\n",
       "                \n",
       "                .geemap-colab {\n",
       "                    background-color: var(--colab-primary-surface-color, white);\n",
       "                }\n",
       "                    \n",
       "                .geemap-colab .jupyter-button {\n",
       "                    --jp-layout-color3: var(--colab-primary-surface-color, white);\n",
       "                }\n",
       "            </style>\n",
       "            "
      ],
      "text/plain": [
       "<IPython.core.display.HTML object>"
      ]
     },
     "metadata": {},
     "output_type": "display_data"
    }
   ],
   "source": [
    "# Set up the Random Forest classifier for flood prediction with probability output\n",
    "classifier = ee.Classifier.smileRandomForest(10).setOutputMode('PROBABILITY').train(\n",
    "        features=training,\n",
    "        classProperty='flooded_mask',\n",
    "        inputProperties=inputProperties\n",
    "    )\n",
    "\n",
    "# Classify the image to get probabilities\n",
    "probabilityImage = combined.select(inputProperties).classify(classifier)\n",
    "\n",
    "# Visualization parameters for probability with white at the midpoint\n",
    "vizParamsProbability = {\n",
    "    'min': 0.,\n",
    "    'max': 1,\n",
    "    'palette': colorcet.bmw\n",
    "}\n",
    "\n",
    "# Create a binary mask based on the threshold.\n",
    "floodedMask = probabilityImage.gte(0.5)  # This creates a mask where flooded areas (probability >= 0.5) are 1, others are 0.\n",
    "\n",
    "# Visualization parameters for the binary mask, using orange for flooded areas.\n",
    "vizParamsFlooded = {\n",
    "    'min': 0,\n",
    "    'max': 1,\n",
    "    'palette': ['white', 'orange']  # 'white' for unflooded (0), 'orange' for flooded (1).\n",
    "}"
   ]
  },
  {
   "cell_type": "code",
   "execution_count": 17,
   "metadata": {},
   "outputs": [
    {
     "data": {
      "text/html": [
       "\n",
       "            <style>\n",
       "                .geemap-dark {\n",
       "                    --jp-widgets-color: white;\n",
       "                    --jp-widgets-label-color: white;\n",
       "                    --jp-ui-font-color1: white;\n",
       "                    --jp-layout-color2: #454545;\n",
       "                    background-color: #383838;\n",
       "                }\n",
       "                    \n",
       "                .geemap-dark .jupyter-button {\n",
       "                    --jp-layout-color3: #383838;\n",
       "                }\n",
       "                \n",
       "                .geemap-colab {\n",
       "                    background-color: var(--colab-primary-surface-color, white);\n",
       "                }\n",
       "                    \n",
       "                .geemap-colab .jupyter-button {\n",
       "                    --jp-layout-color3: var(--colab-primary-surface-color, white);\n",
       "                }\n",
       "            </style>\n",
       "            "
      ],
      "text/plain": [
       "<IPython.core.display.HTML object>"
      ]
     },
     "metadata": {},
     "output_type": "display_data"
    },
    {
     "data": {
      "application/vnd.jupyter.widget-view+json": {
       "model_id": "1abfea7cdbd0416185d1eab870e57ef1",
       "version_major": 2,
       "version_minor": 0
      },
      "text/plain": [
       "Map(center=[9.9333, -84.0833], controls=(WidgetControl(options=['position', 'transparent_bg'], widget=SearchDa…"
      ]
     },
     "execution_count": 17,
     "metadata": {},
     "output_type": "execute_result"
    }
   ],
   "source": [
    "m = geemap.Map()\n",
    "m.add(\"basemap_selector\")\n",
    "m.add(\"layer_manager\")\n",
    "\n",
    "# Center the map on San Jose, Costa Rica\n",
    "m.setCenter(-84.0833, 9.9333, 10)\n",
    "# m.addLayer(landcover, {}, 'ESA WorldCover 2020')\n",
    "m.addLayer(probabilityImage, vizParamsProbability, 'Flood Probability')\n",
    "m.addLayer(floodedMask, vizParamsFlooded, 'Flooded Areas')\n",
    "m.addLayer(swater_mask, {'palette': 'black'}, 'Permanent Surface Water')\n",
    "# Display the map\n",
    "m"
   ]
  }
 ],
 "metadata": {
  "kernelspec": {
   "display_name": ".venv",
   "language": "python",
   "name": "python3"
  },
  "language_info": {
   "codemirror_mode": {
    "name": "ipython",
    "version": 3
   },
   "file_extension": ".py",
   "mimetype": "text/x-python",
   "name": "python",
   "nbconvert_exporter": "python",
   "pygments_lexer": "ipython3",
   "version": "3.9.0"
  }
 },
 "nbformat": 4,
 "nbformat_minor": 2
}
